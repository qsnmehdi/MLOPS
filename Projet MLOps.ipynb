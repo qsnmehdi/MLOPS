{
 "cells": [
  {
   "cell_type": "markdown",
   "id": "9a803845",
   "metadata": {},
   "source": [
    "# Importation des bibliothèques nécessaire"
   ]
  },
  {
   "cell_type": "code",
   "execution_count": 18,
   "id": "e7534b3f",
   "metadata": {},
   "outputs": [],
   "source": [
    "import pandas as pd\n",
    "import numpy as np\n",
    "import matplotlib.pyplot as plt\n",
    "import seaborn as sns\n",
    "\n",
    "import optuna\n",
    "\n",
    "import xgboost as xgb\n",
    "\n",
    "from sklearn.preprocessing import OneHotEncoder\n",
    "from sklearn.preprocessing import LabelEncoder\n",
    "from sklearn.model_selection import train_test_split\n",
    "from sklearn.ensemble import RandomForestClassifier\n",
    "from sklearn.preprocessing import StandardScaler\n",
    "from sklearn.linear_model import LogisticRegression\n",
    "from sklearn.svm import SVC\n",
    "from sklearn.model_selection import GridSearchCV \n",
    "from sklearn.metrics import classification_report\n",
    "from sklearn.metrics import accuracy_score, recall_score, precision_score, f1_score\n",
    "from sklearn.ensemble import RandomForestClassifier\n",
    "from sklearn.ensemble import BaggingClassifier\n",
    "\n",
    "\n",
    "from imblearn.over_sampling import SMOTE\n",
    "from imblearn.over_sampling import RandomOverSampler\n",
    "from imblearn.pipeline import make_pipeline\n",
    "\n",
    "import tensorflow as tf\n",
    "from tensorflow.keras.layers import InputLayer, Dense, Flatten, Reshape\n",
    "from tensorflow.keras import Sequential\n",
    "import time\n",
    "from tqdm import tqdm\n",
    "\n"
   ]
  },
  {
   "cell_type": "markdown",
   "id": "2b492847",
   "metadata": {},
   "source": [
    "Nous enlevons les avertissements"
   ]
  },
  {
   "cell_type": "code",
   "execution_count": 19,
   "id": "154ac0f1",
   "metadata": {},
   "outputs": [],
   "source": [
    "import warnings\n",
    "warnings.filterwarnings('ignore')"
   ]
  },
  {
   "cell_type": "markdown",
   "id": "a3111f84",
   "metadata": {},
   "source": [
    "# Visualisation et exploration des données"
   ]
  },
  {
   "cell_type": "code",
   "execution_count": 20,
   "id": "dff5c79f",
   "metadata": {},
   "outputs": [],
   "source": [
    "# Lecture des données\n",
    "df = pd.read_csv(\"Projet_MLOps.csv\", sep=';')"
   ]
  },
  {
   "cell_type": "code",
   "execution_count": 21,
   "id": "05e20f94",
   "metadata": {
    "scrolled": true
   },
   "outputs": [
    {
     "data": {
      "text/html": [
       "<div>\n",
       "<style scoped>\n",
       "    .dataframe tbody tr th:only-of-type {\n",
       "        vertical-align: middle;\n",
       "    }\n",
       "\n",
       "    .dataframe tbody tr th {\n",
       "        vertical-align: top;\n",
       "    }\n",
       "\n",
       "    .dataframe thead th {\n",
       "        text-align: right;\n",
       "    }\n",
       "</style>\n",
       "<table border=\"1\" class=\"dataframe\">\n",
       "  <thead>\n",
       "    <tr style=\"text-align: right;\">\n",
       "      <th></th>\n",
       "      <th>bidder_id</th>\n",
       "      <th>bid_id</th>\n",
       "      <th>auction</th>\n",
       "      <th>merchandise</th>\n",
       "      <th>device</th>\n",
       "      <th>time</th>\n",
       "      <th>country</th>\n",
       "      <th>ip</th>\n",
       "      <th>url</th>\n",
       "      <th>payment_account</th>\n",
       "      <th>address</th>\n",
       "      <th>outcome</th>\n",
       "    </tr>\n",
       "  </thead>\n",
       "  <tbody>\n",
       "    <tr>\n",
       "      <th>0</th>\n",
       "      <td>001068c415025a009fee375a12cff4fcnht8y</td>\n",
       "      <td>7179832</td>\n",
       "      <td>4ifac</td>\n",
       "      <td>jewelry</td>\n",
       "      <td>phone561</td>\n",
       "      <td>5.140996e-308</td>\n",
       "      <td>bn</td>\n",
       "      <td>139.226.147.115</td>\n",
       "      <td>vasstdc27m7nks3</td>\n",
       "      <td>a3d2de7675556553a5f08e4c88d2c228iiasc</td>\n",
       "      <td>a3d2de7675556553a5f08e4c88d2c2282aj35</td>\n",
       "      <td>0</td>\n",
       "    </tr>\n",
       "    <tr>\n",
       "      <th>1</th>\n",
       "      <td>0030a2dd87ad2733e0873062e4f83954mkj86</td>\n",
       "      <td>6805028</td>\n",
       "      <td>obbny</td>\n",
       "      <td>mobile</td>\n",
       "      <td>phone313</td>\n",
       "      <td>5.139226e-308</td>\n",
       "      <td>ir</td>\n",
       "      <td>21.67.17.162</td>\n",
       "      <td>vnw40k8zzokijsv</td>\n",
       "      <td>a3d2de7675556553a5f08e4c88d2c228jem8t</td>\n",
       "      <td>f3bc67b04b43c3cebd1db5ed4941874c9br67</td>\n",
       "      <td>0</td>\n",
       "    </tr>\n",
       "    <tr>\n",
       "      <th>2</th>\n",
       "      <td>00a0517965f18610417ee784a05f494d4dw6e</td>\n",
       "      <td>2501797</td>\n",
       "      <td>l3o6q</td>\n",
       "      <td>books and music</td>\n",
       "      <td>phone451</td>\n",
       "      <td>5.067829e-308</td>\n",
       "      <td>bh</td>\n",
       "      <td>103.165.41.136</td>\n",
       "      <td>kk7rxe25ehseyci</td>\n",
       "      <td>52743ba515e9c1279ac76e19f00c0b001p3pm</td>\n",
       "      <td>7578f951008bd0b64528bf81b8578d5djy0uy</td>\n",
       "      <td>0</td>\n",
       "    </tr>\n",
       "    <tr>\n",
       "      <th>3</th>\n",
       "      <td>00a0517965f18610417ee784a05f494d4dw6e</td>\n",
       "      <td>2724778</td>\n",
       "      <td>du967</td>\n",
       "      <td>books and music</td>\n",
       "      <td>phone117</td>\n",
       "      <td>5.068704e-308</td>\n",
       "      <td>tr</td>\n",
       "      <td>239.250.228.152</td>\n",
       "      <td>iu2iu3k137vakme</td>\n",
       "      <td>52743ba515e9c1279ac76e19f00c0b001p3pm</td>\n",
       "      <td>7578f951008bd0b64528bf81b8578d5djy0uy</td>\n",
       "      <td>0</td>\n",
       "    </tr>\n",
       "    <tr>\n",
       "      <th>4</th>\n",
       "      <td>00a0517965f18610417ee784a05f494d4dw6e</td>\n",
       "      <td>2742648</td>\n",
       "      <td>wx3kf</td>\n",
       "      <td>books and music</td>\n",
       "      <td>phone16</td>\n",
       "      <td>5.068805e-308</td>\n",
       "      <td>in</td>\n",
       "      <td>255.108.248.101</td>\n",
       "      <td>u85yj2e7owkz6xp</td>\n",
       "      <td>52743ba515e9c1279ac76e19f00c0b001p3pm</td>\n",
       "      <td>7578f951008bd0b64528bf81b8578d5djy0uy</td>\n",
       "      <td>0</td>\n",
       "    </tr>\n",
       "    <tr>\n",
       "      <th>...</th>\n",
       "      <td>...</td>\n",
       "      <td>...</td>\n",
       "      <td>...</td>\n",
       "      <td>...</td>\n",
       "      <td>...</td>\n",
       "      <td>...</td>\n",
       "      <td>...</td>\n",
       "      <td>...</td>\n",
       "      <td>...</td>\n",
       "      <td>...</td>\n",
       "      <td>...</td>\n",
       "      <td>...</td>\n",
       "    </tr>\n",
       "    <tr>\n",
       "      <th>99995</th>\n",
       "      <td>0ad17aa9111f657d71cd3005599afc24fd44y</td>\n",
       "      <td>1411172</td>\n",
       "      <td>toxfq</td>\n",
       "      <td>mobile</td>\n",
       "      <td>phone1036</td>\n",
       "      <td>5.201503e-308</td>\n",
       "      <td>in</td>\n",
       "      <td>186.94.48.203</td>\n",
       "      <td>vasstdc27m7nks3</td>\n",
       "      <td>22cdb26663f071c00de61cc2dcde7b556rido</td>\n",
       "      <td>db147bf6056d00428b1bbf250c6e97594ewjy</td>\n",
       "      <td>1</td>\n",
       "    </tr>\n",
       "    <tr>\n",
       "      <th>99996</th>\n",
       "      <td>0ad17aa9111f657d71cd3005599afc24fd44y</td>\n",
       "      <td>1411587</td>\n",
       "      <td>ucb4u</td>\n",
       "      <td>mobile</td>\n",
       "      <td>phone127</td>\n",
       "      <td>5.201506e-308</td>\n",
       "      <td>in</td>\n",
       "      <td>119.27.26.126</td>\n",
       "      <td>vasstdc27m7nks3</td>\n",
       "      <td>22cdb26663f071c00de61cc2dcde7b556rido</td>\n",
       "      <td>db147bf6056d00428b1bbf250c6e97594ewjy</td>\n",
       "      <td>1</td>\n",
       "    </tr>\n",
       "    <tr>\n",
       "      <th>99997</th>\n",
       "      <td>0ad17aa9111f657d71cd3005599afc24fd44y</td>\n",
       "      <td>1411727</td>\n",
       "      <td>sg8yd</td>\n",
       "      <td>mobile</td>\n",
       "      <td>phone383</td>\n",
       "      <td>5.201507e-308</td>\n",
       "      <td>in</td>\n",
       "      <td>243.25.54.63</td>\n",
       "      <td>yweo7wfejrgbi2d</td>\n",
       "      <td>22cdb26663f071c00de61cc2dcde7b556rido</td>\n",
       "      <td>db147bf6056d00428b1bbf250c6e97594ewjy</td>\n",
       "      <td>1</td>\n",
       "    </tr>\n",
       "    <tr>\n",
       "      <th>99998</th>\n",
       "      <td>0ad17aa9111f657d71cd3005599afc24fd44y</td>\n",
       "      <td>1411877</td>\n",
       "      <td>toaj7</td>\n",
       "      <td>mobile</td>\n",
       "      <td>phone26</td>\n",
       "      <td>5.201508e-308</td>\n",
       "      <td>in</td>\n",
       "      <td>17.66.120.232</td>\n",
       "      <td>4dd8ei0o5oqsua3</td>\n",
       "      <td>22cdb26663f071c00de61cc2dcde7b556rido</td>\n",
       "      <td>db147bf6056d00428b1bbf250c6e97594ewjy</td>\n",
       "      <td>1</td>\n",
       "    </tr>\n",
       "    <tr>\n",
       "      <th>99999</th>\n",
       "      <td>0ad17aa9111f657d71cd3005599afc24fd44y</td>\n",
       "      <td>1412085</td>\n",
       "      <td>07axb</td>\n",
       "      <td>mobile</td>\n",
       "      <td>phone25</td>\n",
       "      <td>5.201509e-308</td>\n",
       "      <td>in</td>\n",
       "      <td>64.30.57.156</td>\n",
       "      <td>8zdkeqk4yby6lz2</td>\n",
       "      <td>22cdb26663f071c00de61cc2dcde7b556rido</td>\n",
       "      <td>db147bf6056d00428b1bbf250c6e97594ewjy</td>\n",
       "      <td>1</td>\n",
       "    </tr>\n",
       "  </tbody>\n",
       "</table>\n",
       "<p>100000 rows × 12 columns</p>\n",
       "</div>"
      ],
      "text/plain": [
       "                                   bidder_id   bid_id auction  \\\n",
       "0      001068c415025a009fee375a12cff4fcnht8y  7179832   4ifac   \n",
       "1      0030a2dd87ad2733e0873062e4f83954mkj86  6805028   obbny   \n",
       "2      00a0517965f18610417ee784a05f494d4dw6e  2501797   l3o6q   \n",
       "3      00a0517965f18610417ee784a05f494d4dw6e  2724778   du967   \n",
       "4      00a0517965f18610417ee784a05f494d4dw6e  2742648   wx3kf   \n",
       "...                                      ...      ...     ...   \n",
       "99995  0ad17aa9111f657d71cd3005599afc24fd44y  1411172   toxfq   \n",
       "99996  0ad17aa9111f657d71cd3005599afc24fd44y  1411587   ucb4u   \n",
       "99997  0ad17aa9111f657d71cd3005599afc24fd44y  1411727   sg8yd   \n",
       "99998  0ad17aa9111f657d71cd3005599afc24fd44y  1411877   toaj7   \n",
       "99999  0ad17aa9111f657d71cd3005599afc24fd44y  1412085   07axb   \n",
       "\n",
       "           merchandise     device           time country               ip  \\\n",
       "0              jewelry   phone561  5.140996e-308      bn  139.226.147.115   \n",
       "1               mobile   phone313  5.139226e-308      ir     21.67.17.162   \n",
       "2      books and music   phone451  5.067829e-308      bh   103.165.41.136   \n",
       "3      books and music   phone117  5.068704e-308      tr  239.250.228.152   \n",
       "4      books and music    phone16  5.068805e-308      in  255.108.248.101   \n",
       "...                ...        ...            ...     ...              ...   \n",
       "99995           mobile  phone1036  5.201503e-308      in    186.94.48.203   \n",
       "99996           mobile   phone127  5.201506e-308      in    119.27.26.126   \n",
       "99997           mobile   phone383  5.201507e-308      in     243.25.54.63   \n",
       "99998           mobile    phone26  5.201508e-308      in    17.66.120.232   \n",
       "99999           mobile    phone25  5.201509e-308      in     64.30.57.156   \n",
       "\n",
       "                   url                        payment_account  \\\n",
       "0      vasstdc27m7nks3  a3d2de7675556553a5f08e4c88d2c228iiasc   \n",
       "1      vnw40k8zzokijsv  a3d2de7675556553a5f08e4c88d2c228jem8t   \n",
       "2      kk7rxe25ehseyci  52743ba515e9c1279ac76e19f00c0b001p3pm   \n",
       "3      iu2iu3k137vakme  52743ba515e9c1279ac76e19f00c0b001p3pm   \n",
       "4      u85yj2e7owkz6xp  52743ba515e9c1279ac76e19f00c0b001p3pm   \n",
       "...                ...                                    ...   \n",
       "99995  vasstdc27m7nks3  22cdb26663f071c00de61cc2dcde7b556rido   \n",
       "99996  vasstdc27m7nks3  22cdb26663f071c00de61cc2dcde7b556rido   \n",
       "99997  yweo7wfejrgbi2d  22cdb26663f071c00de61cc2dcde7b556rido   \n",
       "99998  4dd8ei0o5oqsua3  22cdb26663f071c00de61cc2dcde7b556rido   \n",
       "99999  8zdkeqk4yby6lz2  22cdb26663f071c00de61cc2dcde7b556rido   \n",
       "\n",
       "                                     address  outcome  \n",
       "0      a3d2de7675556553a5f08e4c88d2c2282aj35        0  \n",
       "1      f3bc67b04b43c3cebd1db5ed4941874c9br67        0  \n",
       "2      7578f951008bd0b64528bf81b8578d5djy0uy        0  \n",
       "3      7578f951008bd0b64528bf81b8578d5djy0uy        0  \n",
       "4      7578f951008bd0b64528bf81b8578d5djy0uy        0  \n",
       "...                                      ...      ...  \n",
       "99995  db147bf6056d00428b1bbf250c6e97594ewjy        1  \n",
       "99996  db147bf6056d00428b1bbf250c6e97594ewjy        1  \n",
       "99997  db147bf6056d00428b1bbf250c6e97594ewjy        1  \n",
       "99998  db147bf6056d00428b1bbf250c6e97594ewjy        1  \n",
       "99999  db147bf6056d00428b1bbf250c6e97594ewjy        1  \n",
       "\n",
       "[100000 rows x 12 columns]"
      ]
     },
     "execution_count": 21,
     "metadata": {},
     "output_type": "execute_result"
    }
   ],
   "source": [
    "# Visualisation des données\n",
    "df"
   ]
  },
  {
   "cell_type": "markdown",
   "id": "6f840acf",
   "metadata": {},
   "source": [
    "La méthode info() imprime des informations sur le DataFrame. Les informations contiennent le nombre de colonnes, les étiquettes de colonne, les types de données de colonne, l'utilisation de la mémoire, l'index de plage et le nombre de cellules dans chaque colonne (valeurs non nulles)."
   ]
  },
  {
   "cell_type": "code",
   "execution_count": 22,
   "id": "67eb6df2",
   "metadata": {
    "scrolled": false
   },
   "outputs": [
    {
     "name": "stdout",
     "output_type": "stream",
     "text": [
      "<class 'pandas.core.frame.DataFrame'>\n",
      "RangeIndex: 100000 entries, 0 to 99999\n",
      "Data columns (total 12 columns):\n",
      " #   Column           Non-Null Count   Dtype  \n",
      "---  ------           --------------   -----  \n",
      " 0   bidder_id        100000 non-null  object \n",
      " 1   bid_id           100000 non-null  int64  \n",
      " 2   auction          100000 non-null  object \n",
      " 3   merchandise      100000 non-null  object \n",
      " 4   device           100000 non-null  object \n",
      " 5   time             100000 non-null  float64\n",
      " 6   country          99816 non-null   object \n",
      " 7   ip               100000 non-null  object \n",
      " 8   url              100000 non-null  object \n",
      " 9   payment_account  100000 non-null  object \n",
      " 10  address          100000 non-null  object \n",
      " 11  outcome          100000 non-null  int64  \n",
      "dtypes: float64(1), int64(2), object(9)\n",
      "memory usage: 9.2+ MB\n"
     ]
    }
   ],
   "source": [
    "df.info()"
   ]
  },
  {
   "cell_type": "markdown",
   "id": "fcbc25f8",
   "metadata": {},
   "source": [
    "On remarque qu'il y'as des Nan Values dans la colonne Country. Regardons le pourcentage des valeurs manquantes dans cette colonne. "
   ]
  },
  {
   "cell_type": "code",
   "execution_count": 23,
   "id": "71e53565",
   "metadata": {
    "scrolled": true
   },
   "outputs": [
    {
     "data": {
      "text/plain": [
       "bidder_id            0\n",
       "bid_id               0\n",
       "auction              0\n",
       "merchandise          0\n",
       "device               0\n",
       "time                 0\n",
       "country            184\n",
       "ip                   0\n",
       "url                  0\n",
       "payment_account      0\n",
       "address              0\n",
       "outcome              0\n",
       "dtype: int64"
      ]
     },
     "execution_count": 23,
     "metadata": {},
     "output_type": "execute_result"
    }
   ],
   "source": [
    "df.isnull().sum()"
   ]
  },
  {
   "cell_type": "code",
   "execution_count": 24,
   "id": "e458b923",
   "metadata": {},
   "outputs": [
    {
     "data": {
      "text/html": [
       "<div>\n",
       "<style scoped>\n",
       "    .dataframe tbody tr th:only-of-type {\n",
       "        vertical-align: middle;\n",
       "    }\n",
       "\n",
       "    .dataframe tbody tr th {\n",
       "        vertical-align: top;\n",
       "    }\n",
       "\n",
       "    .dataframe thead th {\n",
       "        text-align: right;\n",
       "    }\n",
       "</style>\n",
       "<table border=\"1\" class=\"dataframe\">\n",
       "  <thead>\n",
       "    <tr style=\"text-align: right;\">\n",
       "      <th></th>\n",
       "      <th>bidder_id</th>\n",
       "      <th>bid_id</th>\n",
       "      <th>auction</th>\n",
       "      <th>merchandise</th>\n",
       "      <th>device</th>\n",
       "      <th>time</th>\n",
       "      <th>country</th>\n",
       "      <th>ip</th>\n",
       "      <th>url</th>\n",
       "      <th>payment_account</th>\n",
       "      <th>address</th>\n",
       "      <th>outcome</th>\n",
       "    </tr>\n",
       "  </thead>\n",
       "  <tbody>\n",
       "    <tr>\n",
       "      <th>0</th>\n",
       "      <td>001068c415025a009fee375a12cff4fcnht8y</td>\n",
       "      <td>7179832</td>\n",
       "      <td>4ifac</td>\n",
       "      <td>jewelry</td>\n",
       "      <td>phone561</td>\n",
       "      <td>5.140996e-308</td>\n",
       "      <td>bn</td>\n",
       "      <td>139.226.147.115</td>\n",
       "      <td>vasstdc27m7nks3</td>\n",
       "      <td>a3d2de7675556553a5f08e4c88d2c228iiasc</td>\n",
       "      <td>a3d2de7675556553a5f08e4c88d2c2282aj35</td>\n",
       "      <td>0</td>\n",
       "    </tr>\n",
       "    <tr>\n",
       "      <th>1</th>\n",
       "      <td>0030a2dd87ad2733e0873062e4f83954mkj86</td>\n",
       "      <td>6805028</td>\n",
       "      <td>obbny</td>\n",
       "      <td>mobile</td>\n",
       "      <td>phone313</td>\n",
       "      <td>5.139226e-308</td>\n",
       "      <td>ir</td>\n",
       "      <td>21.67.17.162</td>\n",
       "      <td>vnw40k8zzokijsv</td>\n",
       "      <td>a3d2de7675556553a5f08e4c88d2c228jem8t</td>\n",
       "      <td>f3bc67b04b43c3cebd1db5ed4941874c9br67</td>\n",
       "      <td>0</td>\n",
       "    </tr>\n",
       "    <tr>\n",
       "      <th>2</th>\n",
       "      <td>00a0517965f18610417ee784a05f494d4dw6e</td>\n",
       "      <td>2501797</td>\n",
       "      <td>l3o6q</td>\n",
       "      <td>books and music</td>\n",
       "      <td>phone451</td>\n",
       "      <td>5.067829e-308</td>\n",
       "      <td>bh</td>\n",
       "      <td>103.165.41.136</td>\n",
       "      <td>kk7rxe25ehseyci</td>\n",
       "      <td>52743ba515e9c1279ac76e19f00c0b001p3pm</td>\n",
       "      <td>7578f951008bd0b64528bf81b8578d5djy0uy</td>\n",
       "      <td>0</td>\n",
       "    </tr>\n",
       "    <tr>\n",
       "      <th>3</th>\n",
       "      <td>00a0517965f18610417ee784a05f494d4dw6e</td>\n",
       "      <td>2724778</td>\n",
       "      <td>du967</td>\n",
       "      <td>books and music</td>\n",
       "      <td>phone117</td>\n",
       "      <td>5.068704e-308</td>\n",
       "      <td>tr</td>\n",
       "      <td>239.250.228.152</td>\n",
       "      <td>iu2iu3k137vakme</td>\n",
       "      <td>52743ba515e9c1279ac76e19f00c0b001p3pm</td>\n",
       "      <td>7578f951008bd0b64528bf81b8578d5djy0uy</td>\n",
       "      <td>0</td>\n",
       "    </tr>\n",
       "    <tr>\n",
       "      <th>4</th>\n",
       "      <td>00a0517965f18610417ee784a05f494d4dw6e</td>\n",
       "      <td>2742648</td>\n",
       "      <td>wx3kf</td>\n",
       "      <td>books and music</td>\n",
       "      <td>phone16</td>\n",
       "      <td>5.068805e-308</td>\n",
       "      <td>in</td>\n",
       "      <td>255.108.248.101</td>\n",
       "      <td>u85yj2e7owkz6xp</td>\n",
       "      <td>52743ba515e9c1279ac76e19f00c0b001p3pm</td>\n",
       "      <td>7578f951008bd0b64528bf81b8578d5djy0uy</td>\n",
       "      <td>0</td>\n",
       "    </tr>\n",
       "  </tbody>\n",
       "</table>\n",
       "</div>"
      ],
      "text/plain": [
       "                               bidder_id   bid_id auction      merchandise  \\\n",
       "0  001068c415025a009fee375a12cff4fcnht8y  7179832   4ifac          jewelry   \n",
       "1  0030a2dd87ad2733e0873062e4f83954mkj86  6805028   obbny           mobile   \n",
       "2  00a0517965f18610417ee784a05f494d4dw6e  2501797   l3o6q  books and music   \n",
       "3  00a0517965f18610417ee784a05f494d4dw6e  2724778   du967  books and music   \n",
       "4  00a0517965f18610417ee784a05f494d4dw6e  2742648   wx3kf  books and music   \n",
       "\n",
       "     device           time country               ip              url  \\\n",
       "0  phone561  5.140996e-308      bn  139.226.147.115  vasstdc27m7nks3   \n",
       "1  phone313  5.139226e-308      ir     21.67.17.162  vnw40k8zzokijsv   \n",
       "2  phone451  5.067829e-308      bh   103.165.41.136  kk7rxe25ehseyci   \n",
       "3  phone117  5.068704e-308      tr  239.250.228.152  iu2iu3k137vakme   \n",
       "4   phone16  5.068805e-308      in  255.108.248.101  u85yj2e7owkz6xp   \n",
       "\n",
       "                         payment_account  \\\n",
       "0  a3d2de7675556553a5f08e4c88d2c228iiasc   \n",
       "1  a3d2de7675556553a5f08e4c88d2c228jem8t   \n",
       "2  52743ba515e9c1279ac76e19f00c0b001p3pm   \n",
       "3  52743ba515e9c1279ac76e19f00c0b001p3pm   \n",
       "4  52743ba515e9c1279ac76e19f00c0b001p3pm   \n",
       "\n",
       "                                 address  outcome  \n",
       "0  a3d2de7675556553a5f08e4c88d2c2282aj35        0  \n",
       "1  f3bc67b04b43c3cebd1db5ed4941874c9br67        0  \n",
       "2  7578f951008bd0b64528bf81b8578d5djy0uy        0  \n",
       "3  7578f951008bd0b64528bf81b8578d5djy0uy        0  \n",
       "4  7578f951008bd0b64528bf81b8578d5djy0uy        0  "
      ]
     },
     "execution_count": 24,
     "metadata": {},
     "output_type": "execute_result"
    }
   ],
   "source": [
    "df.head()"
   ]
  },
  {
   "cell_type": "code",
   "execution_count": 25,
   "id": "a09b000d",
   "metadata": {},
   "outputs": [
    {
     "name": "stdout",
     "output_type": "stream",
     "text": [
      "Pourcentage des données manquantes:  0.18%\n"
     ]
    }
   ],
   "source": [
    "missing_percent = df['country'].isnull().mean()\n",
    "print(f\"Pourcentage des données manquantes: {missing_percent*100: .2f}%\")"
   ]
  },
  {
   "cell_type": "markdown",
   "id": "bd05186c",
   "metadata": {},
   "source": [
    "Nous remarquons que seulement une petite proportion des données est manquante. Lorsque nous traitons de telles valeurs, nous pouvons soit supprimer la colonne entière, ce qui n'est pas une bonne option car la proportion des donénes manquantes est petite soit nous pouvons supprimer les valeurs par ligne ou soit nous pouvons remplacer les valeurs nan par une valeur pour garder les lignes intactes. \n",
    "\n",
    "Nous choising de garder les lignes et les informantions intactes et remplacer les valeurs manquantes par une certaine valeur.\n"
   ]
  },
  {
   "cell_type": "code",
   "execution_count": 26,
   "id": "34d88f55",
   "metadata": {},
   "outputs": [
    {
     "data": {
      "image/png": "[encoded data removed]",
      "text/plain": [
       "<Figure size 1296x345.6 with 1 Axes>"
      ]
     },
     "metadata": {
      "needs_background": "light"
     },
     "output_type": "display_data"
    }
   ],
   "source": [
    "unique_countries = df['country'].value_counts()\n",
    "\n",
    "fig, ax = plt.subplots(figsize = (18, 4.8))\n",
    "countries_distribution = sns.barplot(x = unique_countries.index, y = unique_countries.values, ax = ax)                        \n",
    "ax.get_xaxis().set_visible(False)\n",
    "\n",
    "plt.show()"
   ]
  },
  {
   "cell_type": "markdown",
   "id": "c1308ade",
   "metadata": {},
   "source": [
    "L'idée est soit de remplacer les valeurs manquantes par une nouvelle catégorie par exemple \"other\" soit de la remplacer par la valeur la plus fréquente. En visualisant la distribution des valeurs uniques de la colonne country, nous remarquons qu'il y a un pays qui est significativement plus fréquent que les autres. En conséquence, la méthode mode imputation serait le bon choix."
   ]
  },
  {
   "cell_type": "code",
   "execution_count": 27,
   "id": "6d6afc32",
   "metadata": {},
   "outputs": [],
   "source": [
    "df['country'] = df['country'].fillna(df['country'].mode()[0])"
   ]
  },
  {
   "cell_type": "markdown",
   "id": "ca0c0a0a",
   "metadata": {},
   "source": [
    "Vérifions qu'il n'y a plus de valeurs manquantes"
   ]
  },
  {
   "cell_type": "code",
   "execution_count": 28,
   "id": "b91fc241",
   "metadata": {
    "scrolled": true
   },
   "outputs": [
    {
     "data": {
      "text/plain": [
       "bidder_id          0\n",
       "bid_id             0\n",
       "auction            0\n",
       "merchandise        0\n",
       "device             0\n",
       "time               0\n",
       "country            0\n",
       "ip                 0\n",
       "url                0\n",
       "payment_account    0\n",
       "address            0\n",
       "outcome            0\n",
       "dtype: int64"
      ]
     },
     "execution_count": 28,
     "metadata": {},
     "output_type": "execute_result"
    }
   ],
   "source": [
    "df.isnull().sum()"
   ]
  },
  {
   "cell_type": "markdown",
   "id": "01a25d3f",
   "metadata": {},
   "source": [
    "Essayons de voir tout d'abord combien de valeurs uniques sur chaque colonne du dataset"
   ]
  },
  {
   "cell_type": "code",
   "execution_count": 29,
   "id": "391c4d2b",
   "metadata": {
    "scrolled": true
   },
   "outputs": [
    {
     "name": "stdout",
     "output_type": "stream",
     "text": [
      "For the bidder_id column there's 87 unique value out of 100000 values\n",
      "For the bid_id column there's 100000 unique value out of 100000 values\n",
      "For the auction column there's 3438 unique value out of 100000 values\n",
      "For the merchandise column there's 6 unique value out of 100000 values\n",
      "For the device column there's 1871 unique value out of 100000 values\n",
      "For the time column there's 92385 unique value out of 100000 values\n",
      "For the country column there's 174 unique value out of 100000 values\n",
      "For the ip column there's 50309 unique value out of 100000 values\n",
      "For the url column there's 21951 unique value out of 100000 values\n",
      "For the payment_account column there's 87 unique value out of 100000 values\n",
      "For the address column there's 87 unique value out of 100000 values\n",
      "For the outcome column there's 2 unique value out of 100000 values\n"
     ]
    }
   ],
   "source": [
    "def count_unique(df):\n",
    "    for col in df.columns:\n",
    "        print(\"For the {} column there's {} unique value out of {} values\".format(col,len(df[col].unique()),len(df[col])))\n",
    "        \n",
    "count_unique(df)        \n",
    "        \n",
    "        "
   ]
  },
  {
   "cell_type": "markdown",
   "id": "9fc4346f",
   "metadata": {},
   "source": [
    "Nous remarquons que chaque bidder a un compte de paiement unique et une adresse unique. Ces deux colonnes nous aideront pas à géneraliser et à catégoriser les bidders. Nous décidons de les supprimer."
   ]
  },
  {
   "cell_type": "code",
   "execution_count": 30,
   "id": "7ff9cf0e",
   "metadata": {},
   "outputs": [],
   "source": [
    "df.drop(['payment_account',\"address\"], axis =1, inplace=True)"
   ]
  },
  {
   "cell_type": "markdown",
   "id": "721d54ce",
   "metadata": {},
   "source": [
    "# Feature engineering"
   ]
  },
  {
   "cell_type": "markdown",
   "id": "c153d3dd",
   "metadata": {},
   "source": [
    "Essayons de transformer ces données brutes en des features pour qu'il soient traités par le machine learning"
   ]
  },
  {
   "cell_type": "markdown",
   "id": "3d679e20",
   "metadata": {},
   "source": [
    "Voyons pour chaque enchérisseur combien d'enchère il a participé et combien d'offre il a proposé"
   ]
  },
  {
   "cell_type": "code",
   "execution_count": 31,
   "id": "098c6f45",
   "metadata": {},
   "outputs": [],
   "source": [
    "# Cette fonction permet de récuperer pour chaque enchérisseur combien d'enchère il a participté et combien d'offre (bid) il a proposé et sauvegarder ces informations dans une dataframe pandas\n",
    "def get_unique_df(df):\n",
    "    df_unique = df.groupby(\"bidder_id\").nunique().reset_index()\n",
    "    df_unique.drop([\"outcome\"],axis=1,inplace = True)\n",
    "    df_unique = df_unique.rename(columns={\"bid_id\" : \"n_bids\",\"auction\" : \"n_auctions\", \"merchandise\":\"n_merchandise\", \"device\":\"n_device\",\"time\":\"n_time\", \"country\":\"n_country\",\"ip\":\"n_ip\",\"url\":\"n_url\" })\n",
    "    return df_unique"
   ]
  },
  {
   "cell_type": "code",
   "execution_count": 32,
   "id": "81c95f8c",
   "metadata": {},
   "outputs": [
    {
     "data": {
      "text/html": [
       "<div>\n",
       "<style scoped>\n",
       "    .dataframe tbody tr th:only-of-type {\n",
       "        vertical-align: middle;\n",
       "    }\n",
       "\n",
       "    .dataframe tbody tr th {\n",
       "        vertical-align: top;\n",
       "    }\n",
       "\n",
       "    .dataframe thead th {\n",
       "        text-align: right;\n",
       "    }\n",
       "</style>\n",
       "<table border=\"1\" class=\"dataframe\">\n",
       "  <thead>\n",
       "    <tr style=\"text-align: right;\">\n",
       "      <th></th>\n",
       "      <th>bidder_id</th>\n",
       "      <th>n_bids</th>\n",
       "      <th>n_auctions</th>\n",
       "      <th>n_merchandise</th>\n",
       "      <th>n_device</th>\n",
       "      <th>n_time</th>\n",
       "      <th>n_country</th>\n",
       "      <th>n_ip</th>\n",
       "      <th>n_url</th>\n",
       "    </tr>\n",
       "  </thead>\n",
       "  <tbody>\n",
       "    <tr>\n",
       "      <th>0</th>\n",
       "      <td>001068c415025a009fee375a12cff4fcnht8y</td>\n",
       "      <td>1</td>\n",
       "      <td>1</td>\n",
       "      <td>1</td>\n",
       "      <td>1</td>\n",
       "      <td>1</td>\n",
       "      <td>1</td>\n",
       "      <td>1</td>\n",
       "      <td>1</td>\n",
       "    </tr>\n",
       "    <tr>\n",
       "      <th>1</th>\n",
       "      <td>0030a2dd87ad2733e0873062e4f83954mkj86</td>\n",
       "      <td>1</td>\n",
       "      <td>1</td>\n",
       "      <td>1</td>\n",
       "      <td>1</td>\n",
       "      <td>1</td>\n",
       "      <td>1</td>\n",
       "      <td>1</td>\n",
       "      <td>1</td>\n",
       "    </tr>\n",
       "    <tr>\n",
       "      <th>2</th>\n",
       "      <td>00a0517965f18610417ee784a05f494d4dw6e</td>\n",
       "      <td>141</td>\n",
       "      <td>74</td>\n",
       "      <td>1</td>\n",
       "      <td>67</td>\n",
       "      <td>141</td>\n",
       "      <td>16</td>\n",
       "      <td>103</td>\n",
       "      <td>84</td>\n",
       "    </tr>\n",
       "    <tr>\n",
       "      <th>3</th>\n",
       "      <td>00cc97158e6f4cb8eac3c0075918b7ffi5k8o</td>\n",
       "      <td>3</td>\n",
       "      <td>3</td>\n",
       "      <td>1</td>\n",
       "      <td>3</td>\n",
       "      <td>3</td>\n",
       "      <td>2</td>\n",
       "      <td>3</td>\n",
       "      <td>1</td>\n",
       "    </tr>\n",
       "    <tr>\n",
       "      <th>4</th>\n",
       "      <td>01067975436d123f717ee5aba0dd4bbfa0937</td>\n",
       "      <td>543</td>\n",
       "      <td>17</td>\n",
       "      <td>1</td>\n",
       "      <td>165</td>\n",
       "      <td>543</td>\n",
       "      <td>71</td>\n",
       "      <td>398</td>\n",
       "      <td>4</td>\n",
       "    </tr>\n",
       "  </tbody>\n",
       "</table>\n",
       "</div>"
      ],
      "text/plain": [
       "                               bidder_id  n_bids  n_auctions  n_merchandise  \\\n",
       "0  001068c415025a009fee375a12cff4fcnht8y       1           1              1   \n",
       "1  0030a2dd87ad2733e0873062e4f83954mkj86       1           1              1   \n",
       "2  00a0517965f18610417ee784a05f494d4dw6e     141          74              1   \n",
       "3  00cc97158e6f4cb8eac3c0075918b7ffi5k8o       3           3              1   \n",
       "4  01067975436d123f717ee5aba0dd4bbfa0937     543          17              1   \n",
       "\n",
       "   n_device  n_time  n_country  n_ip  n_url  \n",
       "0         1       1          1     1      1  \n",
       "1         1       1          1     1      1  \n",
       "2        67     141         16   103     84  \n",
       "3         3       3          2     3      1  \n",
       "4       165     543         71   398      4  "
      ]
     },
     "execution_count": 32,
     "metadata": {},
     "output_type": "execute_result"
    }
   ],
   "source": [
    "# Visualisation des premiers éléments de cette dataframe\n",
    "df_unique = get_unique_df(df)\n",
    "df_unique.head()"
   ]
  },
  {
   "cell_type": "markdown",
   "id": "62f990fc",
   "metadata": {},
   "source": [
    "Essayons de regrouper et renommer ces nouvelles features dans notre dataframe de départ"
   ]
  },
  {
   "cell_type": "code",
   "execution_count": 33,
   "id": "ff76125c",
   "metadata": {},
   "outputs": [],
   "source": [
    "# fonction pour fusionner les dataframes\n",
    "def merge_data(df,new_feat):\n",
    "    outcome = df[[\"bidder_id\",\"outcome\"]]\n",
    "    data = outcome.merge(new_feat , on='bidder_id' , how='left')\n",
    "    data = data.drop_duplicates()\n",
    "    data.reset_index(drop=True , inplace=True)\n",
    "    data = data.rename(columns={\"bid_id\" : \"n_bids\",\"auction\" : \"n_auctions\", \"merchandise\":\"n_merchandise\", \"device\":\"n_device\",\"time\":\"n_time\", \"country\":\"n_country\",\"ip\":\"n_ip\",\"url\":\"n_url\" })\n",
    "    return data"
   ]
  },
  {
   "cell_type": "code",
   "execution_count": 34,
   "id": "c72c9582",
   "metadata": {},
   "outputs": [
    {
     "data": {
      "text/html": [
       "<div>\n",
       "<style scoped>\n",
       "    .dataframe tbody tr th:only-of-type {\n",
       "        vertical-align: middle;\n",
       "    }\n",
       "\n",
       "    .dataframe tbody tr th {\n",
       "        vertical-align: top;\n",
       "    }\n",
       "\n",
       "    .dataframe thead th {\n",
       "        text-align: right;\n",
       "    }\n",
       "</style>\n",
       "<table border=\"1\" class=\"dataframe\">\n",
       "  <thead>\n",
       "    <tr style=\"text-align: right;\">\n",
       "      <th></th>\n",
       "      <th>bidder_id</th>\n",
       "      <th>outcome</th>\n",
       "      <th>n_bids</th>\n",
       "      <th>n_auctions</th>\n",
       "      <th>n_merchandise</th>\n",
       "      <th>n_device</th>\n",
       "      <th>n_time</th>\n",
       "      <th>n_country</th>\n",
       "      <th>n_ip</th>\n",
       "      <th>n_url</th>\n",
       "    </tr>\n",
       "  </thead>\n",
       "  <tbody>\n",
       "    <tr>\n",
       "      <th>0</th>\n",
       "      <td>001068c415025a009fee375a12cff4fcnht8y</td>\n",
       "      <td>0</td>\n",
       "      <td>1</td>\n",
       "      <td>1</td>\n",
       "      <td>1</td>\n",
       "      <td>1</td>\n",
       "      <td>1</td>\n",
       "      <td>1</td>\n",
       "      <td>1</td>\n",
       "      <td>1</td>\n",
       "    </tr>\n",
       "    <tr>\n",
       "      <th>1</th>\n",
       "      <td>0030a2dd87ad2733e0873062e4f83954mkj86</td>\n",
       "      <td>0</td>\n",
       "      <td>1</td>\n",
       "      <td>1</td>\n",
       "      <td>1</td>\n",
       "      <td>1</td>\n",
       "      <td>1</td>\n",
       "      <td>1</td>\n",
       "      <td>1</td>\n",
       "      <td>1</td>\n",
       "    </tr>\n",
       "    <tr>\n",
       "      <th>2</th>\n",
       "      <td>00a0517965f18610417ee784a05f494d4dw6e</td>\n",
       "      <td>0</td>\n",
       "      <td>141</td>\n",
       "      <td>74</td>\n",
       "      <td>1</td>\n",
       "      <td>67</td>\n",
       "      <td>141</td>\n",
       "      <td>16</td>\n",
       "      <td>103</td>\n",
       "      <td>84</td>\n",
       "    </tr>\n",
       "    <tr>\n",
       "      <th>3</th>\n",
       "      <td>00cc97158e6f4cb8eac3c0075918b7ffi5k8o</td>\n",
       "      <td>0</td>\n",
       "      <td>3</td>\n",
       "      <td>3</td>\n",
       "      <td>1</td>\n",
       "      <td>3</td>\n",
       "      <td>3</td>\n",
       "      <td>2</td>\n",
       "      <td>3</td>\n",
       "      <td>1</td>\n",
       "    </tr>\n",
       "    <tr>\n",
       "      <th>4</th>\n",
       "      <td>01067975436d123f717ee5aba0dd4bbfa0937</td>\n",
       "      <td>0</td>\n",
       "      <td>543</td>\n",
       "      <td>17</td>\n",
       "      <td>1</td>\n",
       "      <td>165</td>\n",
       "      <td>543</td>\n",
       "      <td>71</td>\n",
       "      <td>398</td>\n",
       "      <td>4</td>\n",
       "    </tr>\n",
       "  </tbody>\n",
       "</table>\n",
       "</div>"
      ],
      "text/plain": [
       "                               bidder_id  outcome  n_bids  n_auctions  \\\n",
       "0  001068c415025a009fee375a12cff4fcnht8y        0       1           1   \n",
       "1  0030a2dd87ad2733e0873062e4f83954mkj86        0       1           1   \n",
       "2  00a0517965f18610417ee784a05f494d4dw6e        0     141          74   \n",
       "3  00cc97158e6f4cb8eac3c0075918b7ffi5k8o        0       3           3   \n",
       "4  01067975436d123f717ee5aba0dd4bbfa0937        0     543          17   \n",
       "\n",
       "   n_merchandise  n_device  n_time  n_country  n_ip  n_url  \n",
       "0              1         1       1          1     1      1  \n",
       "1              1         1       1          1     1      1  \n",
       "2              1        67     141         16   103     84  \n",
       "3              1         3       3          2     3      1  \n",
       "4              1       165     543         71   398      4  "
      ]
     },
     "execution_count": 34,
     "metadata": {},
     "output_type": "execute_result"
    }
   ],
   "source": [
    "data = merge_data(df,df_unique)\n",
    "data.head()"
   ]
  },
  {
   "cell_type": "markdown",
   "id": "dd30ccb3",
   "metadata": {},
   "source": [
    "On créera de nouvelle features à base de ces derniers. Par exemple on peut prendre le pourcentage des bids par nombre d'auctions ect ..."
   ]
  },
  {
   "cell_type": "code",
   "execution_count": 35,
   "id": "0e6beddd",
   "metadata": {},
   "outputs": [],
   "source": [
    "def new_features(data):\n",
    "    data['bids_per_auct'] = data['n_bids'] / data['n_auctions']\n",
    "    data['bids_per_device'] = data['n_bids'] / data['n_device']\n",
    "    data['bids_per_url'] = data['n_bids'] / data['n_url']\n",
    "    data['device_per_auct'] = data['n_device'] / data['n_auctions']\n",
    "    data['ip_per_ctry'] = data['n_ip'] / data['n_country']\n",
    "    data = data.fillna(0)\n",
    "    return data"
   ]
  },
  {
   "cell_type": "code",
   "execution_count": 36,
   "id": "e6fba28a",
   "metadata": {},
   "outputs": [
    {
     "data": {
      "text/html": [
       "<div>\n",
       "<style scoped>\n",
       "    .dataframe tbody tr th:only-of-type {\n",
       "        vertical-align: middle;\n",
       "    }\n",
       "\n",
       "    .dataframe tbody tr th {\n",
       "        vertical-align: top;\n",
       "    }\n",
       "\n",
       "    .dataframe thead th {\n",
       "        text-align: right;\n",
       "    }\n",
       "</style>\n",
       "<table border=\"1\" class=\"dataframe\">\n",
       "  <thead>\n",
       "    <tr style=\"text-align: right;\">\n",
       "      <th></th>\n",
       "      <th>bidder_id</th>\n",
       "      <th>outcome</th>\n",
       "      <th>n_bids</th>\n",
       "      <th>n_auctions</th>\n",
       "      <th>n_merchandise</th>\n",
       "      <th>n_device</th>\n",
       "      <th>n_time</th>\n",
       "      <th>n_country</th>\n",
       "      <th>n_ip</th>\n",
       "      <th>n_url</th>\n",
       "      <th>bids_per_auct</th>\n",
       "      <th>bids_per_device</th>\n",
       "      <th>bids_per_url</th>\n",
       "      <th>device_per_auct</th>\n",
       "      <th>ip_per_ctry</th>\n",
       "    </tr>\n",
       "  </thead>\n",
       "  <tbody>\n",
       "    <tr>\n",
       "      <th>0</th>\n",
       "      <td>001068c415025a009fee375a12cff4fcnht8y</td>\n",
       "      <td>0</td>\n",
       "      <td>1</td>\n",
       "      <td>1</td>\n",
       "      <td>1</td>\n",
       "      <td>1</td>\n",
       "      <td>1</td>\n",
       "      <td>1</td>\n",
       "      <td>1</td>\n",
       "      <td>1</td>\n",
       "      <td>1.000000</td>\n",
       "      <td>1.000000</td>\n",
       "      <td>1.000000</td>\n",
       "      <td>1.000000</td>\n",
       "      <td>1.000000</td>\n",
       "    </tr>\n",
       "    <tr>\n",
       "      <th>1</th>\n",
       "      <td>0030a2dd87ad2733e0873062e4f83954mkj86</td>\n",
       "      <td>0</td>\n",
       "      <td>1</td>\n",
       "      <td>1</td>\n",
       "      <td>1</td>\n",
       "      <td>1</td>\n",
       "      <td>1</td>\n",
       "      <td>1</td>\n",
       "      <td>1</td>\n",
       "      <td>1</td>\n",
       "      <td>1.000000</td>\n",
       "      <td>1.000000</td>\n",
       "      <td>1.000000</td>\n",
       "      <td>1.000000</td>\n",
       "      <td>1.000000</td>\n",
       "    </tr>\n",
       "    <tr>\n",
       "      <th>2</th>\n",
       "      <td>00a0517965f18610417ee784a05f494d4dw6e</td>\n",
       "      <td>0</td>\n",
       "      <td>141</td>\n",
       "      <td>74</td>\n",
       "      <td>1</td>\n",
       "      <td>67</td>\n",
       "      <td>141</td>\n",
       "      <td>16</td>\n",
       "      <td>103</td>\n",
       "      <td>84</td>\n",
       "      <td>1.905405</td>\n",
       "      <td>2.104478</td>\n",
       "      <td>1.678571</td>\n",
       "      <td>0.905405</td>\n",
       "      <td>6.437500</td>\n",
       "    </tr>\n",
       "    <tr>\n",
       "      <th>3</th>\n",
       "      <td>00cc97158e6f4cb8eac3c0075918b7ffi5k8o</td>\n",
       "      <td>0</td>\n",
       "      <td>3</td>\n",
       "      <td>3</td>\n",
       "      <td>1</td>\n",
       "      <td>3</td>\n",
       "      <td>3</td>\n",
       "      <td>2</td>\n",
       "      <td>3</td>\n",
       "      <td>1</td>\n",
       "      <td>1.000000</td>\n",
       "      <td>1.000000</td>\n",
       "      <td>3.000000</td>\n",
       "      <td>1.000000</td>\n",
       "      <td>1.500000</td>\n",
       "    </tr>\n",
       "    <tr>\n",
       "      <th>4</th>\n",
       "      <td>01067975436d123f717ee5aba0dd4bbfa0937</td>\n",
       "      <td>0</td>\n",
       "      <td>543</td>\n",
       "      <td>17</td>\n",
       "      <td>1</td>\n",
       "      <td>165</td>\n",
       "      <td>543</td>\n",
       "      <td>71</td>\n",
       "      <td>398</td>\n",
       "      <td>4</td>\n",
       "      <td>31.941176</td>\n",
       "      <td>3.290909</td>\n",
       "      <td>135.750000</td>\n",
       "      <td>9.705882</td>\n",
       "      <td>5.605634</td>\n",
       "    </tr>\n",
       "  </tbody>\n",
       "</table>\n",
       "</div>"
      ],
      "text/plain": [
       "                               bidder_id  outcome  n_bids  n_auctions  \\\n",
       "0  001068c415025a009fee375a12cff4fcnht8y        0       1           1   \n",
       "1  0030a2dd87ad2733e0873062e4f83954mkj86        0       1           1   \n",
       "2  00a0517965f18610417ee784a05f494d4dw6e        0     141          74   \n",
       "3  00cc97158e6f4cb8eac3c0075918b7ffi5k8o        0       3           3   \n",
       "4  01067975436d123f717ee5aba0dd4bbfa0937        0     543          17   \n",
       "\n",
       "   n_merchandise  n_device  n_time  n_country  n_ip  n_url  bids_per_auct  \\\n",
       "0              1         1       1          1     1      1       1.000000   \n",
       "1              1         1       1          1     1      1       1.000000   \n",
       "2              1        67     141         16   103     84       1.905405   \n",
       "3              1         3       3          2     3      1       1.000000   \n",
       "4              1       165     543         71   398      4      31.941176   \n",
       "\n",
       "   bids_per_device  bids_per_url  device_per_auct  ip_per_ctry  \n",
       "0         1.000000      1.000000         1.000000     1.000000  \n",
       "1         1.000000      1.000000         1.000000     1.000000  \n",
       "2         2.104478      1.678571         0.905405     6.437500  \n",
       "3         1.000000      3.000000         1.000000     1.500000  \n",
       "4         3.290909    135.750000         9.705882     5.605634  "
      ]
     },
     "execution_count": 36,
     "metadata": {},
     "output_type": "execute_result"
    }
   ],
   "source": [
    "data = new_features(data)\n",
    "data.head()"
   ]
  },
  {
   "cell_type": "markdown",
   "id": "18355c4e",
   "metadata": {},
   "source": [
    "Essayons de voir la distribution des robots par rapport au nombre des bids. Nous remarquons que les robots ont généralement beacoup de bids. Ceci pourrait être une caractéristiques que les modèles se baseront pour juger si c'est un robot ou non. "
   ]
  },
  {
   "cell_type": "code",
   "execution_count": 37,
   "id": "aefd9ec1",
   "metadata": {
    "scrolled": false
   },
   "outputs": [
    {
     "data": {
      "image/png": "[encoded data removed]",
      "text/plain": [
       "<Figure size 432x288 with 1 Axes>"
      ]
     },
     "metadata": {
      "needs_background": "light"
     },
     "output_type": "display_data"
    }
   ],
   "source": [
    "fig, ax = plt.subplots()\n",
    "num_bids_per_bot = sns.barplot(data = data[data['outcome'] == 1].sort_values('n_bids').head(10),\n",
    "                               x = 'bidder_id',\n",
    "                               y = 'n_bids',\n",
    "                               ax = ax\n",
    "                              )\n",
    "ax.bar_label(ax.containers[0])\n",
    "plt.xticks(rotation = 90)\n",
    "\n",
    "plt.show()"
   ]
  },
  {
   "cell_type": "markdown",
   "id": "3202c90d",
   "metadata": {},
   "source": [
    "La colonne Time connait des valeurs très petite d'ordre de grandeur 1.10^^-308. On multiplie la colonne time par 10^^308 pour la standariser."
   ]
  },
  {
   "cell_type": "code",
   "execution_count": 38,
   "id": "10a2546f",
   "metadata": {},
   "outputs": [],
   "source": [
    "# Cette fonction sert à tout simplement multiplier la colonne time du dataframe par 10^^308\n",
    "def standarize_time(df):\n",
    "    df_time = df.sort_values(['bidder_id','time'])\n",
    "    df_time['time'] = df_time['time']*1e+308\n",
    "    return df_time"
   ]
  },
  {
   "cell_type": "code",
   "execution_count": 39,
   "id": "f8fa18e6",
   "metadata": {},
   "outputs": [
    {
     "data": {
      "text/html": [
       "<div>\n",
       "<style scoped>\n",
       "    .dataframe tbody tr th:only-of-type {\n",
       "        vertical-align: middle;\n",
       "    }\n",
       "\n",
       "    .dataframe tbody tr th {\n",
       "        vertical-align: top;\n",
       "    }\n",
       "\n",
       "    .dataframe thead th {\n",
       "        text-align: right;\n",
       "    }\n",
       "</style>\n",
       "<table border=\"1\" class=\"dataframe\">\n",
       "  <thead>\n",
       "    <tr style=\"text-align: right;\">\n",
       "      <th></th>\n",
       "      <th>bidder_id</th>\n",
       "      <th>bid_id</th>\n",
       "      <th>auction</th>\n",
       "      <th>merchandise</th>\n",
       "      <th>device</th>\n",
       "      <th>time</th>\n",
       "      <th>country</th>\n",
       "      <th>ip</th>\n",
       "      <th>url</th>\n",
       "      <th>outcome</th>\n",
       "    </tr>\n",
       "  </thead>\n",
       "  <tbody>\n",
       "    <tr>\n",
       "      <th>0</th>\n",
       "      <td>001068c415025a009fee375a12cff4fcnht8y</td>\n",
       "      <td>7179832</td>\n",
       "      <td>4ifac</td>\n",
       "      <td>jewelry</td>\n",
       "      <td>phone561</td>\n",
       "      <td>5.140996</td>\n",
       "      <td>bn</td>\n",
       "      <td>139.226.147.115</td>\n",
       "      <td>vasstdc27m7nks3</td>\n",
       "      <td>0</td>\n",
       "    </tr>\n",
       "    <tr>\n",
       "      <th>1</th>\n",
       "      <td>0030a2dd87ad2733e0873062e4f83954mkj86</td>\n",
       "      <td>6805028</td>\n",
       "      <td>obbny</td>\n",
       "      <td>mobile</td>\n",
       "      <td>phone313</td>\n",
       "      <td>5.139226</td>\n",
       "      <td>ir</td>\n",
       "      <td>21.67.17.162</td>\n",
       "      <td>vnw40k8zzokijsv</td>\n",
       "      <td>0</td>\n",
       "    </tr>\n",
       "    <tr>\n",
       "      <th>2</th>\n",
       "      <td>00a0517965f18610417ee784a05f494d4dw6e</td>\n",
       "      <td>2501797</td>\n",
       "      <td>l3o6q</td>\n",
       "      <td>books and music</td>\n",
       "      <td>phone451</td>\n",
       "      <td>5.067829</td>\n",
       "      <td>bh</td>\n",
       "      <td>103.165.41.136</td>\n",
       "      <td>kk7rxe25ehseyci</td>\n",
       "      <td>0</td>\n",
       "    </tr>\n",
       "    <tr>\n",
       "      <th>3</th>\n",
       "      <td>00a0517965f18610417ee784a05f494d4dw6e</td>\n",
       "      <td>2724778</td>\n",
       "      <td>du967</td>\n",
       "      <td>books and music</td>\n",
       "      <td>phone117</td>\n",
       "      <td>5.068704</td>\n",
       "      <td>tr</td>\n",
       "      <td>239.250.228.152</td>\n",
       "      <td>iu2iu3k137vakme</td>\n",
       "      <td>0</td>\n",
       "    </tr>\n",
       "    <tr>\n",
       "      <th>4</th>\n",
       "      <td>00a0517965f18610417ee784a05f494d4dw6e</td>\n",
       "      <td>2742648</td>\n",
       "      <td>wx3kf</td>\n",
       "      <td>books and music</td>\n",
       "      <td>phone16</td>\n",
       "      <td>5.068805</td>\n",
       "      <td>in</td>\n",
       "      <td>255.108.248.101</td>\n",
       "      <td>u85yj2e7owkz6xp</td>\n",
       "      <td>0</td>\n",
       "    </tr>\n",
       "  </tbody>\n",
       "</table>\n",
       "</div>"
      ],
      "text/plain": [
       "                               bidder_id   bid_id auction      merchandise  \\\n",
       "0  001068c415025a009fee375a12cff4fcnht8y  7179832   4ifac          jewelry   \n",
       "1  0030a2dd87ad2733e0873062e4f83954mkj86  6805028   obbny           mobile   \n",
       "2  00a0517965f18610417ee784a05f494d4dw6e  2501797   l3o6q  books and music   \n",
       "3  00a0517965f18610417ee784a05f494d4dw6e  2724778   du967  books and music   \n",
       "4  00a0517965f18610417ee784a05f494d4dw6e  2742648   wx3kf  books and music   \n",
       "\n",
       "     device      time country               ip              url  outcome  \n",
       "0  phone561  5.140996      bn  139.226.147.115  vasstdc27m7nks3        0  \n",
       "1  phone313  5.139226      ir     21.67.17.162  vnw40k8zzokijsv        0  \n",
       "2  phone451  5.067829      bh   103.165.41.136  kk7rxe25ehseyci        0  \n",
       "3  phone117  5.068704      tr  239.250.228.152  iu2iu3k137vakme        0  \n",
       "4   phone16  5.068805      in  255.108.248.101  u85yj2e7owkz6xp        0  "
      ]
     },
     "execution_count": 39,
     "metadata": {},
     "output_type": "execute_result"
    }
   ],
   "source": [
    "# Standarisation de la colonne time et visualisation des données\n",
    "df_time = standarize_time(df)\n",
    "df_time.head()"
   ]
  },
  {
   "cell_type": "markdown",
   "id": "acb92e18",
   "metadata": {},
   "source": [
    "Nous pouvons générer des features en examinant la différence de temps entre deux offres pour chaque bidder. Nous ne pouvons pas prendre la première différence de la première offre de chaque soumissionnaire, il y a donc des valeurs manquantes. Comme ces valeurs manquantes n'ont pas d'interprétation, nous les abandonnons."
   ]
  },
  {
   "cell_type": "code",
   "execution_count": 40,
   "id": "08ff830f",
   "metadata": {},
   "outputs": [],
   "source": [
    "# Cette fonction génère les features de la différence de temps entre deux offres pour chaque bidder\n",
    "def get_first_diff(df_time):\n",
    "    diff = df_time.groupby(\"bidder_id\")[[\"time\"]].diff()\n",
    "    df_time['first_diff'] = diff\n",
    "    firstdiff_feat = df_time[['bidder_id', 'first_diff']]\n",
    "    firstdiff_feat.dropna(inplace=True)\n",
    "    return firstdiff_feat"
   ]
  },
  {
   "cell_type": "code",
   "execution_count": 41,
   "id": "3cf7a009",
   "metadata": {
    "scrolled": true
   },
   "outputs": [
    {
     "data": {
      "text/html": [
       "<div>\n",
       "<style scoped>\n",
       "    .dataframe tbody tr th:only-of-type {\n",
       "        vertical-align: middle;\n",
       "    }\n",
       "\n",
       "    .dataframe tbody tr th {\n",
       "        vertical-align: top;\n",
       "    }\n",
       "\n",
       "    .dataframe thead th {\n",
       "        text-align: right;\n",
       "    }\n",
       "</style>\n",
       "<table border=\"1\" class=\"dataframe\">\n",
       "  <thead>\n",
       "    <tr style=\"text-align: right;\">\n",
       "      <th></th>\n",
       "      <th>bidder_id</th>\n",
       "      <th>first_diff</th>\n",
       "    </tr>\n",
       "  </thead>\n",
       "  <tbody>\n",
       "    <tr>\n",
       "      <th>3</th>\n",
       "      <td>00a0517965f18610417ee784a05f494d4dw6e</td>\n",
       "      <td>0.000875</td>\n",
       "    </tr>\n",
       "    <tr>\n",
       "      <th>4</th>\n",
       "      <td>00a0517965f18610417ee784a05f494d4dw6e</td>\n",
       "      <td>0.000101</td>\n",
       "    </tr>\n",
       "    <tr>\n",
       "      <th>5</th>\n",
       "      <td>00a0517965f18610417ee784a05f494d4dw6e</td>\n",
       "      <td>0.000861</td>\n",
       "    </tr>\n",
       "    <tr>\n",
       "      <th>6</th>\n",
       "      <td>00a0517965f18610417ee784a05f494d4dw6e</td>\n",
       "      <td>0.000443</td>\n",
       "    </tr>\n",
       "    <tr>\n",
       "      <th>7</th>\n",
       "      <td>00a0517965f18610417ee784a05f494d4dw6e</td>\n",
       "      <td>0.005417</td>\n",
       "    </tr>\n",
       "  </tbody>\n",
       "</table>\n",
       "</div>"
      ],
      "text/plain": [
       "                               bidder_id  first_diff\n",
       "3  00a0517965f18610417ee784a05f494d4dw6e    0.000875\n",
       "4  00a0517965f18610417ee784a05f494d4dw6e    0.000101\n",
       "5  00a0517965f18610417ee784a05f494d4dw6e    0.000861\n",
       "6  00a0517965f18610417ee784a05f494d4dw6e    0.000443\n",
       "7  00a0517965f18610417ee784a05f494d4dw6e    0.005417"
      ]
     },
     "execution_count": 41,
     "metadata": {},
     "output_type": "execute_result"
    }
   ],
   "source": [
    "firstdiff_feat = get_first_diff(df_time)\n",
    "firstdiff_feat.head()"
   ]
  },
  {
   "cell_type": "markdown",
   "id": "25eee5ac",
   "metadata": {},
   "source": [
    "Nous pouvons générer certaines features en utilisant des fonctions d'agrégation courantes telles que la moyenne, la médiane, le minimum et le maximum."
   ]
  },
  {
   "cell_type": "code",
   "execution_count": 42,
   "id": "a41d52e1",
   "metadata": {},
   "outputs": [],
   "source": [
    "# Cette fonction permet de générer les features moyennne, médiane, minimum et max à partir de la différence de temps\n",
    "def get_bid_intervals(firstdiff_feat):\n",
    "    bid_intervals = firstdiff_feat.groupby('bidder_id')[['first_diff']].describe().reset_index()\n",
    "    bid_intervals = bid_intervals.droplevel(axis=1, level=0)\n",
    "    bid_intervals = bid_intervals.rename(columns = {'': 'bidder_id', 'mean': 'mean_diff', 'std': 'std_diff', '50%': 'median_diff', 'min': 'min_diff', 'max': 'max_diff'}).fillna(0)\n",
    "    bid_intervals['iqr_diff'] = bid_intervals['75%'] - bid_intervals['25%']\n",
    "    bid_intervals = bid_intervals.drop(['25%', '75%', 'count'], axis = 1)\n",
    "    return bid_intervals"
   ]
  },
  {
   "cell_type": "code",
   "execution_count": 43,
   "id": "7abec65d",
   "metadata": {
    "scrolled": true
   },
   "outputs": [
    {
     "data": {
      "text/html": [
       "<div>\n",
       "<style scoped>\n",
       "    .dataframe tbody tr th:only-of-type {\n",
       "        vertical-align: middle;\n",
       "    }\n",
       "\n",
       "    .dataframe tbody tr th {\n",
       "        vertical-align: top;\n",
       "    }\n",
       "\n",
       "    .dataframe thead th {\n",
       "        text-align: right;\n",
       "    }\n",
       "</style>\n",
       "<table border=\"1\" class=\"dataframe\">\n",
       "  <thead>\n",
       "    <tr style=\"text-align: right;\">\n",
       "      <th></th>\n",
       "      <th>bidder_id</th>\n",
       "      <th>mean_diff</th>\n",
       "      <th>std_diff</th>\n",
       "      <th>min_diff</th>\n",
       "      <th>median_diff</th>\n",
       "      <th>max_diff</th>\n",
       "      <th>iqr_diff</th>\n",
       "    </tr>\n",
       "  </thead>\n",
       "  <tbody>\n",
       "    <tr>\n",
       "      <th>0</th>\n",
       "      <td>00a0517965f18610417ee784a05f494d4dw6e</td>\n",
       "      <td>0.000542</td>\n",
       "      <td>0.004200</td>\n",
       "      <td>5.200691e-07</td>\n",
       "      <td>0.000055</td>\n",
       "      <td>0.049530</td>\n",
       "      <td>0.000187</td>\n",
       "    </tr>\n",
       "    <tr>\n",
       "      <th>1</th>\n",
       "      <td>00cc97158e6f4cb8eac3c0075918b7ffi5k8o</td>\n",
       "      <td>0.027158</td>\n",
       "      <td>0.038331</td>\n",
       "      <td>5.341110e-05</td>\n",
       "      <td>0.027158</td>\n",
       "      <td>0.054262</td>\n",
       "      <td>0.027104</td>\n",
       "    </tr>\n",
       "    <tr>\n",
       "      <th>2</th>\n",
       "      <td>01067975436d123f717ee5aba0dd4bbfa0937</td>\n",
       "      <td>0.000025</td>\n",
       "      <td>0.000053</td>\n",
       "      <td>5.200691e-08</td>\n",
       "      <td>0.000014</td>\n",
       "      <td>0.000959</td>\n",
       "      <td>0.000024</td>\n",
       "    </tr>\n",
       "    <tr>\n",
       "      <th>3</th>\n",
       "      <td>012441119bcf83b23d4768bb72cea6d6carua</td>\n",
       "      <td>0.000556</td>\n",
       "      <td>0.000670</td>\n",
       "      <td>1.040138e-07</td>\n",
       "      <td>0.000470</td>\n",
       "      <td>0.002553</td>\n",
       "      <td>0.000656</td>\n",
       "    </tr>\n",
       "    <tr>\n",
       "      <th>4</th>\n",
       "      <td>01255c2c7c5578c186873422fc00fd7afwk8k</td>\n",
       "      <td>0.000205</td>\n",
       "      <td>0.000269</td>\n",
       "      <td>5.720760e-07</td>\n",
       "      <td>0.000112</td>\n",
       "      <td>0.001443</td>\n",
       "      <td>0.000236</td>\n",
       "    </tr>\n",
       "  </tbody>\n",
       "</table>\n",
       "</div>"
      ],
      "text/plain": [
       "                               bidder_id  mean_diff  std_diff      min_diff  \\\n",
       "0  00a0517965f18610417ee784a05f494d4dw6e   0.000542  0.004200  5.200691e-07   \n",
       "1  00cc97158e6f4cb8eac3c0075918b7ffi5k8o   0.027158  0.038331  5.341110e-05   \n",
       "2  01067975436d123f717ee5aba0dd4bbfa0937   0.000025  0.000053  5.200691e-08   \n",
       "3  012441119bcf83b23d4768bb72cea6d6carua   0.000556  0.000670  1.040138e-07   \n",
       "4  01255c2c7c5578c186873422fc00fd7afwk8k   0.000205  0.000269  5.720760e-07   \n",
       "\n",
       "   median_diff  max_diff  iqr_diff  \n",
       "0     0.000055  0.049530  0.000187  \n",
       "1     0.027158  0.054262  0.027104  \n",
       "2     0.000014  0.000959  0.000024  \n",
       "3     0.000470  0.002553  0.000656  \n",
       "4     0.000112  0.001443  0.000236  "
      ]
     },
     "execution_count": 43,
     "metadata": {},
     "output_type": "execute_result"
    }
   ],
   "source": [
    "bid_intervals = get_bid_intervals(firstdiff_feat)\n",
    "bid_intervals.head()"
   ]
  },
  {
   "cell_type": "markdown",
   "id": "8bc8fedf",
   "metadata": {},
   "source": [
    "Pour les features de différence de temps, nous remplissons les valeurs manquantes avec les valeurs médianes car nous n'avons pas ces informations."
   ]
  },
  {
   "cell_type": "code",
   "execution_count": 44,
   "id": "4361dc8c",
   "metadata": {},
   "outputs": [],
   "source": [
    "# Cette fonction fusionne les nouvelles features avec le dataset \n",
    "def merge_bid_intervals(data):\n",
    "    data = data.merge(bid_intervals, on='bidder_id', how='left')\n",
    "    data = data.fillna(data.median())\n",
    "    return data"
   ]
  },
  {
   "cell_type": "code",
   "execution_count": 45,
   "id": "6b621da6",
   "metadata": {
    "scrolled": true
   },
   "outputs": [
    {
     "data": {
      "text/html": [
       "<div>\n",
       "<style scoped>\n",
       "    .dataframe tbody tr th:only-of-type {\n",
       "        vertical-align: middle;\n",
       "    }\n",
       "\n",
       "    .dataframe tbody tr th {\n",
       "        vertical-align: top;\n",
       "    }\n",
       "\n",
       "    .dataframe thead th {\n",
       "        text-align: right;\n",
       "    }\n",
       "</style>\n",
       "<table border=\"1\" class=\"dataframe\">\n",
       "  <thead>\n",
       "    <tr style=\"text-align: right;\">\n",
       "      <th></th>\n",
       "      <th>bidder_id</th>\n",
       "      <th>outcome</th>\n",
       "      <th>n_bids</th>\n",
       "      <th>n_auctions</th>\n",
       "      <th>n_merchandise</th>\n",
       "      <th>n_device</th>\n",
       "      <th>n_time</th>\n",
       "      <th>n_country</th>\n",
       "      <th>n_ip</th>\n",
       "      <th>n_url</th>\n",
       "      <th>...</th>\n",
       "      <th>bids_per_device</th>\n",
       "      <th>bids_per_url</th>\n",
       "      <th>device_per_auct</th>\n",
       "      <th>ip_per_ctry</th>\n",
       "      <th>mean_diff</th>\n",
       "      <th>std_diff</th>\n",
       "      <th>min_diff</th>\n",
       "      <th>median_diff</th>\n",
       "      <th>max_diff</th>\n",
       "      <th>iqr_diff</th>\n",
       "    </tr>\n",
       "  </thead>\n",
       "  <tbody>\n",
       "    <tr>\n",
       "      <th>0</th>\n",
       "      <td>001068c415025a009fee375a12cff4fcnht8y</td>\n",
       "      <td>0</td>\n",
       "      <td>1</td>\n",
       "      <td>1</td>\n",
       "      <td>1</td>\n",
       "      <td>1</td>\n",
       "      <td>1</td>\n",
       "      <td>1</td>\n",
       "      <td>1</td>\n",
       "      <td>1</td>\n",
       "      <td>...</td>\n",
       "      <td>1.000000</td>\n",
       "      <td>1.000000</td>\n",
       "      <td>1.000000</td>\n",
       "      <td>1.000000</td>\n",
       "      <td>0.000468</td>\n",
       "      <td>0.000764</td>\n",
       "      <td>5.460726e-07</td>\n",
       "      <td>0.000113</td>\n",
       "      <td>0.004185</td>\n",
       "      <td>0.000182</td>\n",
       "    </tr>\n",
       "    <tr>\n",
       "      <th>1</th>\n",
       "      <td>0030a2dd87ad2733e0873062e4f83954mkj86</td>\n",
       "      <td>0</td>\n",
       "      <td>1</td>\n",
       "      <td>1</td>\n",
       "      <td>1</td>\n",
       "      <td>1</td>\n",
       "      <td>1</td>\n",
       "      <td>1</td>\n",
       "      <td>1</td>\n",
       "      <td>1</td>\n",
       "      <td>...</td>\n",
       "      <td>1.000000</td>\n",
       "      <td>1.000000</td>\n",
       "      <td>1.000000</td>\n",
       "      <td>1.000000</td>\n",
       "      <td>0.000468</td>\n",
       "      <td>0.000764</td>\n",
       "      <td>5.460726e-07</td>\n",
       "      <td>0.000113</td>\n",
       "      <td>0.004185</td>\n",
       "      <td>0.000182</td>\n",
       "    </tr>\n",
       "    <tr>\n",
       "      <th>2</th>\n",
       "      <td>00a0517965f18610417ee784a05f494d4dw6e</td>\n",
       "      <td>0</td>\n",
       "      <td>141</td>\n",
       "      <td>74</td>\n",
       "      <td>1</td>\n",
       "      <td>67</td>\n",
       "      <td>141</td>\n",
       "      <td>16</td>\n",
       "      <td>103</td>\n",
       "      <td>84</td>\n",
       "      <td>...</td>\n",
       "      <td>2.104478</td>\n",
       "      <td>1.678571</td>\n",
       "      <td>0.905405</td>\n",
       "      <td>6.437500</td>\n",
       "      <td>0.000542</td>\n",
       "      <td>0.004200</td>\n",
       "      <td>5.200691e-07</td>\n",
       "      <td>0.000055</td>\n",
       "      <td>0.049530</td>\n",
       "      <td>0.000187</td>\n",
       "    </tr>\n",
       "    <tr>\n",
       "      <th>3</th>\n",
       "      <td>00cc97158e6f4cb8eac3c0075918b7ffi5k8o</td>\n",
       "      <td>0</td>\n",
       "      <td>3</td>\n",
       "      <td>3</td>\n",
       "      <td>1</td>\n",
       "      <td>3</td>\n",
       "      <td>3</td>\n",
       "      <td>2</td>\n",
       "      <td>3</td>\n",
       "      <td>1</td>\n",
       "      <td>...</td>\n",
       "      <td>1.000000</td>\n",
       "      <td>3.000000</td>\n",
       "      <td>1.000000</td>\n",
       "      <td>1.500000</td>\n",
       "      <td>0.027158</td>\n",
       "      <td>0.038331</td>\n",
       "      <td>5.341110e-05</td>\n",
       "      <td>0.027158</td>\n",
       "      <td>0.054262</td>\n",
       "      <td>0.027104</td>\n",
       "    </tr>\n",
       "    <tr>\n",
       "      <th>4</th>\n",
       "      <td>01067975436d123f717ee5aba0dd4bbfa0937</td>\n",
       "      <td>0</td>\n",
       "      <td>543</td>\n",
       "      <td>17</td>\n",
       "      <td>1</td>\n",
       "      <td>165</td>\n",
       "      <td>543</td>\n",
       "      <td>71</td>\n",
       "      <td>398</td>\n",
       "      <td>4</td>\n",
       "      <td>...</td>\n",
       "      <td>3.290909</td>\n",
       "      <td>135.750000</td>\n",
       "      <td>9.705882</td>\n",
       "      <td>5.605634</td>\n",
       "      <td>0.000025</td>\n",
       "      <td>0.000053</td>\n",
       "      <td>5.200691e-08</td>\n",
       "      <td>0.000014</td>\n",
       "      <td>0.000959</td>\n",
       "      <td>0.000024</td>\n",
       "    </tr>\n",
       "  </tbody>\n",
       "</table>\n",
       "<p>5 rows × 21 columns</p>\n",
       "</div>"
      ],
      "text/plain": [
       "                               bidder_id  outcome  n_bids  n_auctions  \\\n",
       "0  001068c415025a009fee375a12cff4fcnht8y        0       1           1   \n",
       "1  0030a2dd87ad2733e0873062e4f83954mkj86        0       1           1   \n",
       "2  00a0517965f18610417ee784a05f494d4dw6e        0     141          74   \n",
       "3  00cc97158e6f4cb8eac3c0075918b7ffi5k8o        0       3           3   \n",
       "4  01067975436d123f717ee5aba0dd4bbfa0937        0     543          17   \n",
       "\n",
       "   n_merchandise  n_device  n_time  n_country  n_ip  n_url  ...  \\\n",
       "0              1         1       1          1     1      1  ...   \n",
       "1              1         1       1          1     1      1  ...   \n",
       "2              1        67     141         16   103     84  ...   \n",
       "3              1         3       3          2     3      1  ...   \n",
       "4              1       165     543         71   398      4  ...   \n",
       "\n",
       "   bids_per_device  bids_per_url  device_per_auct  ip_per_ctry  mean_diff  \\\n",
       "0         1.000000      1.000000         1.000000     1.000000   0.000468   \n",
       "1         1.000000      1.000000         1.000000     1.000000   0.000468   \n",
       "2         2.104478      1.678571         0.905405     6.437500   0.000542   \n",
       "3         1.000000      3.000000         1.000000     1.500000   0.027158   \n",
       "4         3.290909    135.750000         9.705882     5.605634   0.000025   \n",
       "\n",
       "   std_diff      min_diff  median_diff  max_diff  iqr_diff  \n",
       "0  0.000764  5.460726e-07     0.000113  0.004185  0.000182  \n",
       "1  0.000764  5.460726e-07     0.000113  0.004185  0.000182  \n",
       "2  0.004200  5.200691e-07     0.000055  0.049530  0.000187  \n",
       "3  0.038331  5.341110e-05     0.027158  0.054262  0.027104  \n",
       "4  0.000053  5.200691e-08     0.000014  0.000959  0.000024  \n",
       "\n",
       "[5 rows x 21 columns]"
      ]
     },
     "execution_count": 45,
     "metadata": {},
     "output_type": "execute_result"
    }
   ],
   "source": [
    "data = merge_bid_intervals(data)\n",
    "data.head()"
   ]
  },
  {
   "cell_type": "markdown",
   "id": "3575b75b",
   "metadata": {},
   "source": [
    "Une observation intéressante est que certains bidders ont un temps de latence nul entre deux offres. Intuitivement, les robots peuvent être en mesure d'atteindre cet objectif plus facilement qu'un humain moyen, et nous pouvons donc examiner les valeurs pour lesquelles la différence de temps est égale à 0."
   ]
  },
  {
   "cell_type": "code",
   "execution_count": 46,
   "id": "e93b63c3",
   "metadata": {},
   "outputs": [],
   "source": [
    "# Cette fonction permet de générer les features dont lesquelles la différence de temps est égal à 0\n",
    "def get_concurrent_bids(firstdiff_feat):\n",
    "    concurrent_bids = firstdiff_feat[firstdiff_feat['first_diff'] == 0].groupby('bidder_id').count().reset_index()\n",
    "    concurrent_bids = concurrent_bids.rename(columns = {'first_diff': 'num_concurrent_bids'})\n",
    "    return concurrent_bids"
   ]
  },
  {
   "cell_type": "code",
   "execution_count": 47,
   "id": "42284a39",
   "metadata": {},
   "outputs": [
    {
     "data": {
      "text/html": [
       "<div>\n",
       "<style scoped>\n",
       "    .dataframe tbody tr th:only-of-type {\n",
       "        vertical-align: middle;\n",
       "    }\n",
       "\n",
       "    .dataframe tbody tr th {\n",
       "        vertical-align: top;\n",
       "    }\n",
       "\n",
       "    .dataframe thead th {\n",
       "        text-align: right;\n",
       "    }\n",
       "</style>\n",
       "<table border=\"1\" class=\"dataframe\">\n",
       "  <thead>\n",
       "    <tr style=\"text-align: right;\">\n",
       "      <th></th>\n",
       "      <th>bidder_id</th>\n",
       "      <th>num_concurrent_bids</th>\n",
       "    </tr>\n",
       "  </thead>\n",
       "  <tbody>\n",
       "    <tr>\n",
       "      <th>0</th>\n",
       "      <td>022ac3a7ce986049d9a4bede83ccf9ddctvg6</td>\n",
       "      <td>325</td>\n",
       "    </tr>\n",
       "    <tr>\n",
       "      <th>1</th>\n",
       "      <td>0318e0a173f7c65db40116b903884c854x258</td>\n",
       "      <td>222</td>\n",
       "    </tr>\n",
       "    <tr>\n",
       "      <th>2</th>\n",
       "      <td>037d9f10da403d8d5f94b6e2957a3702f6x07</td>\n",
       "      <td>325</td>\n",
       "    </tr>\n",
       "    <tr>\n",
       "      <th>3</th>\n",
       "      <td>03a1e81cb7bcd15014489a6f752c9d5b7pvel</td>\n",
       "      <td>1</td>\n",
       "    </tr>\n",
       "    <tr>\n",
       "      <th>4</th>\n",
       "      <td>03aafab9868455b78f0723eda86698ba9v9rm</td>\n",
       "      <td>187</td>\n",
       "    </tr>\n",
       "  </tbody>\n",
       "</table>\n",
       "</div>"
      ],
      "text/plain": [
       "                               bidder_id  num_concurrent_bids\n",
       "0  022ac3a7ce986049d9a4bede83ccf9ddctvg6                  325\n",
       "1  0318e0a173f7c65db40116b903884c854x258                  222\n",
       "2  037d9f10da403d8d5f94b6e2957a3702f6x07                  325\n",
       "3  03a1e81cb7bcd15014489a6f752c9d5b7pvel                    1\n",
       "4  03aafab9868455b78f0723eda86698ba9v9rm                  187"
      ]
     },
     "execution_count": 47,
     "metadata": {},
     "output_type": "execute_result"
    }
   ],
   "source": [
    "concurrent_bids = get_concurrent_bids(firstdiff_feat)\n",
    "concurrent_bids.head()"
   ]
  },
  {
   "cell_type": "markdown",
   "id": "996d6a1d",
   "metadata": {},
   "source": [
    "Lorsque nous ajoutons les features ci-dessus à nos ensembles de données t, nous remplissons les valeurs manquantes pour les offres simultanées par 0 simplement parce que les bidders n'en ont pas."
   ]
  },
  {
   "cell_type": "code",
   "execution_count": 48,
   "id": "2cfcd327",
   "metadata": {},
   "outputs": [],
   "source": [
    "# Cette fonction permet de fussionner les features avec le dataset\n",
    "def merge_concurrent_bids(data,concurrent_bids):\n",
    "    data = data.merge(concurrent_bids, on='bidder_id', how='left').fillna(0)\n",
    "    return data"
   ]
  },
  {
   "cell_type": "code",
   "execution_count": 49,
   "id": "3903cab0",
   "metadata": {
    "scrolled": true
   },
   "outputs": [
    {
     "data": {
      "text/html": [
       "<div>\n",
       "<style scoped>\n",
       "    .dataframe tbody tr th:only-of-type {\n",
       "        vertical-align: middle;\n",
       "    }\n",
       "\n",
       "    .dataframe tbody tr th {\n",
       "        vertical-align: top;\n",
       "    }\n",
       "\n",
       "    .dataframe thead th {\n",
       "        text-align: right;\n",
       "    }\n",
       "</style>\n",
       "<table border=\"1\" class=\"dataframe\">\n",
       "  <thead>\n",
       "    <tr style=\"text-align: right;\">\n",
       "      <th></th>\n",
       "      <th>bidder_id</th>\n",
       "      <th>outcome</th>\n",
       "      <th>n_bids</th>\n",
       "      <th>n_auctions</th>\n",
       "      <th>n_merchandise</th>\n",
       "      <th>n_device</th>\n",
       "      <th>n_time</th>\n",
       "      <th>n_country</th>\n",
       "      <th>n_ip</th>\n",
       "      <th>n_url</th>\n",
       "      <th>...</th>\n",
       "      <th>bids_per_url</th>\n",
       "      <th>device_per_auct</th>\n",
       "      <th>ip_per_ctry</th>\n",
       "      <th>mean_diff</th>\n",
       "      <th>std_diff</th>\n",
       "      <th>min_diff</th>\n",
       "      <th>median_diff</th>\n",
       "      <th>max_diff</th>\n",
       "      <th>iqr_diff</th>\n",
       "      <th>num_concurrent_bids</th>\n",
       "    </tr>\n",
       "  </thead>\n",
       "  <tbody>\n",
       "    <tr>\n",
       "      <th>0</th>\n",
       "      <td>001068c415025a009fee375a12cff4fcnht8y</td>\n",
       "      <td>0</td>\n",
       "      <td>1</td>\n",
       "      <td>1</td>\n",
       "      <td>1</td>\n",
       "      <td>1</td>\n",
       "      <td>1</td>\n",
       "      <td>1</td>\n",
       "      <td>1</td>\n",
       "      <td>1</td>\n",
       "      <td>...</td>\n",
       "      <td>1.000000</td>\n",
       "      <td>1.000000</td>\n",
       "      <td>1.000000</td>\n",
       "      <td>0.000468</td>\n",
       "      <td>0.000764</td>\n",
       "      <td>5.460726e-07</td>\n",
       "      <td>0.000113</td>\n",
       "      <td>0.004185</td>\n",
       "      <td>0.000182</td>\n",
       "      <td>0.0</td>\n",
       "    </tr>\n",
       "    <tr>\n",
       "      <th>1</th>\n",
       "      <td>0030a2dd87ad2733e0873062e4f83954mkj86</td>\n",
       "      <td>0</td>\n",
       "      <td>1</td>\n",
       "      <td>1</td>\n",
       "      <td>1</td>\n",
       "      <td>1</td>\n",
       "      <td>1</td>\n",
       "      <td>1</td>\n",
       "      <td>1</td>\n",
       "      <td>1</td>\n",
       "      <td>...</td>\n",
       "      <td>1.000000</td>\n",
       "      <td>1.000000</td>\n",
       "      <td>1.000000</td>\n",
       "      <td>0.000468</td>\n",
       "      <td>0.000764</td>\n",
       "      <td>5.460726e-07</td>\n",
       "      <td>0.000113</td>\n",
       "      <td>0.004185</td>\n",
       "      <td>0.000182</td>\n",
       "      <td>0.0</td>\n",
       "    </tr>\n",
       "    <tr>\n",
       "      <th>2</th>\n",
       "      <td>00a0517965f18610417ee784a05f494d4dw6e</td>\n",
       "      <td>0</td>\n",
       "      <td>141</td>\n",
       "      <td>74</td>\n",
       "      <td>1</td>\n",
       "      <td>67</td>\n",
       "      <td>141</td>\n",
       "      <td>16</td>\n",
       "      <td>103</td>\n",
       "      <td>84</td>\n",
       "      <td>...</td>\n",
       "      <td>1.678571</td>\n",
       "      <td>0.905405</td>\n",
       "      <td>6.437500</td>\n",
       "      <td>0.000542</td>\n",
       "      <td>0.004200</td>\n",
       "      <td>5.200691e-07</td>\n",
       "      <td>0.000055</td>\n",
       "      <td>0.049530</td>\n",
       "      <td>0.000187</td>\n",
       "      <td>0.0</td>\n",
       "    </tr>\n",
       "    <tr>\n",
       "      <th>3</th>\n",
       "      <td>00cc97158e6f4cb8eac3c0075918b7ffi5k8o</td>\n",
       "      <td>0</td>\n",
       "      <td>3</td>\n",
       "      <td>3</td>\n",
       "      <td>1</td>\n",
       "      <td>3</td>\n",
       "      <td>3</td>\n",
       "      <td>2</td>\n",
       "      <td>3</td>\n",
       "      <td>1</td>\n",
       "      <td>...</td>\n",
       "      <td>3.000000</td>\n",
       "      <td>1.000000</td>\n",
       "      <td>1.500000</td>\n",
       "      <td>0.027158</td>\n",
       "      <td>0.038331</td>\n",
       "      <td>5.341110e-05</td>\n",
       "      <td>0.027158</td>\n",
       "      <td>0.054262</td>\n",
       "      <td>0.027104</td>\n",
       "      <td>0.0</td>\n",
       "    </tr>\n",
       "    <tr>\n",
       "      <th>4</th>\n",
       "      <td>01067975436d123f717ee5aba0dd4bbfa0937</td>\n",
       "      <td>0</td>\n",
       "      <td>543</td>\n",
       "      <td>17</td>\n",
       "      <td>1</td>\n",
       "      <td>165</td>\n",
       "      <td>543</td>\n",
       "      <td>71</td>\n",
       "      <td>398</td>\n",
       "      <td>4</td>\n",
       "      <td>...</td>\n",
       "      <td>135.750000</td>\n",
       "      <td>9.705882</td>\n",
       "      <td>5.605634</td>\n",
       "      <td>0.000025</td>\n",
       "      <td>0.000053</td>\n",
       "      <td>5.200691e-08</td>\n",
       "      <td>0.000014</td>\n",
       "      <td>0.000959</td>\n",
       "      <td>0.000024</td>\n",
       "      <td>0.0</td>\n",
       "    </tr>\n",
       "  </tbody>\n",
       "</table>\n",
       "<p>5 rows × 22 columns</p>\n",
       "</div>"
      ],
      "text/plain": [
       "                               bidder_id  outcome  n_bids  n_auctions  \\\n",
       "0  001068c415025a009fee375a12cff4fcnht8y        0       1           1   \n",
       "1  0030a2dd87ad2733e0873062e4f83954mkj86        0       1           1   \n",
       "2  00a0517965f18610417ee784a05f494d4dw6e        0     141          74   \n",
       "3  00cc97158e6f4cb8eac3c0075918b7ffi5k8o        0       3           3   \n",
       "4  01067975436d123f717ee5aba0dd4bbfa0937        0     543          17   \n",
       "\n",
       "   n_merchandise  n_device  n_time  n_country  n_ip  n_url  ...  bids_per_url  \\\n",
       "0              1         1       1          1     1      1  ...      1.000000   \n",
       "1              1         1       1          1     1      1  ...      1.000000   \n",
       "2              1        67     141         16   103     84  ...      1.678571   \n",
       "3              1         3       3          2     3      1  ...      3.000000   \n",
       "4              1       165     543         71   398      4  ...    135.750000   \n",
       "\n",
       "   device_per_auct  ip_per_ctry  mean_diff  std_diff      min_diff  \\\n",
       "0         1.000000     1.000000   0.000468  0.000764  5.460726e-07   \n",
       "1         1.000000     1.000000   0.000468  0.000764  5.460726e-07   \n",
       "2         0.905405     6.437500   0.000542  0.004200  5.200691e-07   \n",
       "3         1.000000     1.500000   0.027158  0.038331  5.341110e-05   \n",
       "4         9.705882     5.605634   0.000025  0.000053  5.200691e-08   \n",
       "\n",
       "   median_diff  max_diff  iqr_diff  num_concurrent_bids  \n",
       "0     0.000113  0.004185  0.000182                  0.0  \n",
       "1     0.000113  0.004185  0.000182                  0.0  \n",
       "2     0.000055  0.049530  0.000187                  0.0  \n",
       "3     0.027158  0.054262  0.027104                  0.0  \n",
       "4     0.000014  0.000959  0.000024                  0.0  \n",
       "\n",
       "[5 rows x 22 columns]"
      ]
     },
     "execution_count": 49,
     "metadata": {},
     "output_type": "execute_result"
    }
   ],
   "source": [
    "data =  merge_concurrent_bids(data,concurrent_bids)\n",
    "data.head()"
   ]
  },
  {
   "cell_type": "markdown",
   "id": "fbc0f994",
   "metadata": {},
   "source": [
    "Le temps peut être utilisé pour indiquer le comportement d'un enchérisseur par rapport aux autres. La comparaison la plus simple est le nombre de fois où un bidder est le premier ou le dernier dans une enchère. Intuitivement, nous remplissons les valeurs manquantes avec 0."
   ]
  },
  {
   "cell_type": "code",
   "execution_count": 50,
   "id": "09304b19",
   "metadata": {},
   "outputs": [],
   "source": [
    "# Cette fonction permet de générer le nombre de fois où un bidder est le premier dans une enchère\n",
    "def get_first_bid(df):\n",
    "    first_bid = df.sort_values(['auction', 'time'])\n",
    "    first_bid = first_bid.groupby('auction').first().reset_index()\n",
    "    first_bid = first_bid.groupby('bidder_id').count()['bid_id'].reset_index()\n",
    "    first_bid = first_bid.rename(columns = {'bid_id': 'n_prem_bid'})\n",
    "    return first_bid"
   ]
  },
  {
   "cell_type": "code",
   "execution_count": 51,
   "id": "33b60181",
   "metadata": {},
   "outputs": [
    {
     "data": {
      "text/html": [
       "<div>\n",
       "<style scoped>\n",
       "    .dataframe tbody tr th:only-of-type {\n",
       "        vertical-align: middle;\n",
       "    }\n",
       "\n",
       "    .dataframe tbody tr th {\n",
       "        vertical-align: top;\n",
       "    }\n",
       "\n",
       "    .dataframe thead th {\n",
       "        text-align: right;\n",
       "    }\n",
       "</style>\n",
       "<table border=\"1\" class=\"dataframe\">\n",
       "  <thead>\n",
       "    <tr style=\"text-align: right;\">\n",
       "      <th></th>\n",
       "      <th>bidder_id</th>\n",
       "      <th>n_prem_bid</th>\n",
       "    </tr>\n",
       "  </thead>\n",
       "  <tbody>\n",
       "    <tr>\n",
       "      <th>0</th>\n",
       "      <td>00a0517965f18610417ee784a05f494d4dw6e</td>\n",
       "      <td>14</td>\n",
       "    </tr>\n",
       "    <tr>\n",
       "      <th>1</th>\n",
       "      <td>01067975436d123f717ee5aba0dd4bbfa0937</td>\n",
       "      <td>11</td>\n",
       "    </tr>\n",
       "    <tr>\n",
       "      <th>2</th>\n",
       "      <td>01255c2c7c5578c186873422fc00fd7afwk8k</td>\n",
       "      <td>3</td>\n",
       "    </tr>\n",
       "    <tr>\n",
       "      <th>3</th>\n",
       "      <td>01349288df20199905e719f0ff7ee771nwryj</td>\n",
       "      <td>2</td>\n",
       "    </tr>\n",
       "    <tr>\n",
       "      <th>4</th>\n",
       "      <td>0141844fc725a85e38e12cc02fcdbbe8ofqxv</td>\n",
       "      <td>4</td>\n",
       "    </tr>\n",
       "  </tbody>\n",
       "</table>\n",
       "</div>"
      ],
      "text/plain": [
       "                               bidder_id  n_prem_bid\n",
       "0  00a0517965f18610417ee784a05f494d4dw6e          14\n",
       "1  01067975436d123f717ee5aba0dd4bbfa0937          11\n",
       "2  01255c2c7c5578c186873422fc00fd7afwk8k           3\n",
       "3  01349288df20199905e719f0ff7ee771nwryj           2\n",
       "4  0141844fc725a85e38e12cc02fcdbbe8ofqxv           4"
      ]
     },
     "execution_count": 51,
     "metadata": {},
     "output_type": "execute_result"
    }
   ],
   "source": [
    "first_bid = get_first_bid(df)\n",
    "first_bid.head()"
   ]
  },
  {
   "cell_type": "code",
   "execution_count": 52,
   "id": "1032aaac",
   "metadata": {},
   "outputs": [],
   "source": [
    "# Cette fonction permet de générer le nombre de fois où un bidder est le dernier dans une enchère\n",
    "def get_last_bid(df):\n",
    "    last_bid = df.sort_values(['auction', 'time'], ascending = [True, False])\n",
    "    last_bid = last_bid.groupby('auction').first().reset_index()\n",
    "    last_bid = last_bid.groupby('bidder_id').count()['bid_id'].reset_index()\n",
    "    last_bid = last_bid.rename(columns = {'bid_id': 'n_dernier_bid'})\n",
    "    return last_bid\n"
   ]
  },
  {
   "cell_type": "code",
   "execution_count": 53,
   "id": "eee7035b",
   "metadata": {
    "scrolled": true
   },
   "outputs": [
    {
     "data": {
      "text/html": [
       "<div>\n",
       "<style scoped>\n",
       "    .dataframe tbody tr th:only-of-type {\n",
       "        vertical-align: middle;\n",
       "    }\n",
       "\n",
       "    .dataframe tbody tr th {\n",
       "        vertical-align: top;\n",
       "    }\n",
       "\n",
       "    .dataframe thead th {\n",
       "        text-align: right;\n",
       "    }\n",
       "</style>\n",
       "<table border=\"1\" class=\"dataframe\">\n",
       "  <thead>\n",
       "    <tr style=\"text-align: right;\">\n",
       "      <th></th>\n",
       "      <th>bidder_id</th>\n",
       "      <th>n_dernier_bid</th>\n",
       "    </tr>\n",
       "  </thead>\n",
       "  <tbody>\n",
       "    <tr>\n",
       "      <th>0</th>\n",
       "      <td>001068c415025a009fee375a12cff4fcnht8y</td>\n",
       "      <td>1</td>\n",
       "    </tr>\n",
       "    <tr>\n",
       "      <th>1</th>\n",
       "      <td>00a0517965f18610417ee784a05f494d4dw6e</td>\n",
       "      <td>23</td>\n",
       "    </tr>\n",
       "    <tr>\n",
       "      <th>2</th>\n",
       "      <td>01067975436d123f717ee5aba0dd4bbfa0937</td>\n",
       "      <td>10</td>\n",
       "    </tr>\n",
       "    <tr>\n",
       "      <th>3</th>\n",
       "      <td>012441119bcf83b23d4768bb72cea6d6carua</td>\n",
       "      <td>3</td>\n",
       "    </tr>\n",
       "    <tr>\n",
       "      <th>4</th>\n",
       "      <td>01255c2c7c5578c186873422fc00fd7afwk8k</td>\n",
       "      <td>3</td>\n",
       "    </tr>\n",
       "  </tbody>\n",
       "</table>\n",
       "</div>"
      ],
      "text/plain": [
       "                               bidder_id  n_dernier_bid\n",
       "0  001068c415025a009fee375a12cff4fcnht8y              1\n",
       "1  00a0517965f18610417ee784a05f494d4dw6e             23\n",
       "2  01067975436d123f717ee5aba0dd4bbfa0937             10\n",
       "3  012441119bcf83b23d4768bb72cea6d6carua              3\n",
       "4  01255c2c7c5578c186873422fc00fd7afwk8k              3"
      ]
     },
     "execution_count": 53,
     "metadata": {},
     "output_type": "execute_result"
    }
   ],
   "source": [
    "last_bid = get_last_bid(df)\n",
    "last_bid.head()"
   ]
  },
  {
   "cell_type": "code",
   "execution_count": 54,
   "id": "5c2ab914",
   "metadata": {},
   "outputs": [],
   "source": [
    "# Cette fonction permet de fusionner les features first_bid et last_bid avec le dataset\n",
    "def merge_first_last_bid(data,first_bid,last_bid):\n",
    "    data = data.merge(first_bid, on='bidder_id', how='left').fillna(0)\n",
    "    data = data.merge(last_bid, on='bidder_id', how='left').fillna(0)\n",
    "    return data"
   ]
  },
  {
   "cell_type": "code",
   "execution_count": 55,
   "id": "c68f5fbc",
   "metadata": {},
   "outputs": [
    {
     "data": {
      "text/html": [
       "<div>\n",
       "<style scoped>\n",
       "    .dataframe tbody tr th:only-of-type {\n",
       "        vertical-align: middle;\n",
       "    }\n",
       "\n",
       "    .dataframe tbody tr th {\n",
       "        vertical-align: top;\n",
       "    }\n",
       "\n",
       "    .dataframe thead th {\n",
       "        text-align: right;\n",
       "    }\n",
       "</style>\n",
       "<table border=\"1\" class=\"dataframe\">\n",
       "  <thead>\n",
       "    <tr style=\"text-align: right;\">\n",
       "      <th></th>\n",
       "      <th>bidder_id</th>\n",
       "      <th>outcome</th>\n",
       "      <th>n_bids</th>\n",
       "      <th>n_auctions</th>\n",
       "      <th>n_merchandise</th>\n",
       "      <th>n_device</th>\n",
       "      <th>n_time</th>\n",
       "      <th>n_country</th>\n",
       "      <th>n_ip</th>\n",
       "      <th>n_url</th>\n",
       "      <th>...</th>\n",
       "      <th>ip_per_ctry</th>\n",
       "      <th>mean_diff</th>\n",
       "      <th>std_diff</th>\n",
       "      <th>min_diff</th>\n",
       "      <th>median_diff</th>\n",
       "      <th>max_diff</th>\n",
       "      <th>iqr_diff</th>\n",
       "      <th>num_concurrent_bids</th>\n",
       "      <th>n_prem_bid</th>\n",
       "      <th>n_dernier_bid</th>\n",
       "    </tr>\n",
       "  </thead>\n",
       "  <tbody>\n",
       "    <tr>\n",
       "      <th>0</th>\n",
       "      <td>001068c415025a009fee375a12cff4fcnht8y</td>\n",
       "      <td>0</td>\n",
       "      <td>1</td>\n",
       "      <td>1</td>\n",
       "      <td>1</td>\n",
       "      <td>1</td>\n",
       "      <td>1</td>\n",
       "      <td>1</td>\n",
       "      <td>1</td>\n",
       "      <td>1</td>\n",
       "      <td>...</td>\n",
       "      <td>1.000000</td>\n",
       "      <td>0.000468</td>\n",
       "      <td>0.000764</td>\n",
       "      <td>5.460726e-07</td>\n",
       "      <td>0.000113</td>\n",
       "      <td>0.004185</td>\n",
       "      <td>0.000182</td>\n",
       "      <td>0.0</td>\n",
       "      <td>0.0</td>\n",
       "      <td>1.0</td>\n",
       "    </tr>\n",
       "    <tr>\n",
       "      <th>1</th>\n",
       "      <td>0030a2dd87ad2733e0873062e4f83954mkj86</td>\n",
       "      <td>0</td>\n",
       "      <td>1</td>\n",
       "      <td>1</td>\n",
       "      <td>1</td>\n",
       "      <td>1</td>\n",
       "      <td>1</td>\n",
       "      <td>1</td>\n",
       "      <td>1</td>\n",
       "      <td>1</td>\n",
       "      <td>...</td>\n",
       "      <td>1.000000</td>\n",
       "      <td>0.000468</td>\n",
       "      <td>0.000764</td>\n",
       "      <td>5.460726e-07</td>\n",
       "      <td>0.000113</td>\n",
       "      <td>0.004185</td>\n",
       "      <td>0.000182</td>\n",
       "      <td>0.0</td>\n",
       "      <td>0.0</td>\n",
       "      <td>0.0</td>\n",
       "    </tr>\n",
       "    <tr>\n",
       "      <th>2</th>\n",
       "      <td>00a0517965f18610417ee784a05f494d4dw6e</td>\n",
       "      <td>0</td>\n",
       "      <td>141</td>\n",
       "      <td>74</td>\n",
       "      <td>1</td>\n",
       "      <td>67</td>\n",
       "      <td>141</td>\n",
       "      <td>16</td>\n",
       "      <td>103</td>\n",
       "      <td>84</td>\n",
       "      <td>...</td>\n",
       "      <td>6.437500</td>\n",
       "      <td>0.000542</td>\n",
       "      <td>0.004200</td>\n",
       "      <td>5.200691e-07</td>\n",
       "      <td>0.000055</td>\n",
       "      <td>0.049530</td>\n",
       "      <td>0.000187</td>\n",
       "      <td>0.0</td>\n",
       "      <td>14.0</td>\n",
       "      <td>23.0</td>\n",
       "    </tr>\n",
       "    <tr>\n",
       "      <th>3</th>\n",
       "      <td>00cc97158e6f4cb8eac3c0075918b7ffi5k8o</td>\n",
       "      <td>0</td>\n",
       "      <td>3</td>\n",
       "      <td>3</td>\n",
       "      <td>1</td>\n",
       "      <td>3</td>\n",
       "      <td>3</td>\n",
       "      <td>2</td>\n",
       "      <td>3</td>\n",
       "      <td>1</td>\n",
       "      <td>...</td>\n",
       "      <td>1.500000</td>\n",
       "      <td>0.027158</td>\n",
       "      <td>0.038331</td>\n",
       "      <td>5.341110e-05</td>\n",
       "      <td>0.027158</td>\n",
       "      <td>0.054262</td>\n",
       "      <td>0.027104</td>\n",
       "      <td>0.0</td>\n",
       "      <td>0.0</td>\n",
       "      <td>0.0</td>\n",
       "    </tr>\n",
       "    <tr>\n",
       "      <th>4</th>\n",
       "      <td>01067975436d123f717ee5aba0dd4bbfa0937</td>\n",
       "      <td>0</td>\n",
       "      <td>543</td>\n",
       "      <td>17</td>\n",
       "      <td>1</td>\n",
       "      <td>165</td>\n",
       "      <td>543</td>\n",
       "      <td>71</td>\n",
       "      <td>398</td>\n",
       "      <td>4</td>\n",
       "      <td>...</td>\n",
       "      <td>5.605634</td>\n",
       "      <td>0.000025</td>\n",
       "      <td>0.000053</td>\n",
       "      <td>5.200691e-08</td>\n",
       "      <td>0.000014</td>\n",
       "      <td>0.000959</td>\n",
       "      <td>0.000024</td>\n",
       "      <td>0.0</td>\n",
       "      <td>11.0</td>\n",
       "      <td>10.0</td>\n",
       "    </tr>\n",
       "  </tbody>\n",
       "</table>\n",
       "<p>5 rows × 24 columns</p>\n",
       "</div>"
      ],
      "text/plain": [
       "                               bidder_id  outcome  n_bids  n_auctions  \\\n",
       "0  001068c415025a009fee375a12cff4fcnht8y        0       1           1   \n",
       "1  0030a2dd87ad2733e0873062e4f83954mkj86        0       1           1   \n",
       "2  00a0517965f18610417ee784a05f494d4dw6e        0     141          74   \n",
       "3  00cc97158e6f4cb8eac3c0075918b7ffi5k8o        0       3           3   \n",
       "4  01067975436d123f717ee5aba0dd4bbfa0937        0     543          17   \n",
       "\n",
       "   n_merchandise  n_device  n_time  n_country  n_ip  n_url  ...  ip_per_ctry  \\\n",
       "0              1         1       1          1     1      1  ...     1.000000   \n",
       "1              1         1       1          1     1      1  ...     1.000000   \n",
       "2              1        67     141         16   103     84  ...     6.437500   \n",
       "3              1         3       3          2     3      1  ...     1.500000   \n",
       "4              1       165     543         71   398      4  ...     5.605634   \n",
       "\n",
       "   mean_diff  std_diff      min_diff  median_diff  max_diff  iqr_diff  \\\n",
       "0   0.000468  0.000764  5.460726e-07     0.000113  0.004185  0.000182   \n",
       "1   0.000468  0.000764  5.460726e-07     0.000113  0.004185  0.000182   \n",
       "2   0.000542  0.004200  5.200691e-07     0.000055  0.049530  0.000187   \n",
       "3   0.027158  0.038331  5.341110e-05     0.027158  0.054262  0.027104   \n",
       "4   0.000025  0.000053  5.200691e-08     0.000014  0.000959  0.000024   \n",
       "\n",
       "   num_concurrent_bids  n_prem_bid  n_dernier_bid  \n",
       "0                  0.0         0.0            1.0  \n",
       "1                  0.0         0.0            0.0  \n",
       "2                  0.0        14.0           23.0  \n",
       "3                  0.0         0.0            0.0  \n",
       "4                  0.0        11.0           10.0  \n",
       "\n",
       "[5 rows x 24 columns]"
      ]
     },
     "execution_count": 55,
     "metadata": {},
     "output_type": "execute_result"
    }
   ],
   "source": [
    "data = merge_first_last_bid(data,first_bid,last_bid)\n",
    "data.head()"
   ]
  },
  {
   "cell_type": "markdown",
   "id": "9c80d755",
   "metadata": {},
   "source": [
    "On se retrouve avec à peu près 30 features crées. Il est judicieux de choisir que les features importantes et signifiants pour l'apprentissage. Pour y arriver, il existe plusieurs méthodes et techniques."
   ]
  },
  {
   "cell_type": "markdown",
   "id": "dccf1eb8",
   "metadata": {},
   "source": [
    "Une méthode très simple consiste à faire apprendre un Random Forest sur les données et calculer des scores d'importances pour chaque feature d'entrée. "
   ]
  },
  {
   "cell_type": "code",
   "execution_count": 56,
   "id": "ff952ae2",
   "metadata": {
    "scrolled": true
   },
   "outputs": [
    {
     "data": {
      "text/plain": [
       "Text(0.5, 0, 'Feature Importance')"
      ]
     },
     "execution_count": 56,
     "metadata": {},
     "output_type": "execute_result"
    },
    {
     "data": {
      "image/png": "[encoded data removed]",
      "text/plain": [
       "<Figure size 432x288 with 1 Axes>"
      ]
     },
     "metadata": {
      "needs_background": "light"
     },
     "output_type": "display_data"
    }
   ],
   "source": [
    "X = data.loc[:,(data.columns != 'outcome')&(data.columns != \"bidder_id\")]\n",
    "y = data.loc[:,data.columns == 'outcome']\n",
    "\n",
    "X_train, X_test, y_train, y_test = train_test_split(X, y, test_size=0.25, random_state=42)\n",
    "\n",
    "\n",
    "rf = RandomForestClassifier(n_estimators = 10)\n",
    "rf.fit(X_train,y_train)\n",
    "\n",
    "sort = rf.feature_importances_.argsort()\n",
    "plt.barh([X.columns[elt] for elt in sort], rf.feature_importances_[sort])\n",
    "plt.xlabel(\"Feature Importance\")"
   ]
  },
  {
   "cell_type": "markdown",
   "id": "e95e5952",
   "metadata": {},
   "source": [
    "Essayons d'autre méthodes de détermination d'importance de features"
   ]
  },
  {
   "cell_type": "code",
   "execution_count": 57,
   "id": "2e3f4d47",
   "metadata": {
    "scrolled": false
   },
   "outputs": [
    {
     "data": {
      "text/html": [
       "<div>\n",
       "<style scoped>\n",
       "    .dataframe tbody tr th:only-of-type {\n",
       "        vertical-align: middle;\n",
       "    }\n",
       "\n",
       "    .dataframe tbody tr th {\n",
       "        vertical-align: top;\n",
       "    }\n",
       "\n",
       "    .dataframe thead th {\n",
       "        text-align: right;\n",
       "    }\n",
       "</style>\n",
       "<table border=\"1\" class=\"dataframe\">\n",
       "  <thead>\n",
       "    <tr style=\"text-align: right;\">\n",
       "      <th>outcome</th>\n",
       "      <th>0</th>\n",
       "      <th>1</th>\n",
       "    </tr>\n",
       "  </thead>\n",
       "  <tbody>\n",
       "    <tr>\n",
       "      <th>n_bids</th>\n",
       "      <td>1121.938272</td>\n",
       "      <td>1520.500000</td>\n",
       "    </tr>\n",
       "    <tr>\n",
       "      <th>n_auctions</th>\n",
       "      <td>58.395062</td>\n",
       "      <td>119.333333</td>\n",
       "    </tr>\n",
       "    <tr>\n",
       "      <th>n_merchandise</th>\n",
       "      <td>1.000000</td>\n",
       "      <td>1.000000</td>\n",
       "    </tr>\n",
       "    <tr>\n",
       "      <th>n_device</th>\n",
       "      <td>81.864198</td>\n",
       "      <td>87.000000</td>\n",
       "    </tr>\n",
       "    <tr>\n",
       "      <th>n_time</th>\n",
       "      <td>1095.185185</td>\n",
       "      <td>1445.000000</td>\n",
       "    </tr>\n",
       "    <tr>\n",
       "      <th>n_country</th>\n",
       "      <td>14.753086</td>\n",
       "      <td>18.333333</td>\n",
       "    </tr>\n",
       "    <tr>\n",
       "      <th>n_ip</th>\n",
       "      <td>601.382716</td>\n",
       "      <td>801.166667</td>\n",
       "    </tr>\n",
       "    <tr>\n",
       "      <th>n_url</th>\n",
       "      <td>256.185185</td>\n",
       "      <td>219.166667</td>\n",
       "    </tr>\n",
       "    <tr>\n",
       "      <th>bids_per_auct</th>\n",
       "      <td>5.948732</td>\n",
       "      <td>15.502561</td>\n",
       "    </tr>\n",
       "    <tr>\n",
       "      <th>bids_per_device</th>\n",
       "      <td>4.665599</td>\n",
       "      <td>72.107571</td>\n",
       "    </tr>\n",
       "    <tr>\n",
       "      <th>bids_per_url</th>\n",
       "      <td>10.506709</td>\n",
       "      <td>298.479766</td>\n",
       "    </tr>\n",
       "    <tr>\n",
       "      <th>device_per_auct</th>\n",
       "      <td>1.487481</td>\n",
       "      <td>0.341439</td>\n",
       "    </tr>\n",
       "    <tr>\n",
       "      <th>ip_per_ctry</th>\n",
       "      <td>11.621904</td>\n",
       "      <td>49.300327</td>\n",
       "    </tr>\n",
       "    <tr>\n",
       "      <th>mean_diff</th>\n",
       "      <td>0.002289</td>\n",
       "      <td>0.000054</td>\n",
       "    </tr>\n",
       "    <tr>\n",
       "      <th>std_diff</th>\n",
       "      <td>0.003497</td>\n",
       "      <td>0.000711</td>\n",
       "    </tr>\n",
       "    <tr>\n",
       "      <th>min_diff</th>\n",
       "      <td>0.000387</td>\n",
       "      <td>0.000000</td>\n",
       "    </tr>\n",
       "    <tr>\n",
       "      <th>median_diff</th>\n",
       "      <td>0.000988</td>\n",
       "      <td>0.000005</td>\n",
       "    </tr>\n",
       "    <tr>\n",
       "      <th>max_diff</th>\n",
       "      <td>0.015292</td>\n",
       "      <td>0.017253</td>\n",
       "    </tr>\n",
       "    <tr>\n",
       "      <th>iqr_diff</th>\n",
       "      <td>0.002274</td>\n",
       "      <td>0.000017</td>\n",
       "    </tr>\n",
       "    <tr>\n",
       "      <th>num_concurrent_bids</th>\n",
       "      <td>26.753086</td>\n",
       "      <td>75.500000</td>\n",
       "    </tr>\n",
       "    <tr>\n",
       "      <th>n_prem_bid</th>\n",
       "      <td>36.567901</td>\n",
       "      <td>79.333333</td>\n",
       "    </tr>\n",
       "    <tr>\n",
       "      <th>n_dernier_bid</th>\n",
       "      <td>37.839506</td>\n",
       "      <td>62.166667</td>\n",
       "    </tr>\n",
       "  </tbody>\n",
       "</table>\n",
       "</div>"
      ],
      "text/plain": [
       "outcome                        0            1\n",
       "n_bids               1121.938272  1520.500000\n",
       "n_auctions             58.395062   119.333333\n",
       "n_merchandise           1.000000     1.000000\n",
       "n_device               81.864198    87.000000\n",
       "n_time               1095.185185  1445.000000\n",
       "n_country              14.753086    18.333333\n",
       "n_ip                  601.382716   801.166667\n",
       "n_url                 256.185185   219.166667\n",
       "bids_per_auct           5.948732    15.502561\n",
       "bids_per_device         4.665599    72.107571\n",
       "bids_per_url           10.506709   298.479766\n",
       "device_per_auct         1.487481     0.341439\n",
       "ip_per_ctry            11.621904    49.300327\n",
       "mean_diff               0.002289     0.000054\n",
       "std_diff                0.003497     0.000711\n",
       "min_diff                0.000387     0.000000\n",
       "median_diff             0.000988     0.000005\n",
       "max_diff                0.015292     0.017253\n",
       "iqr_diff                0.002274     0.000017\n",
       "num_concurrent_bids    26.753086    75.500000\n",
       "n_prem_bid             36.567901    79.333333\n",
       "n_dernier_bid          37.839506    62.166667"
      ]
     },
     "execution_count": 57,
     "metadata": {},
     "output_type": "execute_result"
    }
   ],
   "source": [
    "data.groupby('outcome').mean().T"
   ]
  },
  {
   "cell_type": "markdown",
   "id": "2f7d8e34",
   "metadata": {},
   "source": [
    " On remarque que la colonne n_merchandise a la meme moyenne pour les robots et les humains. Elle sera moins utile pour déterminer si le bidder est un humain ou un robot. Ceci est aussi confirmer par le score de feature importance par Random Forest. Nous décidons donc d'enlever ce feature"
   ]
  },
  {
   "cell_type": "code",
   "execution_count": 58,
   "id": "2dc4ab41",
   "metadata": {},
   "outputs": [],
   "source": [
    "data.drop(['n_merchandise'],axis = 1, inplace=True)"
   ]
  },
  {
   "cell_type": "markdown",
   "id": "85114975",
   "metadata": {},
   "source": [
    "Une autre méthode pour déterminer les features importants est de voir la distribution de ces derniers pour les deux classes. Un bon feature aura deux distributions différentes pour les deux classes."
   ]
  },
  {
   "cell_type": "code",
   "execution_count": 59,
   "id": "d4570c47",
   "metadata": {
    "scrolled": false
   },
   "outputs": [
    {
     "data": {
      "image/png": "[encoded data removed]",
      "text/plain": [
       "<Figure size 1296x4320 with 22 Axes>"
      ]
     },
     "metadata": {
      "needs_background": "light"
     },
     "output_type": "display_data"
    }
   ],
   "source": [
    "features = data.loc[:,(data.columns != 'bidder_id') & (data.columns != \"outcome\")]\n",
    "nrows = 11\n",
    "ncols = 2\n",
    "fig, axes = plt.subplots(nrows = nrows, ncols = ncols, figsize = (18, 60))\n",
    "for i, column in enumerate(features.columns):\n",
    "    humains = sns.kdeplot(data = data[data['outcome'] == 0],\n",
    "                x = column,\n",
    "                ax = axes[i // ncols, i % ncols],\n",
    "                color = 'blue',\n",
    "                fill = True,\n",
    "                alpha = 0.1,\n",
    "                linewidth = 2,\n",
    "                label = 'Humain').set_xlim(left = 0)\n",
    "    robots = sns.kdeplot(data = data[data['outcome'] == 1],\n",
    "                x = column,\n",
    "                ax = axes[i // ncols, i % ncols],\n",
    "                color = 'red',\n",
    "                fill = True,\n",
    "                alpha = 0.1,\n",
    "                linewidth = 2,\n",
    "                label = 'Robot').set_xlim(left = 0)\n",
    "    axes[i // ncols,i % ncols].legend()\n",
    "    \n",
    "plt.show()"
   ]
  },
  {
   "cell_type": "markdown",
   "id": "9d3f9b41",
   "metadata": {},
   "source": [
    "le feature n_url a deux distribution assez similiaire. Nous choisissons de l'eliminer"
   ]
  },
  {
   "cell_type": "code",
   "execution_count": 60,
   "id": "49e636f2",
   "metadata": {},
   "outputs": [],
   "source": [
    "data = data.drop(['n_url'], axis =1)"
   ]
  },
  {
   "cell_type": "markdown",
   "id": "722a6e95",
   "metadata": {},
   "source": [
    "# Learning and Model validation"
   ]
  },
  {
   "cell_type": "markdown",
   "id": "f43d0704",
   "metadata": {},
   "source": [
    "Nous remarquons tout d'abord que notre jeu de données est trés dèsequilibré. Le nombre d'humain est très supérieur à celui des robots. "
   ]
  },
  {
   "cell_type": "code",
   "execution_count": 61,
   "id": "d810c59a",
   "metadata": {},
   "outputs": [
    {
     "data": {
      "text/plain": [
       "0    81\n",
       "1     6\n",
       "Name: outcome, dtype: int64"
      ]
     },
     "execution_count": 61,
     "metadata": {},
     "output_type": "execute_result"
    }
   ],
   "source": [
    "data['outcome'].value_counts()"
   ]
  },
  {
   "cell_type": "code",
   "execution_count": 62,
   "id": "1e68c7e0",
   "metadata": {},
   "outputs": [
    {
     "data": {
      "text/plain": [
       "<AxesSubplot:xlabel='outcome'>"
      ]
     },
     "execution_count": 62,
     "metadata": {},
     "output_type": "execute_result"
    },
    {
     "data": {
      "image/png": "[encoded data removed]",
      "text/plain": [
       "<Figure size 432x288 with 1 Axes>"
      ]
     },
     "metadata": {
      "needs_background": "light"
     },
     "output_type": "display_data"
    }
   ],
   "source": [
    "data.pivot_table(index='outcome', aggfunc='size').plot(kind='bar')"
   ]
  },
  {
   "cell_type": "markdown",
   "id": "f19c4b67",
   "metadata": {},
   "source": [
    "Pour remediér à cela, deux méthodes majeurs existent. Le sous-échantillonnage (Undersampling) est le processus par lequel vous supprimez de manière aléatoire certaines des observations de la classe majoritaire afin de faire correspondre les chiffres avec ceux de la classe minoritaire. Cette méthode ne nous convient pas puisque nous avions deja un manque des observations. Nous nous pouvons pas nous permettre d'enlever des observations."
   ]
  },
  {
   "cell_type": "markdown",
   "id": "a4f8bbc6",
   "metadata": {},
   "source": [
    "En outre,Il existe le sur-échantillonnage (Oversampling). Il s'agit du processus de génération de données synthétiques qui tente de générer de manière aléatoire un échantillon des attributs à partir des observations de la classe minoritaire. Il existe un certain nombre de méthodes utilisées pour suréchantillonner un ensemble de données pour un problème de classification typique. La technique la plus courante est appelée SMOTE (Synthetic Minority Over-sampling Technique). En termes simples, elle examine l'espace des caractéristiques des points de données de la classe minoritaire et considère ses k voisins les plus proches.\n"
   ]
  },
  {
   "cell_type": "markdown",
   "id": "8882e195",
   "metadata": {},
   "source": [
    "Nous devons toujours diviser notre ensemble de données en train et test avant d'équilibrer les données. De cette façon, nous nous assurons que l'ensemble de données de test est aussi impartial que possible et qu'il reflète une véritable évaluation de notre modèle.\n",
    "Équilibrer les données avant de les diviser peut introduire un biais dans l'ensemble de test, où quelques points de données sont générés synthétiquement et sont bien connus de l'ensemble d'entraînement. L'ensemble de test doit être aussi objectif que possible."
   ]
  },
  {
   "cell_type": "markdown",
   "id": "6594bacb",
   "metadata": {},
   "source": [
    "Dans les cas où les données sont équilibrées, nous pouvons générer un ensemble train/test simplement en assignant de manière aléatoire 30% des données à un ensemble de test. Cependant, dans le cas de données déséquilibrées, cette méthode doit être évitée. Le risque est grand de se retrouver avec presque aucun cas de la classe minoritaire dans l'ensemble de test.\n",
    "\n",
    "L'échantillonnage stratifié est une solution à ce problème. L'échantillonnage stratifié force l'équilibre des classes sur l'ensemble de données de formation et de test comme les données d'origine."
   ]
  },
  {
   "cell_type": "code",
   "execution_count": 63,
   "id": "0b9dc92d",
   "metadata": {},
   "outputs": [],
   "source": [
    "dtrain, dtest = train_test_split(data, test_size = 0.3, stratify=data.outcome)"
   ]
  },
  {
   "cell_type": "code",
   "execution_count": 64,
   "id": "f035bd31",
   "metadata": {},
   "outputs": [
    {
     "data": {
      "text/plain": [
       "<AxesSubplot:title={'center':\"Verifier que la distribution dans train est la meme que les données d'entrée\"}, xlabel='outcome'>"
      ]
     },
     "execution_count": 64,
     "metadata": {},
     "output_type": "execute_result"
    },
    {
     "data": {
      "image/png": "[encoded data removed]",
      "text/plain": [
       "<Figure size 432x288 with 1 Axes>"
      ]
     },
     "metadata": {
      "needs_background": "light"
     },
     "output_type": "display_data"
    }
   ],
   "source": [
    "dtrain.pivot_table(index='outcome', aggfunc='size').plot(kind='bar', title=\"Verifier que la distribution dans train est la meme que les données d'entrée\")\n"
   ]
  },
  {
   "cell_type": "code",
   "execution_count": 65,
   "id": "a8636560",
   "metadata": {},
   "outputs": [
    {
     "data": {
      "text/plain": [
       "<AxesSubplot:title={'center':\"Verifier que la distribution dans test est la meme que les données d'entrée\"}, xlabel='outcome'>"
      ]
     },
     "execution_count": 65,
     "metadata": {},
     "output_type": "execute_result"
    },
    {
     "data": {
      "image/png": "[encoded data removed]",
      "text/plain": [
       "<Figure size 432x288 with 1 Axes>"
      ]
     },
     "metadata": {
      "needs_background": "light"
     },
     "output_type": "display_data"
    }
   ],
   "source": [
    "dtest.pivot_table(index='outcome', aggfunc='size').plot(kind='bar', title=\"Verifier que la distribution dans test est la meme que les données d'entrée\")\n"
   ]
  },
  {
   "cell_type": "markdown",
   "id": "253897a6",
   "metadata": {},
   "source": [
    "On appliquera maintenant la méthode SMOTE. Pour y faire, on utilisera le package imblearn"
   ]
  },
  {
   "cell_type": "code",
   "execution_count": 66,
   "id": "6ee26d6e",
   "metadata": {},
   "outputs": [],
   "source": [
    "X_smote, y_smote = SMOTE(k_neighbors=3).fit_resample(dtrain[['n_bids', 'n_auctions', 'n_device', 'n_time',\n",
    "       'n_country', 'n_ip', 'bids_per_auct', 'bids_per_device',\n",
    "       'bids_per_url', 'device_per_auct', 'ip_per_ctry', 'mean_diff',\n",
    "       'std_diff', 'min_diff', 'median_diff', 'max_diff', 'iqr_diff',\n",
    "       'num_concurrent_bids', 'n_prem_bid', 'n_dernier_bid']], dtrain['outcome'])"
   ]
  },
  {
   "cell_type": "code",
   "execution_count": 67,
   "id": "77274263",
   "metadata": {},
   "outputs": [
    {
     "data": {
      "text/plain": [
       "<AxesSubplot:title={'center':'Distribution des classes après SMOTE'}, xlabel='outcome'>"
      ]
     },
     "execution_count": 67,
     "metadata": {},
     "output_type": "execute_result"
    },
    {
     "data": {
      "image/png": "[encoded data removed]",
      "text/plain": [
       "<Figure size 432x288 with 1 Axes>"
      ]
     },
     "metadata": {
      "needs_background": "light"
     },
     "output_type": "display_data"
    }
   ],
   "source": [
    "pd.Series(y_smote).value_counts().plot(kind='bar', title='Distribution des classes après SMOTE', xlabel='outcome')\n"
   ]
  },
  {
   "cell_type": "markdown",
   "id": "50c5fbdd",
   "metadata": {},
   "source": [
    "Une autre méthode consiste à utiliser un autoencoder variationel (VAE) pour génerer de nouvelles échantillons pour la classe dont on a peu d'échantillons. De cette manière, on pourrait avoir un dataset plus équilibré. "
   ]
  },
  {
   "cell_type": "markdown",
   "id": "ccf15abf",
   "metadata": {},
   "source": [
    "On commence tout d'abord par définir notre classe VAE. On utilisera dans ce notebook le framework Tensorflow"
   ]
  },
  {
   "cell_type": "code",
   "execution_count": 68,
   "id": "bae38eb7",
   "metadata": {},
   "outputs": [],
   "source": [
    "\n",
    "relu = tf.nn.relu\n",
    "\n",
    "\n",
    "class VAE(tf.keras.Model):\n",
    "    \"\"\"\n",
    "    Nous heritons une classe VAE de tf.keras.Model\n",
    "\n",
    "    paramètres:\n",
    "    ndim (int): nombre de dimensions des données d'entrée\n",
    "    latent_dim (int): nombre de dimensions de la variable latente\n",
    "\n",
    "    attributs:\n",
    "    ndim (int): nombre de dimensions de l'entrée\n",
    "    latent_dim (int): nombre de dimensions de la variable latente\n",
    "    inference_net (keras.Sequential): Le modèle d'inférence qui prend une entrée de taille=(None, ndim) et retourne une matrice de taille=(None, latent_dim)\n",
    "    generative_net (keras.Sequential): Le modèle génératif qui prend une entrée de taille=(None, latent_dim) et retourne une matrice de taille=(None, ndim)\n",
    "    \"\"\"\n",
    "    def __init__(self, ndim, latent_dim):\n",
    "        super(VAE, self).__init__()\n",
    "        self.latent_dim = latent_dim  \n",
    "        self.ndim = ndim        \n",
    "        self.inference_net = Sequential(\n",
    "            [\n",
    "                InputLayer(input_shape=(ndim,)),\n",
    "                Dense(100, activation=relu),\n",
    "                Dense(2 * latent_dim)\n",
    "            ]\n",
    "        )\n",
    "        \n",
    "        self.generative_net = Sequential(\n",
    "            [\n",
    "                InputLayer(input_shape=(latent_dim,)),\n",
    "                Dense(100, activation=relu),\n",
    "                Dense(ndim)\n",
    "            ])\n",
    "\n",
    "    @tf.function\n",
    "    def sample(self, num_samples=100, eps=None):\n",
    "        \"\"\"\n",
    "        Étant donné un bruit d'entrée de taille (num_échantillons, latent_dim), générer des échantillons de taille (num_échantillons, ndim)\n",
    "\n",
    "        paramètres :\n",
    "        num_samples (int) : nombre d'échantillons\n",
    "        eps (numpy.ndarray) : bruit d'entrée. Si spécifié, num_samples est ignoré.\n",
    "\n",
    "        retourne :\n",
    "        numpy.ndarray : les échantillons décodés\n",
    "        \"\"\"\n",
    "        if eps is None:\n",
    "            eps = tf.random.normal(shape=(num_samples, self.latent_dim))\n",
    "        return self.decode(eps)\n",
    "\n",
    "    def encode(self, x):\n",
    "        \"\"\"\n",
    "        \n",
    "       paramètres :\n",
    "        x (numpy.ndarray) : les données d'entrée de taille (None, ndim)\n",
    "\n",
    "        renvoie :\n",
    "        numpy.ndarray : la moyenne des variables latentes\n",
    "        numpy.ndarray : la variance logarithmique des variables latentes\n",
    "        \"\"\"\n",
    "        mean, logvar = tf.split(self.inference_net(x), num_or_size_splits=2, axis=1)\n",
    "        return mean, logvar\n",
    "\n",
    "    def reparameterize(self, mean, logvar):\n",
    "        \"\"\"\n",
    "         Reparamétrer l'entrée pour la rétropropagation\n",
    "\n",
    "        paramètres :\n",
    "        mean (numpy.ndarray) : la moyenne des variables latentes\n",
    "        logvar (numpy.ndarray) : la variance logarithmique des variables latentes\n",
    "\n",
    "        retours :\n",
    "        numpy.ndarray : les échantillons de bruit à partir d'une distribution normale autour de la moyenne avec un écart type exp(logvar / 2)\n",
    "        \"\"\"\n",
    "        eps = tf.random.normal(shape=mean.shape)\n",
    "        return eps * tf.exp(logvar * 0.5) + mean\n",
    "\n",
    "    def decode(self, z):\n",
    "        \"\"\"\n",
    "        Étant donné un bruit d'entrée, il génère les échantillons décodés\n",
    "\n",
    "        paramètres :\n",
    "        z (numpy.ndarray) : le bruit d'entrée (None, latent_dim)\n",
    "\n",
    "        renvoie :\n",
    "        numpy.ndarray : les échantillons décodés de taille (None, ndim)\n",
    "        \"\"\"\n",
    "        return self.generative_net(z)"
   ]
  },
  {
   "cell_type": "code",
   "execution_count": 69,
   "id": "fb48af80",
   "metadata": {},
   "outputs": [],
   "source": [
    "# une fonction pour calculer le terme KL de la distribution gaussienne\n",
    "def log_normal_pdf(sample, mean, logvar, raxis=1):\n",
    "    log2pi = tf.math.log(2. * np.pi)\n",
    "    return tf.reduce_sum(-0.5 * ((sample - mean) ** 2. * tf.exp(-logvar) + logvar + log2pi),\n",
    "                         axis=raxis)\n",
    "\n",
    "# une fonction permettant de calculer la perte du VAE\n",
    "@tf.function\n",
    "def compute_loss(model, x):\n",
    "    mean, logvar = model.encode(x)\n",
    "    logvar = tf.clip_by_value(logvar, -88., 88.)\n",
    "    z = model.reparameterize(mean, logvar)\n",
    "    xmean = model.decode(z)\n",
    "    logpx_z = -tf.reduce_sum((x - xmean) ** 2, axis=1)  \n",
    "    logpz = log_normal_pdf(z, 0.0, 0.0)\n",
    "    logqz_x = log_normal_pdf(z, mean, logvar)\n",
    "    return -tf.reduce_mean(logpx_z + logpz - logqz_x)\n",
    "\n",
    "# Une fonction qui, étant donné le modèle, calcule la perte, les gradients et applique la mise à jour des paramètres.\n",
    "@tf.function\n",
    "def compute_apply_gradients(model, x, optimizer):\n",
    "    with tf.GradientTape() as tape:\n",
    "        loss = compute_loss(model, x)\n",
    "    gradients = tape.gradient(loss, model.trainable_variables)\n",
    "    optimizer.apply_gradients(zip(gradients, model.trainable_variables))"
   ]
  },
  {
   "cell_type": "markdown",
   "id": "54800f47",
   "metadata": {},
   "source": [
    "Voici la fonction train qui permettra de mettre à jour les poids"
   ]
  },
  {
   "cell_type": "code",
   "execution_count": 70,
   "id": "0aa73c9c",
   "metadata": {},
   "outputs": [],
   "source": [
    "def train(xtrain, xtest, model=None, load=False, filepath=None):\n",
    "    optimizer = tf.keras.optimizers.Adam(1e-3)\n",
    "    epochs = 2000\n",
    "    latent_dim = 15\n",
    "    num_train, ndim = xtrain.shape\n",
    "    num_test, _ = xtest.shape\n",
    "    if model is None:\n",
    "        model = VAE(ndim, latent_dim)\n",
    "    if load and filepath is not None:\n",
    "        model.load_weights(filepath=filepath)\n",
    "        return model\n",
    "    else:\n",
    "        batch_size = 32\n",
    "        train_dataset = tf.data.Dataset.from_tensor_slices(xtrain.values.astype(np.float32)).shuffle(num_train).batch(\n",
    "            batch_size)\n",
    "\n",
    "        test_dataset = tf.data.Dataset.from_tensor_slices(xtest.values.astype(np.float32)).shuffle(num_test).batch(num_test)\n",
    "\n",
    "        for epoch in range(1, epochs + 1):\n",
    "            start_time = time.time()\n",
    "            for train_x in train_dataset:\n",
    "                compute_apply_gradients(model, train_x, optimizer)\n",
    "            end_time = time.time()\n",
    "\n",
    "            if epoch % 100 == 0:\n",
    "                loss = tf.keras.metrics.Mean()\n",
    "                for test_x in test_dataset:\n",
    "                    loss(compute_loss(model, test_x))\n",
    "                elbo = -loss.result()\n",
    "                print('Epoch: {}, Test set psudo-ELBO: {}, '\n",
    "                      'time elapsed for current epoch {}'.format(epoch, elbo, end_time - start_time))\n",
    "                model.save_weights('saved_models/model_%d_at_%d' % (latent_dim, epoch))\n",
    "    return model"
   ]
  },
  {
   "cell_type": "markdown",
   "id": "8f191174",
   "metadata": {},
   "source": [
    "Une fois le VAE entraîné, nous pouvons le passer à cette fonction et en tirer des échantillons pour augmenter le nombre de robots."
   ]
  },
  {
   "cell_type": "code",
   "execution_count": 71,
   "id": "35af3c22",
   "metadata": {},
   "outputs": [],
   "source": [
    "def augment_data(data, model):\n",
    "    num_samples = data['outcome'].value_counts()[0] - data['outcome'].value_counts()[1]\n",
    "    samples = model.sample(num_samples=num_samples).numpy()\n",
    "    dfnew = pd.DataFrame(samples, columns=data.columns.drop(['outcome']))\n",
    "    dfnew['outcome'] = np.ones(len(samples), dtype=np.int)\n",
    "    dfnew = pd.concat((data, dfnew), ignore_index=True).sample(frac=1)\n",
    "    return dfnew"
   ]
  },
  {
   "cell_type": "markdown",
   "id": "c339526d",
   "metadata": {},
   "source": [
    "Cette fonction permet de récuperer les échantillons des bidders qui sont des robots"
   ]
  },
  {
   "cell_type": "code",
   "execution_count": 72,
   "id": "e28435d4",
   "metadata": {},
   "outputs": [],
   "source": [
    "def robot_or_not(dftrain, dftest):\n",
    "    \"\"\"\n",
    "    paramètres :\n",
    "    dftrain (pandas.DataFrame) : Le cadre de données de formation\n",
    "    dftest (pandas.DataFrame) : Le cadre de données de test\n",
    "\n",
    "    Retourne :\n",
    "    pandas.DataFrame : La partie frauduleuse du cadre de données de formation\n",
    "    pandas.DataFrame : La partie frauduleuse du cadre de données de test\n",
    "    \"\"\"\n",
    "    robot = dftrain.loc[dftrain['outcome'] == 1].sample(frac=1)\n",
    "    robottest = dftest.loc[dftest['outcome'] == 1].sample(frac=1)\n",
    "    return robot.drop(['outcome'], axis=1), robottest.drop(['outcome'], axis=1)"
   ]
  },
  {
   "cell_type": "markdown",
   "id": "56da478f",
   "metadata": {},
   "source": [
    "Le VAE a besoin que les inputs soient normalisés . Pour cela nous allons StandardScaler de Scikit-learn.\n"
   ]
  },
  {
   "cell_type": "code",
   "execution_count": 73,
   "id": "0a9a1e65",
   "metadata": {},
   "outputs": [],
   "source": [
    "# Cette fonction permet de standariser les données train et test en utilisant StandardScaler de Scikit-learn\n",
    "def standarize_data(dtrain,dtest):\n",
    "    temp = dtrain.drop([\"bidder_id\"],axis=1)\n",
    "    tempt= dtest.drop([\"bidder_id\"],axis=1)\n",
    "    temp.reset_index(drop=True,inplace=True)\n",
    "    tempt.reset_index(drop=True,inplace = True)\n",
    "    X = dtrain.drop([\"outcome\",\"bidder_id\"],axis = 1)\n",
    "    Xt = dtest.drop([\"outcome\",\"bidder_id\"],axis = 1)\n",
    "    columns = X.columns\n",
    "    scaler = StandardScaler()\n",
    "    X = scaler.fit_transform(X)\n",
    "    X = pd.DataFrame(X)\n",
    "    X.columns = columns\n",
    "    X['outcome'] = temp['outcome']\n",
    "    scaler = StandardScaler()\n",
    "    Xt = scaler.fit_transform(Xt)\n",
    "    Xt = pd.DataFrame(Xt)\n",
    "    Xt.columns = columns\n",
    "    Xt['outcome'] = tempt['outcome']\n",
    "    dtrain_std = X\n",
    "    dtest_std = Xt\n",
    "    return dtrain_std,dtest_std\n",
    "    \n",
    "    "
   ]
  },
  {
   "cell_type": "code",
   "execution_count": 74,
   "id": "40c903c4",
   "metadata": {
    "scrolled": false
   },
   "outputs": [
    {
     "name": "stdout",
     "output_type": "stream",
     "text": [
      "Epoch: 100, Test set psudo-ELBO: -57.20515441894531, time elapsed for current epoch 0.006035566329956055\n",
      "Epoch: 200, Test set psudo-ELBO: -57.86427307128906, time elapsed for current epoch 0.00497746467590332\n",
      "Epoch: 300, Test set psudo-ELBO: -61.20193862915039, time elapsed for current epoch 0.003987550735473633\n",
      "Epoch: 400, Test set psudo-ELBO: -66.86865234375, time elapsed for current epoch 0.006730556488037109\n",
      "Epoch: 500, Test set psudo-ELBO: -64.244384765625, time elapsed for current epoch 0.00398564338684082\n",
      "Epoch: 600, Test set psudo-ELBO: -62.033058166503906, time elapsed for current epoch 0.005892515182495117\n",
      "Epoch: 700, Test set psudo-ELBO: -58.275753021240234, time elapsed for current epoch 0.003986835479736328\n",
      "Epoch: 800, Test set psudo-ELBO: -61.68855667114258, time elapsed for current epoch 0.005609273910522461\n",
      "Epoch: 900, Test set psudo-ELBO: -64.57379150390625, time elapsed for current epoch 0.0038509368896484375\n",
      "Epoch: 1000, Test set psudo-ELBO: -70.22013854980469, time elapsed for current epoch 0.009109973907470703\n",
      "Epoch: 1100, Test set psudo-ELBO: -63.71808624267578, time elapsed for current epoch 0.0052127838134765625\n",
      "Epoch: 1200, Test set psudo-ELBO: -68.52643585205078, time elapsed for current epoch 0.00768280029296875\n",
      "Epoch: 1300, Test set psudo-ELBO: -60.97240447998047, time elapsed for current epoch 0.004984617233276367\n",
      "Epoch: 1400, Test set psudo-ELBO: -70.51605987548828, time elapsed for current epoch 0.003656148910522461\n",
      "Epoch: 1500, Test set psudo-ELBO: -90.45497131347656, time elapsed for current epoch 0.00444793701171875\n",
      "Epoch: 1600, Test set psudo-ELBO: -73.76204681396484, time elapsed for current epoch 0.009313583374023438\n",
      "Epoch: 1700, Test set psudo-ELBO: -93.35945892333984, time elapsed for current epoch 0.004035472869873047\n",
      "Epoch: 1800, Test set psudo-ELBO: -64.86137390136719, time elapsed for current epoch 0.004402875900268555\n",
      "Epoch: 1900, Test set psudo-ELBO: -66.9095458984375, time elapsed for current epoch 0.005758523941040039\n",
      "Epoch: 2000, Test set psudo-ELBO: -75.88673400878906, time elapsed for current epoch 0.006134033203125\n"
     ]
    }
   ],
   "source": [
    "# Standariser les données\n",
    "dtrain_std , dtest_std = standarize_data(dtrain,dtest)\n",
    "# Recuperer les robots du train et test\n",
    "X, Xt = robot_or_not(dtrain_std, dtest_std)\n",
    "# Entrainer le modele VAE\n",
    "model = train(X, Xt, load=False, filepath='saved_models/model_20_at_1900')\n",
    "# Augmenter les données en prenant des échantillons\n",
    "train_vae = augment_data(dtrain_std, model)\n"
   ]
  },
  {
   "cell_type": "markdown",
   "id": "135c15a5",
   "metadata": {},
   "source": [
    "On se retrouve donc avec un jeu de données équilibré. "
   ]
  },
  {
   "cell_type": "code",
   "execution_count": 75,
   "id": "278c8a13",
   "metadata": {},
   "outputs": [
    {
     "data": {
      "text/plain": [
       "<AxesSubplot:xlabel='outcome'>"
      ]
     },
     "execution_count": 75,
     "metadata": {},
     "output_type": "execute_result"
    },
    {
     "data": {
      "image/png": "[encoded data removed]",
      "text/plain": [
       "<Figure size 432x288 with 1 Axes>"
      ]
     },
     "metadata": {
      "needs_background": "light"
     },
     "output_type": "display_data"
    }
   ],
   "source": [
    "train_vae.pivot_table(index='outcome', aggfunc='size').plot(kind='bar')"
   ]
  },
  {
   "cell_type": "markdown",
   "id": "2b386fad",
   "metadata": {},
   "source": [
    "Une autre facon de génerer de nouvelle données est d'utiliser l'interpolation de l'espace latent"
   ]
  },
  {
   "cell_type": "code",
   "execution_count": 76,
   "id": "e8846481",
   "metadata": {},
   "outputs": [],
   "source": [
    "def augment_data_interpolation(data, model):\n",
    "    num_samples = data['outcome'].value_counts()[0] - data['outcome'].value_counts()[1]\n",
    "    X = data[data['outcome'] == 1].drop(['outcome'], axis=1)\n",
    "    z, _ = model.encode(X.values.astype(np.float32))\n",
    "    z1 = pd.DataFrame(z).sample(frac=num_samples / len(z), replace=True)\n",
    "    z2 = z1.sample(frac=1)\n",
    "    r = np.random.rand(*z1.shape)\n",
    "    z = r * z1.values + (1 - r) * z2.values\n",
    "    samples = model.decode(z.astype(np.float32)).numpy()\n",
    "    dfnew = pd.DataFrame(samples, columns=data.columns.drop('outcome'))\n",
    "    dfnew['outcome'] = np.ones(len(samples), dtype=np.int)\n",
    "    dfnew = pd.concat((data, dfnew), ignore_index=True).sample(frac=1)\n",
    "    return dfnew"
   ]
  },
  {
   "cell_type": "markdown",
   "id": "ec7cc13b",
   "metadata": {},
   "source": [
    "On génere de nouvelle données avec de l'interpolation."
   ]
  },
  {
   "cell_type": "code",
   "execution_count": 77,
   "id": "b7273690",
   "metadata": {},
   "outputs": [],
   "source": [
    "train_vae_interpolate = augment_data_interpolation(dtrain_std, model)"
   ]
  },
  {
   "cell_type": "markdown",
   "id": "e5310555",
   "metadata": {},
   "source": [
    "On se retrouve encore une fois avec un jeu de données équilibré."
   ]
  },
  {
   "cell_type": "code",
   "execution_count": 78,
   "id": "1ed17953",
   "metadata": {},
   "outputs": [
    {
     "data": {
      "text/plain": [
       "<AxesSubplot:xlabel='outcome'>"
      ]
     },
     "execution_count": 78,
     "metadata": {},
     "output_type": "execute_result"
    },
    {
     "data": {
      "image/png": "[encoded data removed]",
      "text/plain": [
       "<Figure size 432x288 with 1 Axes>"
      ]
     },
     "metadata": {
      "needs_background": "light"
     },
     "output_type": "display_data"
    }
   ],
   "source": [
    "train_vae_interpolate.pivot_table(index='outcome', aggfunc='size').plot(kind='bar')"
   ]
  },
  {
   "cell_type": "markdown",
   "id": "2447110f",
   "metadata": {},
   "source": [
    "Un autre moyen pour réaliser le sur-échantillonge est d'augmenter la taille de l'ensemble des données d'apprentissage par la répétition aléatoire des exemples originaux en utilisant le RandomOversampler et d'utiliser des méthodes d'ensembles"
   ]
  },
  {
   "cell_type": "markdown",
   "id": "7075c9b9",
   "metadata": {},
   "source": [
    "## Entrainement des modèles "
   ]
  },
  {
   "cell_type": "markdown",
   "id": "bfcf139d",
   "metadata": {},
   "source": [
    "Nous allons nous experimenter sur les 6 versions du jeux de données suivants :\n",
    "* Dataset sans aucune modification (dtrain, dtest)\n",
    "* Dataset standarisé (dtrain_std, dtest_std)\n",
    "* Dataset équilibré avec SMOTE (X_smote, y_smote, dtest)\n",
    "* Dataset standarisé et équilibré avec SMOTE (X_smote_std, y_smote_std, dtest)\n",
    "* Dataset équilibré avec échantillonge par VAE (train_vae, dtest)\n",
    "* Dataset équilibré par interpolation en utilisat VAE (train_vae_interpolate, dtest)"
   ]
  },
  {
   "cell_type": "markdown",
   "id": "77723723",
   "metadata": {},
   "source": [
    "Standarisons les données SMOTE "
   ]
  },
  {
   "cell_type": "code",
   "execution_count": 79,
   "id": "2ad89459",
   "metadata": {},
   "outputs": [],
   "source": [
    "scaler = StandardScaler()\n",
    "X_smote_std = scaler.fit_transform(X_smote)\n",
    "X_smote_std = pd.DataFrame(X_smote_std)\n",
    "X_smote_std.columns = X_smote.columns"
   ]
  },
  {
   "cell_type": "markdown",
   "id": "c60eb516",
   "metadata": {},
   "source": [
    "Récuperons les inputs et les targets depuis les différents datasets"
   ]
  },
  {
   "cell_type": "code",
   "execution_count": 80,
   "id": "0bb02afe",
   "metadata": {},
   "outputs": [],
   "source": [
    "X = dtrain.drop(\"bidder_id\",axis=1).iloc[:,1:]\n",
    "y = dtrain.outcome\n",
    "X_test = dtest.drop(\"bidder_id\",axis=1).iloc[:,1:]\n",
    "y_test = dtest.outcome\n",
    "\n",
    "X = np.array(X)\n",
    "y = np.array(y)\n",
    "X_test = np.array(X_test)\n",
    "y_test = np.array(y_test)\n",
    "\n",
    "\n",
    "X_std = dtrain_std.iloc[:,:-1]\n",
    "y_std = dtrain_std.outcome\n",
    "X_test_std = dtest_std.iloc[:,:-1]\n",
    "y_test_std = dtest_std.outcome\n",
    "\n",
    "\n",
    "X_std = np.array(X_std)\n",
    "y_std = np.array(y_std)\n",
    "X_test_std = np.array(X_test_std)\n",
    "y_test_std = np.array(y_test_std)\n",
    "\n",
    "X_vae = train_vae.drop(['outcome'], axis=1)\n",
    "y_vae = train_vae.outcome\n",
    "\n",
    "X_vae = np.array(X_vae)\n",
    "y_vae = np.array(y_vae)\n",
    "\n",
    "X_vae_interpolate = train_vae_interpolate.drop(['outcome'],axis=1)\n",
    "y_vae_interpolate = train_vae_interpolate.outcome\n",
    "\n",
    "X_vae_interpolate = np.array(X_vae_interpolate)\n",
    "y_vae_interpolate = np.array(y_vae_interpolate)\n",
    "\n",
    "X_smote = np.array(X_smote)\n",
    "y_smote = np.array(y_smote)\n",
    "\n",
    "\n",
    "X_smote_std = np.array(X_smote_std)\n"
   ]
  },
  {
   "cell_type": "markdown",
   "id": "4ade3947",
   "metadata": {},
   "source": [
    "### Regression logistique"
   ]
  },
  {
   "cell_type": "markdown",
   "id": "df3aeb2a",
   "metadata": {},
   "source": [
    "Commencons par l'un des modèles le moins complexe en terme de dimension de Vapnik–Chervonenkis. Il s'agit de la regression logistique. \n",
    "On commencera par les paramètres par défaut et on les optimisera par la suite. "
   ]
  },
  {
   "cell_type": "markdown",
   "id": "c593bcf8",
   "metadata": {},
   "source": [
    "Nous entrainons dans un premier temps le modèle sur les données non équilibré."
   ]
  },
  {
   "cell_type": "code",
   "execution_count": 81,
   "id": "751e6bda",
   "metadata": {},
   "outputs": [
    {
     "name": "stdout",
     "output_type": "stream",
     "text": [
      "0.9629629629629629\n",
      "              precision    recall  f1-score   support\n",
      "\n",
      "           0       0.96      1.00      0.98        25\n",
      "           1       1.00      0.50      0.67         2\n",
      "\n",
      "    accuracy                           0.96        27\n",
      "   macro avg       0.98      0.75      0.82        27\n",
      "weighted avg       0.96      0.96      0.96        27\n",
      "\n"
     ]
    }
   ],
   "source": [
    "lr = LogisticRegression()\n",
    "lr.fit(X,y)\n",
    "y_pred = lr.predict(X_test)\n",
    "print(lr.score(X_test,y_test))\n",
    "print(classification_report(y_test,y_pred))"
   ]
  },
  {
   "cell_type": "code",
   "execution_count": 82,
   "id": "7f179100",
   "metadata": {},
   "outputs": [
    {
     "name": "stdout",
     "output_type": "stream",
     "text": [
      "la prédiction de la regression logistique [0 0 0 1 0 0 0 0 0 0 0 0 0 0 0 0 0 0 0 0 0 0 0 0 0 0 0]\n",
      "les valeurs réelles des données test [0 0 0 1 0 0 0 0 0 0 0 0 0 1 0 0 0 0 0 0 0 0 0 0 0 0 0]\n"
     ]
    }
   ],
   "source": [
    "print(\"la prédiction de la regression logistique\",lr.predict(X_test))\n",
    "print('les valeurs réelles des données test',y_test)"
   ]
  },
  {
   "cell_type": "markdown",
   "id": "b63c6185",
   "metadata": {},
   "source": [
    "Nous remarquons que le logistic regression est capable de détecter correctement les humains mais il n'a pas pu détecter les robots."
   ]
  },
  {
   "cell_type": "markdown",
   "id": "dc1a2d42",
   "metadata": {},
   "source": [
    "Essayons maintenant d'optimiser les hyperparamètres par gridsearchcv"
   ]
  },
  {
   "cell_type": "code",
   "execution_count": 83,
   "id": "69ea512f",
   "metadata": {},
   "outputs": [
    {
     "data": {
      "text/plain": [
       "{'C': 0.0, 'penalty': 'none'}"
      ]
     },
     "execution_count": 83,
     "metadata": {},
     "output_type": "execute_result"
    }
   ],
   "source": [
    "parameters = {'penalty': (\"none\",'l1',\"l1\",\"elasticnet\"), \"C\": np.arange(0,10,0.2)}\n",
    "lr_grid = LogisticRegression()\n",
    "grid = GridSearchCV(lr_grid,parameters,cv =5)\n",
    "grid.fit(X,y)\n",
    "grid.best_params_"
   ]
  },
  {
   "cell_type": "code",
   "execution_count": 84,
   "id": "5f16e695",
   "metadata": {},
   "outputs": [
    {
     "name": "stdout",
     "output_type": "stream",
     "text": [
      "Accuracy is equal to 0.9629629629629629\n",
      "              precision    recall  f1-score   support\n",
      "\n",
      "           0       0.96      1.00      0.98        25\n",
      "           1       1.00      0.50      0.67         2\n",
      "\n",
      "    accuracy                           0.96        27\n",
      "   macro avg       0.98      0.75      0.82        27\n",
      "weighted avg       0.96      0.96      0.96        27\n",
      "\n"
     ]
    }
   ],
   "source": [
    "lr_grid = LogisticRegression(penalty='none', C=0.2)\n",
    "lr_grid.fit(X,y)\n",
    "y_pred = lr.predict(X_test)\n",
    "print(\"Accuracy is equal to {}\".format(lr.score(X_test,y_test)))\n",
    "print(classification_report(y_test,y_pred))"
   ]
  },
  {
   "cell_type": "markdown",
   "id": "b8dd5dea",
   "metadata": {},
   "source": [
    "Nous remarquons pas de différence. Toutefois, nous n'allons plus optimiser les hyperparametre en utilisant GridsearchCV puisque c'est une méthode exhaustive qui prends beaucoup de temps pour évaluer touts les hyperparametres possible.\n"
   ]
  },
  {
   "cell_type": "markdown",
   "id": "fdcca405",
   "metadata": {},
   "source": [
    "Nous allons utiliser Optuna qui est un cadre d'optimisation d'hyperparamètres open source pour automatiser la recherche d'hyperparamètres. Il utilise des algorithmes d'optimisation de pointe afin de rechercher efficacement de grands espaces et d'élaguer les essais non prometteurs pour des résultats plus rapides."
   ]
  },
  {
   "cell_type": "code",
   "execution_count": 92,
   "id": "1320c50d",
   "metadata": {},
   "outputs": [],
   "source": [
    "import pickle"
   ]
  },
  {
   "cell_type": "code",
   "execution_count": 86,
   "id": "33e07d7a",
   "metadata": {},
   "outputs": [],
   "source": [
    "# cette fonction permet de definir la fonction objective à optimiser par le framework optuna\n",
    "# Elle contient les paramètres à optimiser et le modèle de logistic regression\n",
    "def lr_objective(trial,X,y,X_test,y_test):\n",
    "    penalty_lr = trial.suggest_categorical(\"penalty_lr\",[\"l2\",\"none\"])\n",
    "    C_lr = trial.suggest_float(\"C_lr\",0.1,10)\n",
    "    lr = LogisticRegression(penalty=penalty_lr,C=C_lr)\n",
    "    lr.fit(X,y)\n",
    "    return lr.score(X_test,y_test)\n",
    "\n"
   ]
  },
  {
   "cell_type": "code",
   "execution_count": 87,
   "id": "e87b4bb9",
   "metadata": {},
   "outputs": [],
   "source": [
    "# Cette fonction permet de définir la fonction objective après de l'avoir optimisé pour nous permettre de calculer les différents métriques après optimisation\n",
    "def post_lr_objective(trial,X,y,X_test,y_test):\n",
    "    penalty_lr = trial.suggest_categorical(\"penalty_lr\",[\"l2\",\"none\"])\n",
    "    C_lr = trial.suggest_float(\"C_lr\",0.1,10)\n",
    "    lr = LogisticRegression(penalty=penalty_lr,C=C_lr)\n",
    "    lr.fit(X,y)\n",
    "    pred = lr.predict(X_test)\n",
    "    acc = accuracy_score(pred, y_test)\n",
    "    recall = recall_score(pred, y_test)\n",
    "    precision = precision_score(pred, y_test)\n",
    "    f1 = f1_score(pred, y_test)\n",
    "    \n",
    "    \n",
    "    return acc,f1, recall ,precision\n",
    "\n",
    "\n"
   ]
  },
  {
   "cell_type": "code",
   "execution_count": 101,
   "id": "e086b816",
   "metadata": {},
   "outputs": [],
   "source": [
    "def logisticregression(X, y, X_test, y_test):\n",
    "    func = lambda trial: lr_objective(trial, X, y, X_test, y_test)\n",
    "    optuna.logging.set_verbosity(optuna.logging.WARNING)\n",
    "    study = optuna.create_study(direction='maximize')\n",
    "\n",
    "    with tqdm(total=100) as pbar:\n",
    "        def callback(study, trial):\n",
    "            pbar.update(1)\n",
    "\n",
    "        study.optimize(func, n_trials=100, callbacks=[callback])\n",
    "\n",
    "    # Récupérer les meilleurs paramètres et ajuster les noms des clés\n",
    "    best_params = study.best_trial.params\n",
    "    best_params['penalty'] = best_params.pop('penalty_lr')\n",
    "    best_params['C'] = best_params.pop('C_lr')\n",
    "\n",
    "    # Création et entraînement du modèle avec les meilleurs paramètres\n",
    "    optimized_lr = LogisticRegression(**best_params)\n",
    "    optimized_lr.fit(X, y)\n",
    "\n",
    "    # Enregistrement du modèle optimisé\n",
    "    with open('model.pkl', 'wb') as file:\n",
    "        pickle.dump(optimized_lr, file)\n",
    "\n",
    "    # Appel à post_lr_objective pour calculer les métriques\n",
    "    acc, f1, recall, precision = post_lr_objective(study.best_trial, X, y, X_test, y_test)\n",
    "\n",
    "    return acc, f1, recall, precision"
   ]
  },
  {
   "cell_type": "code",
   "execution_count": 89,
   "id": "9ef1ed67",
   "metadata": {},
   "outputs": [
    {
     "name": "stderr",
     "output_type": "stream",
     "text": [
      "100%|██████████| 100/100 [00:02<00:00, 39.51it/s]\n"
     ]
    }
   ],
   "source": [
    "# On recupere les metriques pour dataset desequilibre\n",
    "acc_lr,f1_lr,recall_lr,precision_lr = logisticregression(X,y,X_test,y_test)"
   ]
  },
  {
   "cell_type": "code",
   "execution_count": 91,
   "id": "9b5d14ca",
   "metadata": {},
   "outputs": [
    {
     "data": {
      "text/plain": [
       "0.6666666666666666"
      ]
     },
     "execution_count": 91,
     "metadata": {},
     "output_type": "execute_result"
    }
   ],
   "source": [
    "f1_lr"
   ]
  },
  {
   "cell_type": "code",
   "execution_count": 102,
   "id": "77ae8210",
   "metadata": {},
   "outputs": [
    {
     "name": "stderr",
     "output_type": "stream",
     "text": [
      "100%|██████████| 100/100 [00:00<00:00, 133.21it/s]\n"
     ]
    }
   ],
   "source": [
    "# On recupere les metriques pour dataset desequilibre standarise\n",
    "acc_lr_std,f1_lr_std,recall_lr_std,precision_lr_std = logisticregression(X_std,y_std,X_test_std,y_test_std)"
   ]
  },
  {
   "cell_type": "code",
   "execution_count": 103,
   "id": "9956ce3a",
   "metadata": {},
   "outputs": [
    {
     "data": {
      "text/plain": [
       "(0.9629629629629629, 0.6666666666666666, 1.0, 0.5)"
      ]
     },
     "execution_count": 103,
     "metadata": {},
     "output_type": "execute_result"
    }
   ],
   "source": [
    "acc_lr_std,f1_lr_std,recall_lr_std,precision_lr_std"
   ]
  },
  {
   "cell_type": "code",
   "execution_count": 104,
   "id": "2e67b82d",
   "metadata": {},
   "outputs": [
    {
     "name": "stderr",
     "output_type": "stream",
     "text": [
      "100%|██████████| 100/100 [00:02<00:00, 42.39it/s]\n"
     ]
    }
   ],
   "source": [
    "# On recupere les metriques pour dataset equilibre avec smote\n",
    "acc_lr_smote,f1_lr_smote,recall_lr_smote,precision_lr_smote = logisticregression(X_smote,y_smote,X_test,y_test)"
   ]
  },
  {
   "cell_type": "code",
   "execution_count": 105,
   "id": "14c7575f",
   "metadata": {},
   "outputs": [
    {
     "name": "stderr",
     "output_type": "stream",
     "text": [
      "100%|██████████| 100/100 [00:00<00:00, 125.99it/s]\n"
     ]
    }
   ],
   "source": [
    "# On recupere les metriques pour dataset equilibre avec smote standarise\n",
    "acc_lr_smote_std,f1_lr_smote_std,recall_lr_smote_std,precision_lr_smote_std = logisticregression(X_smote_std,y_smote,X_test_std,y_test_std)"
   ]
  },
  {
   "cell_type": "code",
   "execution_count": 106,
   "id": "9b8fad61",
   "metadata": {},
   "outputs": [
    {
     "name": "stderr",
     "output_type": "stream",
     "text": [
      "100%|██████████| 100/100 [00:00<00:00, 112.85it/s]\n"
     ]
    }
   ],
   "source": [
    "# On recupere les metriques pour dataset equilibre avec echantillonge vae\n",
    "acc_lr_vae,f1_lr_vae,recall_lr_vae,precision_lr_vae = logisticregression(X_vae,y_vae,X_test_std,y_test_std)"
   ]
  },
  {
   "cell_type": "code",
   "execution_count": 107,
   "id": "b81fb364",
   "metadata": {},
   "outputs": [
    {
     "name": "stderr",
     "output_type": "stream",
     "text": [
      "100%|██████████| 100/100 [00:00<00:00, 131.00it/s]\n"
     ]
    }
   ],
   "source": [
    "# On recupere les metriques pour dataset equilibre avec interpolation vae\n",
    "acc_lr_vae_interpolate,f1_lr_vae_interpolate,recall_lr_vae_interpolate,precision_lr_vae_interpolate = logisticregression(X_vae_interpolate,y_vae_interpolate,X_test_std,y_test_std)"
   ]
  },
  {
   "cell_type": "code",
   "execution_count": 108,
   "id": "f8f0269a",
   "metadata": {},
   "outputs": [],
   "source": [
    "results = {}\n",
    "results['accuracy'] = pd.DataFrame(columns = ['Data',\"Data_std\",\"Data_smote\",\"Data_smote_std\",\"Data_vae\",\"Data_vae_interpolate\"])\n",
    "results['f1_score'] = pd.DataFrame(columns = ['Data',\"Data_std\",\"Data_smote\",\"Data_smote_std\",\"Data_vae\",\"Data_vae_interpolate\"])\n",
    "results['recall'] = pd.DataFrame(columns = ['Data',\"Data_std\",\"Data_smote\",\"Data_smote_std\",\"Data_vae\",\"Data_vae_interpolate\"])\n",
    "results['precision'] = pd.DataFrame(columns = ['Data',\"Data_std\",\"Data_smote\",\"Data_smote_std\",\"Data_vae\",\"Data_vae_interpolate\"])\n"
   ]
  },
  {
   "cell_type": "code",
   "execution_count": 109,
   "id": "e789448f",
   "metadata": {},
   "outputs": [],
   "source": [
    "results['accuracy'].loc['Logistic Regression'] = [acc_lr,acc_lr_std,acc_lr_smote,acc_lr_smote_std,acc_lr_vae,acc_lr_vae_interpolate]\n",
    "results['f1_score'].loc['Logistic Regression'] = [f1_lr,f1_lr_std,f1_lr_smote,f1_lr_smote_std,f1_lr_vae,f1_lr_vae_interpolate]\n",
    "results['recall'].loc['Logistic Regression'] = [recall_lr,recall_lr_std,recall_lr_smote,recall_lr_smote_std,recall_lr_vae,recall_lr_vae_interpolate]\n",
    "results['precision'].loc['Logistic Regression'] = [precision_lr,precision_lr_std,precision_lr_smote,precision_lr_smote_std,precision_lr_vae,precision_lr_vae_interpolate]\n"
   ]
  },
  {
   "cell_type": "code",
   "execution_count": 110,
   "id": "2ceb827f",
   "metadata": {},
   "outputs": [
    {
     "data": {
      "text/html": [
       "<div>\n",
       "<style scoped>\n",
       "    .dataframe tbody tr th:only-of-type {\n",
       "        vertical-align: middle;\n",
       "    }\n",
       "\n",
       "    .dataframe tbody tr th {\n",
       "        vertical-align: top;\n",
       "    }\n",
       "\n",
       "    .dataframe thead th {\n",
       "        text-align: right;\n",
       "    }\n",
       "</style>\n",
       "<table border=\"1\" class=\"dataframe\">\n",
       "  <thead>\n",
       "    <tr style=\"text-align: right;\">\n",
       "      <th></th>\n",
       "      <th>Data</th>\n",
       "      <th>Data_std</th>\n",
       "      <th>Data_smote</th>\n",
       "      <th>Data_smote_std</th>\n",
       "      <th>Data_vae</th>\n",
       "      <th>Data_vae_interpolate</th>\n",
       "    </tr>\n",
       "  </thead>\n",
       "  <tbody>\n",
       "    <tr>\n",
       "      <th>Logistic Regression</th>\n",
       "      <td>0.962963</td>\n",
       "      <td>0.962963</td>\n",
       "      <td>0.962963</td>\n",
       "      <td>0.407407</td>\n",
       "      <td>0.962963</td>\n",
       "      <td>0.962963</td>\n",
       "    </tr>\n",
       "  </tbody>\n",
       "</table>\n",
       "</div>"
      ],
      "text/plain": [
       "                         Data  Data_std  Data_smote  Data_smote_std  Data_vae  \\\n",
       "Logistic Regression  0.962963  0.962963    0.962963        0.407407  0.962963   \n",
       "\n",
       "                     Data_vae_interpolate  \n",
       "Logistic Regression              0.962963  "
      ]
     },
     "execution_count": 110,
     "metadata": {},
     "output_type": "execute_result"
    }
   ],
   "source": [
    "results['accuracy']"
   ]
  },
  {
   "cell_type": "markdown",
   "id": "cf849b21",
   "metadata": {},
   "source": [
    "### SVM"
   ]
  },
  {
   "cell_type": "markdown",
   "id": "d73970ae",
   "metadata": {},
   "source": [
    "Passerons maintenant au modèle SVM. Nous entrainerons ce modèle avec optimisation des hyperparametres sur les différents version du jeux de données."
   ]
  },
  {
   "cell_type": "code",
   "execution_count": 111,
   "id": "970fab69",
   "metadata": {},
   "outputs": [],
   "source": [
    "# cette fonction permet de definir la fonction objective à optimiser par le framework optuna\n",
    "# Elle contient les paramètres à optimiser et le modèle de svm\n",
    "def svm_objective(trial,X,y,X_test,y_test):\n",
    "    kernel_svm = trial.suggest_categorical(\"kernel_svm\",[\"linear\",\"poly\",\"rbf\",\"sigmoid\"])\n",
    "    C_svm = trial.suggest_float(\"C_svm\",0.1,10)\n",
    "    svm = SVC(kernel=kernel_svm,C=C_svm)\n",
    "    svm.fit(X,y)\n",
    "    return svm.score(X_test,y_test)\n",
    "\n"
   ]
  },
  {
   "cell_type": "code",
   "execution_count": 112,
   "id": "70f6af91",
   "metadata": {},
   "outputs": [],
   "source": [
    "# Cette fonction permet de définir la fonction objective après de l'avoir optimisé pour nous permettre de calculer les différents métriques après optimisation\n",
    "def post_svm_objective(trial,X,y,X_test,y_test):\n",
    "    kernel_svm = trial.suggest_categorical(\"kernel_svm\",[\"linear\",\"poly\",\"rbf\",\"sigmoid\"])\n",
    "    C_svm = trial.suggest_float(\"C_svm\",0.1,10)\n",
    "    svm = SVC(kernel=kernel_svm,C=C_svm)\n",
    "    svm.fit(X,y)\n",
    "    pred = svm.predict(X_test)\n",
    "    acc = accuracy_score(pred, y_test)\n",
    "    recall = recall_score(pred, y_test)\n",
    "    precision = precision_score(pred, y_test)\n",
    "    f1 = f1_score(pred, y_test)\n",
    "    \n",
    "    \n",
    "    return acc,f1, recall ,precision\n",
    "\n"
   ]
  },
  {
   "cell_type": "code",
   "execution_count": 113,
   "id": "5abac46e",
   "metadata": {},
   "outputs": [],
   "source": [
    "# Cette fonction nous permets d'entrainer le modèle pour des différents inputs\n",
    "def svm_model(X,y,X_test,y_test):\n",
    "    func = lambda trial: svm_objective(trial, X,y,X_test,y_test)\n",
    "    optuna.logging.set_verbosity(optuna.logging.WARNING)\n",
    "    study = optuna.create_study(direction = 'maximize')\n",
    "    study.optimize(func,n_trials=100)\n",
    "    func_post = lambda trial: post_svm_objective(trial, X,y,X_test,y_test)\n",
    "    acc, f1,recall, precision = func_post(study.best_trial)\n",
    "    return acc,f1,recall,precision\n",
    "    "
   ]
  },
  {
   "cell_type": "code",
   "execution_count": 114,
   "id": "5745a9f5",
   "metadata": {},
   "outputs": [],
   "source": [
    "# On recupere les metriques pour dataset desequilibre\n",
    "acc_svm,f1_svm,recall_svm,precision_svm = svm_model(X,y,X_test,y_test)"
   ]
  },
  {
   "cell_type": "code",
   "execution_count": 115,
   "id": "f3ed7d60",
   "metadata": {},
   "outputs": [],
   "source": [
    "\n",
    "\n",
    "\n",
    "# On recupere les metriques pour dataset desequilibre standarise\n",
    "acc_svm_std,f1_svm_std,recall_svm_std,precision_svm_std = svm_model(X_std,y_std,X_test_std,y_test_std)\n",
    "\n",
    "\n",
    "# On recupere les metriques pour dataset equilibre avec smote\n",
    "acc_svm_smote,f1_svm_smote,recall_svm_smote,precision_svm_smote = svm_model(X_smote,y_smote,X_test,y_test)\n",
    "\n",
    "\n",
    "\n",
    "# On recupere les metriques pour dataset equilibre avec smote standarise\n",
    "acc_svm_smote_std,f1_svm_smote_std,recall_svm_smote_std,precision_svm_smote_std = svm_model(X_smote_std,y_smote,X_test_std,y_test_std)\n",
    "\n",
    "\n",
    "# On recupere les metriques pour dataset equilibre avec echantillonge vae\n",
    "acc_svm_vae,f1_svm_vae,recall_svm_vae,precision_svm_vae = svm_model(X_vae,y_vae,X_test_std,y_test_std)\n",
    "\n",
    "\n",
    "\n",
    "# On recupere les metriques pour dataset equilibre avec interpolation vae\n",
    "acc_svm_vae_interpolate,f1_svm_vae_interpolate,recall_svm_vae_interpolate,precision_svm_vae_interpolate = svm_model(X_vae_interpolate,y_vae_interpolate,X_test_std,y_test_std)\n"
   ]
  },
  {
   "cell_type": "code",
   "execution_count": 116,
   "id": "19646516",
   "metadata": {},
   "outputs": [],
   "source": [
    "results['accuracy'].loc['SVM'] = [acc_svm,acc_svm_std,acc_svm_smote,acc_svm_smote_std,acc_svm_vae,acc_svm_vae_interpolate]\n",
    "results['f1_score'].loc['SVM'] = [f1_svm,f1_svm_std,f1_svm_smote,f1_svm_smote_std,f1_svm_vae,f1_svm_vae_interpolate]\n",
    "results['recall'].loc['SVM'] = [recall_svm,recall_svm_std,recall_svm_smote,recall_svm_smote_std,recall_svm_vae,recall_svm_vae_interpolate]\n",
    "results['precision'].loc['SVM'] = [precision_svm,precision_svm_std,precision_svm_smote,precision_svm_smote_std,precision_svm_vae,precision_svm_vae_interpolate]\n"
   ]
  },
  {
   "cell_type": "code",
   "execution_count": 117,
   "id": "044e1fa4",
   "metadata": {},
   "outputs": [
    {
     "data": {
      "text/html": [
       "<div>\n",
       "<style scoped>\n",
       "    .dataframe tbody tr th:only-of-type {\n",
       "        vertical-align: middle;\n",
       "    }\n",
       "\n",
       "    .dataframe tbody tr th {\n",
       "        vertical-align: top;\n",
       "    }\n",
       "\n",
       "    .dataframe thead th {\n",
       "        text-align: right;\n",
       "    }\n",
       "</style>\n",
       "<table border=\"1\" class=\"dataframe\">\n",
       "  <thead>\n",
       "    <tr style=\"text-align: right;\">\n",
       "      <th></th>\n",
       "      <th>Data</th>\n",
       "      <th>Data_std</th>\n",
       "      <th>Data_smote</th>\n",
       "      <th>Data_smote_std</th>\n",
       "      <th>Data_vae</th>\n",
       "      <th>Data_vae_interpolate</th>\n",
       "    </tr>\n",
       "  </thead>\n",
       "  <tbody>\n",
       "    <tr>\n",
       "      <th>Logistic Regression</th>\n",
       "      <td>0.962963</td>\n",
       "      <td>0.962963</td>\n",
       "      <td>0.962963</td>\n",
       "      <td>0.407407</td>\n",
       "      <td>0.962963</td>\n",
       "      <td>0.962963</td>\n",
       "    </tr>\n",
       "    <tr>\n",
       "      <th>SVM</th>\n",
       "      <td>0.962963</td>\n",
       "      <td>0.962963</td>\n",
       "      <td>0.962963</td>\n",
       "      <td>0.814815</td>\n",
       "      <td>0.962963</td>\n",
       "      <td>0.962963</td>\n",
       "    </tr>\n",
       "  </tbody>\n",
       "</table>\n",
       "</div>"
      ],
      "text/plain": [
       "                         Data  Data_std  Data_smote  Data_smote_std  Data_vae  \\\n",
       "Logistic Regression  0.962963  0.962963    0.962963        0.407407  0.962963   \n",
       "SVM                  0.962963  0.962963    0.962963        0.814815  0.962963   \n",
       "\n",
       "                     Data_vae_interpolate  \n",
       "Logistic Regression              0.962963  \n",
       "SVM                              0.962963  "
      ]
     },
     "execution_count": 117,
     "metadata": {},
     "output_type": "execute_result"
    }
   ],
   "source": [
    "results['accuracy']"
   ]
  },
  {
   "cell_type": "markdown",
   "id": "cda0f4c5",
   "metadata": {},
   "source": [
    "### RandomForest"
   ]
  },
  {
   "cell_type": "markdown",
   "id": "6683fda2",
   "metadata": {},
   "source": [
    "Passerons maintenant au modèle RandomForest. Nous entrainerons ce modèle avec optimisation des hyperparametres sur les différents versions du jeux de données."
   ]
  },
  {
   "cell_type": "code",
   "execution_count": 118,
   "id": "bac0b9a3",
   "metadata": {},
   "outputs": [],
   "source": [
    "# cette fonction permet de definir la fonction objective à optimiser par le framework optuna\n",
    "# Elle contient les paramètres à optimiser et le modèle de RandomForest\n",
    "def rf_objective(trial,X,y,X_test,y_test):\n",
    "    n_estimators_rf = trial.suggest_int(\"n_estimator\",20,1000)\n",
    "    criterion_rf = trial.suggest_categorical(\"criterion\",[\"gini\",\"entropy\",\"log_loss\"])\n",
    "    max_features_rf = trial.suggest_categorical(\"max_features\",[\"sqrt\",\"log2\",None])\n",
    "    rf = RandomForestClassifier(n_estimators=n_estimators_rf,criterion=criterion_rf, max_features = max_features_rf )\n",
    "    rf.fit(X,y)\n",
    "    return rf.score(X_test,y_test)\n",
    "\n"
   ]
  },
  {
   "cell_type": "code",
   "execution_count": 119,
   "id": "f15f3555",
   "metadata": {},
   "outputs": [],
   "source": [
    "# Cette fonction permet de définir la fonction objective après de l'avoir optimisé pour nous permettre de calculer les différents métriques après optimisation\n",
    "def post_rf_objective(trial,X,y,X_test,y_test):\n",
    "    n_estimators_rf = trial.suggest_int(\"n_estimator\",20,1000)\n",
    "    criterion_rf = trial.suggest_categorical(\"criterion\",[\"gini\",\"entropy\",\"log_loss\"])\n",
    "    max_features_rf = trial.suggest_categorical(\"max_features\",[\"sqrt\",\"log2\",None])\n",
    "    rf = RandomForestClassifier(n_estimators=n_estimators_rf,criterion=criterion_rf, max_features = max_features_rf )\n",
    "    rf.fit(X,y)\n",
    "    pred = rf.predict(X_test)\n",
    "    acc = accuracy_score(pred, y_test)\n",
    "    recall = recall_score(pred, y_test)\n",
    "    precision = precision_score(pred, y_test)\n",
    "    f1 = f1_score(pred, y_test)\n",
    "    \n",
    "    \n",
    "    return acc,f1, recall ,precision\n",
    "\n"
   ]
  },
  {
   "cell_type": "code",
   "execution_count": 121,
   "id": "365d8a45",
   "metadata": {},
   "outputs": [],
   "source": [
    "# Cette fonction nous permets d'entrainer le modèle pour des différents inputs\n",
    "def rf_model(X,y,X_test,y_test):\n",
    "    func = lambda trial: rf_objective(trial, X,y,X_test,y_test)\n",
    "    optuna.logging.set_verbosity(optuna.logging.WARNING)\n",
    "    study = optuna.create_study(direction = 'maximize')\n",
    "    \n",
    "    study.optimize(func,n_trials=100,show_progress_bar=True)\n",
    "    func_post = lambda trial: post_rf_objective(trial, X,y,X_test,y_test)\n",
    "    acc, f1,recall, precision = func_post(study.best_trial)\n",
    "    return acc,f1,recall,precision\n",
    "    "
   ]
  },
  {
   "cell_type": "code",
   "execution_count": 124,
   "id": "e94d3174",
   "metadata": {},
   "outputs": [
    {
     "name": "stderr",
     "output_type": "stream",
     "text": [
      "  4%|▍         | 4/100 [00:02<00:55,  1.74it/s][W 2023-12-17 21:49:48,509] Trial 4 failed with parameters: {'n_estimator': 759, 'criterion': 'log_loss', 'max_features': None} because of the following error: KeyError('log_loss').\n",
      "Traceback (most recent call last):\n",
      "  File \"c:\\Users\\HP\\anaconda3\\lib\\site-packages\\optuna\\study\\_optimize.py\", line 200, in _run_trial\n",
      "    value_or_values = func(trial)\n",
      "  File \"C:\\Users\\HP\\AppData\\Local\\Temp\\ipykernel_18016\\1374402258.py\", line 3, in <lambda>\n",
      "    func = lambda trial: rf_objective(trial, X,y,X_test,y_test)\n",
      "  File \"C:\\Users\\HP\\AppData\\Local\\Temp\\ipykernel_18016\\2139197543.py\", line 8, in rf_objective\n",
      "    rf.fit(X,y)\n",
      "  File \"c:\\Users\\HP\\anaconda3\\lib\\site-packages\\sklearn\\ensemble\\_forest.py\", line 450, in fit\n",
      "    trees = Parallel(\n",
      "  File \"c:\\Users\\HP\\anaconda3\\lib\\site-packages\\joblib\\parallel.py\", line 1863, in __call__\n",
      "    return output if self.return_generator else list(output)\n",
      "  File \"c:\\Users\\HP\\anaconda3\\lib\\site-packages\\joblib\\parallel.py\", line 1792, in _get_sequential_output\n",
      "    res = func(*args, **kwargs)\n",
      "  File \"c:\\Users\\HP\\anaconda3\\lib\\site-packages\\sklearn\\utils\\fixes.py\", line 216, in __call__\n",
      "    return self.function(*args, **kwargs)\n",
      "  File \"c:\\Users\\HP\\anaconda3\\lib\\site-packages\\sklearn\\ensemble\\_forest.py\", line 185, in _parallel_build_trees\n",
      "    tree.fit(X, y, sample_weight=curr_sample_weight, check_input=False)\n",
      "  File \"c:\\Users\\HP\\anaconda3\\lib\\site-packages\\sklearn\\tree\\_classes.py\", line 937, in fit\n",
      "    super().fit(\n",
      "  File \"c:\\Users\\HP\\anaconda3\\lib\\site-packages\\sklearn\\tree\\_classes.py\", line 352, in fit\n",
      "    criterion = CRITERIA_CLF[self.criterion](\n",
      "KeyError: 'log_loss'\n",
      "[W 2023-12-17 21:49:48,510] Trial 4 failed with value None.\n",
      "  4%|▍         | 4/100 [00:02<01:08,  1.40it/s]\n"
     ]
    },
    {
     "ename": "KeyError",
     "evalue": "'log_loss'",
     "output_type": "error",
     "traceback": [
      "\u001b[1;31m---------------------------------------------------------------------------\u001b[0m",
      "\u001b[1;31mKeyError\u001b[0m                                  Traceback (most recent call last)",
      "Input \u001b[1;32mIn [124]\u001b[0m, in \u001b[0;36m<cell line: 2>\u001b[1;34m()\u001b[0m\n\u001b[0;32m      1\u001b[0m \u001b[38;5;66;03m# On recupere les metriques pour dataset desequilibre\u001b[39;00m\n\u001b[1;32m----> 2\u001b[0m acc_rf,f1_rf,recall_rf,precision_rf \u001b[38;5;241m=\u001b[39m \u001b[43mrf_model\u001b[49m\u001b[43m(\u001b[49m\u001b[43mX\u001b[49m\u001b[43m,\u001b[49m\u001b[43my\u001b[49m\u001b[43m,\u001b[49m\u001b[43mX_test\u001b[49m\u001b[43m,\u001b[49m\u001b[43my_test\u001b[49m\u001b[43m)\u001b[49m\n",
      "Input \u001b[1;32mIn [121]\u001b[0m, in \u001b[0;36mrf_model\u001b[1;34m(X, y, X_test, y_test)\u001b[0m\n\u001b[0;32m      8\u001b[0m     \u001b[38;5;28;01mdef\u001b[39;00m \u001b[38;5;21mcallback\u001b[39m(study, trial):\n\u001b[0;32m      9\u001b[0m         pbar\u001b[38;5;241m.\u001b[39mupdate(\u001b[38;5;241m1\u001b[39m)\n\u001b[1;32m---> 11\u001b[0m     \u001b[43mstudy\u001b[49m\u001b[38;5;241;43m.\u001b[39;49m\u001b[43moptimize\u001b[49m\u001b[43m(\u001b[49m\u001b[43mfunc\u001b[49m\u001b[43m,\u001b[49m\u001b[43m \u001b[49m\u001b[43mn_trials\u001b[49m\u001b[38;5;241;43m=\u001b[39;49m\u001b[38;5;241;43m100\u001b[39;49m\u001b[43m,\u001b[49m\u001b[43m \u001b[49m\u001b[43mcallbacks\u001b[49m\u001b[38;5;241;43m=\u001b[39;49m\u001b[43m[\u001b[49m\u001b[43mcallback\u001b[49m\u001b[43m]\u001b[49m\u001b[43m)\u001b[49m\n\u001b[0;32m     13\u001b[0m study\u001b[38;5;241m.\u001b[39moptimize(func,n_trials\u001b[38;5;241m=\u001b[39m\u001b[38;5;241m100\u001b[39m,show_progress_bar\u001b[38;5;241m=\u001b[39m\u001b[38;5;28;01mTrue\u001b[39;00m)\n\u001b[0;32m     14\u001b[0m func_post \u001b[38;5;241m=\u001b[39m \u001b[38;5;28;01mlambda\u001b[39;00m trial: post_rf_objective(trial, X,y,X_test,y_test)\n",
      "File \u001b[1;32mc:\\Users\\HP\\anaconda3\\lib\\site-packages\\optuna\\study\\study.py:451\u001b[0m, in \u001b[0;36mStudy.optimize\u001b[1;34m(self, func, n_trials, timeout, n_jobs, catch, callbacks, gc_after_trial, show_progress_bar)\u001b[0m\n\u001b[0;32m    348\u001b[0m \u001b[38;5;28;01mdef\u001b[39;00m \u001b[38;5;21moptimize\u001b[39m(\n\u001b[0;32m    349\u001b[0m     \u001b[38;5;28mself\u001b[39m,\n\u001b[0;32m    350\u001b[0m     func: ObjectiveFuncType,\n\u001b[1;32m   (...)\u001b[0m\n\u001b[0;32m    357\u001b[0m     show_progress_bar: \u001b[38;5;28mbool\u001b[39m \u001b[38;5;241m=\u001b[39m \u001b[38;5;28;01mFalse\u001b[39;00m,\n\u001b[0;32m    358\u001b[0m ) \u001b[38;5;241m-\u001b[39m\u001b[38;5;241m>\u001b[39m \u001b[38;5;28;01mNone\u001b[39;00m:\n\u001b[0;32m    359\u001b[0m     \u001b[38;5;124;03m\"\"\"Optimize an objective function.\u001b[39;00m\n\u001b[0;32m    360\u001b[0m \n\u001b[0;32m    361\u001b[0m \u001b[38;5;124;03m    Optimization is done by choosing a suitable set of hyperparameter values from a given\u001b[39;00m\n\u001b[1;32m   (...)\u001b[0m\n\u001b[0;32m    449\u001b[0m \u001b[38;5;124;03m            If nested invocation of this method occurs.\u001b[39;00m\n\u001b[0;32m    450\u001b[0m \u001b[38;5;124;03m    \"\"\"\u001b[39;00m\n\u001b[1;32m--> 451\u001b[0m     \u001b[43m_optimize\u001b[49m\u001b[43m(\u001b[49m\n\u001b[0;32m    452\u001b[0m \u001b[43m        \u001b[49m\u001b[43mstudy\u001b[49m\u001b[38;5;241;43m=\u001b[39;49m\u001b[38;5;28;43mself\u001b[39;49m\u001b[43m,\u001b[49m\n\u001b[0;32m    453\u001b[0m \u001b[43m        \u001b[49m\u001b[43mfunc\u001b[49m\u001b[38;5;241;43m=\u001b[39;49m\u001b[43mfunc\u001b[49m\u001b[43m,\u001b[49m\n\u001b[0;32m    454\u001b[0m \u001b[43m        \u001b[49m\u001b[43mn_trials\u001b[49m\u001b[38;5;241;43m=\u001b[39;49m\u001b[43mn_trials\u001b[49m\u001b[43m,\u001b[49m\n\u001b[0;32m    455\u001b[0m \u001b[43m        \u001b[49m\u001b[43mtimeout\u001b[49m\u001b[38;5;241;43m=\u001b[39;49m\u001b[43mtimeout\u001b[49m\u001b[43m,\u001b[49m\n\u001b[0;32m    456\u001b[0m \u001b[43m        \u001b[49m\u001b[43mn_jobs\u001b[49m\u001b[38;5;241;43m=\u001b[39;49m\u001b[43mn_jobs\u001b[49m\u001b[43m,\u001b[49m\n\u001b[0;32m    457\u001b[0m \u001b[43m        \u001b[49m\u001b[43mcatch\u001b[49m\u001b[38;5;241;43m=\u001b[39;49m\u001b[38;5;28;43mtuple\u001b[39;49m\u001b[43m(\u001b[49m\u001b[43mcatch\u001b[49m\u001b[43m)\u001b[49m\u001b[43m \u001b[49m\u001b[38;5;28;43;01mif\u001b[39;49;00m\u001b[43m \u001b[49m\u001b[38;5;28;43misinstance\u001b[39;49m\u001b[43m(\u001b[49m\u001b[43mcatch\u001b[49m\u001b[43m,\u001b[49m\u001b[43m \u001b[49m\u001b[43mIterable\u001b[49m\u001b[43m)\u001b[49m\u001b[43m \u001b[49m\u001b[38;5;28;43;01melse\u001b[39;49;00m\u001b[43m \u001b[49m\u001b[43m(\u001b[49m\u001b[43mcatch\u001b[49m\u001b[43m,\u001b[49m\u001b[43m)\u001b[49m\u001b[43m,\u001b[49m\n\u001b[0;32m    458\u001b[0m \u001b[43m        \u001b[49m\u001b[43mcallbacks\u001b[49m\u001b[38;5;241;43m=\u001b[39;49m\u001b[43mcallbacks\u001b[49m\u001b[43m,\u001b[49m\n\u001b[0;32m    459\u001b[0m \u001b[43m        \u001b[49m\u001b[43mgc_after_trial\u001b[49m\u001b[38;5;241;43m=\u001b[39;49m\u001b[43mgc_after_trial\u001b[49m\u001b[43m,\u001b[49m\n\u001b[0;32m    460\u001b[0m \u001b[43m        \u001b[49m\u001b[43mshow_progress_bar\u001b[49m\u001b[38;5;241;43m=\u001b[39;49m\u001b[43mshow_progress_bar\u001b[49m\u001b[43m,\u001b[49m\n\u001b[0;32m    461\u001b[0m \u001b[43m    \u001b[49m\u001b[43m)\u001b[49m\n",
      "File \u001b[1;32mc:\\Users\\HP\\anaconda3\\lib\\site-packages\\optuna\\study\\_optimize.py:66\u001b[0m, in \u001b[0;36m_optimize\u001b[1;34m(study, func, n_trials, timeout, n_jobs, catch, callbacks, gc_after_trial, show_progress_bar)\u001b[0m\n\u001b[0;32m     64\u001b[0m \u001b[38;5;28;01mtry\u001b[39;00m:\n\u001b[0;32m     65\u001b[0m     \u001b[38;5;28;01mif\u001b[39;00m n_jobs \u001b[38;5;241m==\u001b[39m \u001b[38;5;241m1\u001b[39m:\n\u001b[1;32m---> 66\u001b[0m         \u001b[43m_optimize_sequential\u001b[49m\u001b[43m(\u001b[49m\n\u001b[0;32m     67\u001b[0m \u001b[43m            \u001b[49m\u001b[43mstudy\u001b[49m\u001b[43m,\u001b[49m\n\u001b[0;32m     68\u001b[0m \u001b[43m            \u001b[49m\u001b[43mfunc\u001b[49m\u001b[43m,\u001b[49m\n\u001b[0;32m     69\u001b[0m \u001b[43m            \u001b[49m\u001b[43mn_trials\u001b[49m\u001b[43m,\u001b[49m\n\u001b[0;32m     70\u001b[0m \u001b[43m            \u001b[49m\u001b[43mtimeout\u001b[49m\u001b[43m,\u001b[49m\n\u001b[0;32m     71\u001b[0m \u001b[43m            \u001b[49m\u001b[43mcatch\u001b[49m\u001b[43m,\u001b[49m\n\u001b[0;32m     72\u001b[0m \u001b[43m            \u001b[49m\u001b[43mcallbacks\u001b[49m\u001b[43m,\u001b[49m\n\u001b[0;32m     73\u001b[0m \u001b[43m            \u001b[49m\u001b[43mgc_after_trial\u001b[49m\u001b[43m,\u001b[49m\n\u001b[0;32m     74\u001b[0m \u001b[43m            \u001b[49m\u001b[43mreseed_sampler_rng\u001b[49m\u001b[38;5;241;43m=\u001b[39;49m\u001b[38;5;28;43;01mFalse\u001b[39;49;00m\u001b[43m,\u001b[49m\n\u001b[0;32m     75\u001b[0m \u001b[43m            \u001b[49m\u001b[43mtime_start\u001b[49m\u001b[38;5;241;43m=\u001b[39;49m\u001b[38;5;28;43;01mNone\u001b[39;49;00m\u001b[43m,\u001b[49m\n\u001b[0;32m     76\u001b[0m \u001b[43m            \u001b[49m\u001b[43mprogress_bar\u001b[49m\u001b[38;5;241;43m=\u001b[39;49m\u001b[43mprogress_bar\u001b[49m\u001b[43m,\u001b[49m\n\u001b[0;32m     77\u001b[0m \u001b[43m        \u001b[49m\u001b[43m)\u001b[49m\n\u001b[0;32m     78\u001b[0m     \u001b[38;5;28;01melse\u001b[39;00m:\n\u001b[0;32m     79\u001b[0m         \u001b[38;5;28;01mif\u001b[39;00m n_jobs \u001b[38;5;241m==\u001b[39m \u001b[38;5;241m-\u001b[39m\u001b[38;5;241m1\u001b[39m:\n",
      "File \u001b[1;32mc:\\Users\\HP\\anaconda3\\lib\\site-packages\\optuna\\study\\_optimize.py:163\u001b[0m, in \u001b[0;36m_optimize_sequential\u001b[1;34m(study, func, n_trials, timeout, catch, callbacks, gc_after_trial, reseed_sampler_rng, time_start, progress_bar)\u001b[0m\n\u001b[0;32m    160\u001b[0m         \u001b[38;5;28;01mbreak\u001b[39;00m\n\u001b[0;32m    162\u001b[0m \u001b[38;5;28;01mtry\u001b[39;00m:\n\u001b[1;32m--> 163\u001b[0m     frozen_trial \u001b[38;5;241m=\u001b[39m \u001b[43m_run_trial\u001b[49m\u001b[43m(\u001b[49m\u001b[43mstudy\u001b[49m\u001b[43m,\u001b[49m\u001b[43m \u001b[49m\u001b[43mfunc\u001b[49m\u001b[43m,\u001b[49m\u001b[43m \u001b[49m\u001b[43mcatch\u001b[49m\u001b[43m)\u001b[49m\n\u001b[0;32m    164\u001b[0m \u001b[38;5;28;01mfinally\u001b[39;00m:\n\u001b[0;32m    165\u001b[0m     \u001b[38;5;66;03m# The following line mitigates memory problems that can be occurred in some\u001b[39;00m\n\u001b[0;32m    166\u001b[0m     \u001b[38;5;66;03m# environments (e.g., services that use computing containers such as GitHub Actions).\u001b[39;00m\n\u001b[0;32m    167\u001b[0m     \u001b[38;5;66;03m# Please refer to the following PR for further details:\u001b[39;00m\n\u001b[0;32m    168\u001b[0m     \u001b[38;5;66;03m# https://github.com/optuna/optuna/pull/325.\u001b[39;00m\n\u001b[0;32m    169\u001b[0m     \u001b[38;5;28;01mif\u001b[39;00m gc_after_trial:\n",
      "File \u001b[1;32mc:\\Users\\HP\\anaconda3\\lib\\site-packages\\optuna\\study\\_optimize.py:251\u001b[0m, in \u001b[0;36m_run_trial\u001b[1;34m(study, func, catch)\u001b[0m\n\u001b[0;32m    244\u001b[0m         \u001b[38;5;28;01massert\u001b[39;00m \u001b[38;5;28;01mFalse\u001b[39;00m, \u001b[38;5;124m\"\u001b[39m\u001b[38;5;124mShould not reach.\u001b[39m\u001b[38;5;124m\"\u001b[39m\n\u001b[0;32m    246\u001b[0m \u001b[38;5;28;01mif\u001b[39;00m (\n\u001b[0;32m    247\u001b[0m     frozen_trial\u001b[38;5;241m.\u001b[39mstate \u001b[38;5;241m==\u001b[39m TrialState\u001b[38;5;241m.\u001b[39mFAIL\n\u001b[0;32m    248\u001b[0m     \u001b[38;5;129;01mand\u001b[39;00m func_err \u001b[38;5;129;01mis\u001b[39;00m \u001b[38;5;129;01mnot\u001b[39;00m \u001b[38;5;28;01mNone\u001b[39;00m\n\u001b[0;32m    249\u001b[0m     \u001b[38;5;129;01mand\u001b[39;00m \u001b[38;5;129;01mnot\u001b[39;00m \u001b[38;5;28misinstance\u001b[39m(func_err, catch)\n\u001b[0;32m    250\u001b[0m ):\n\u001b[1;32m--> 251\u001b[0m     \u001b[38;5;28;01mraise\u001b[39;00m func_err\n\u001b[0;32m    252\u001b[0m \u001b[38;5;28;01mreturn\u001b[39;00m frozen_trial\n",
      "File \u001b[1;32mc:\\Users\\HP\\anaconda3\\lib\\site-packages\\optuna\\study\\_optimize.py:200\u001b[0m, in \u001b[0;36m_run_trial\u001b[1;34m(study, func, catch)\u001b[0m\n\u001b[0;32m    198\u001b[0m \u001b[38;5;28;01mwith\u001b[39;00m get_heartbeat_thread(trial\u001b[38;5;241m.\u001b[39m_trial_id, study\u001b[38;5;241m.\u001b[39m_storage):\n\u001b[0;32m    199\u001b[0m     \u001b[38;5;28;01mtry\u001b[39;00m:\n\u001b[1;32m--> 200\u001b[0m         value_or_values \u001b[38;5;241m=\u001b[39m \u001b[43mfunc\u001b[49m\u001b[43m(\u001b[49m\u001b[43mtrial\u001b[49m\u001b[43m)\u001b[49m\n\u001b[0;32m    201\u001b[0m     \u001b[38;5;28;01mexcept\u001b[39;00m exceptions\u001b[38;5;241m.\u001b[39mTrialPruned \u001b[38;5;28;01mas\u001b[39;00m e:\n\u001b[0;32m    202\u001b[0m         \u001b[38;5;66;03m# TODO(mamu): Handle multi-objective cases.\u001b[39;00m\n\u001b[0;32m    203\u001b[0m         state \u001b[38;5;241m=\u001b[39m TrialState\u001b[38;5;241m.\u001b[39mPRUNED\n",
      "Input \u001b[1;32mIn [121]\u001b[0m, in \u001b[0;36mrf_model.<locals>.<lambda>\u001b[1;34m(trial)\u001b[0m\n\u001b[0;32m      2\u001b[0m \u001b[38;5;28;01mdef\u001b[39;00m \u001b[38;5;21mrf_model\u001b[39m(X,y,X_test,y_test):\n\u001b[1;32m----> 3\u001b[0m     func \u001b[38;5;241m=\u001b[39m \u001b[38;5;28;01mlambda\u001b[39;00m trial: \u001b[43mrf_objective\u001b[49m\u001b[43m(\u001b[49m\u001b[43mtrial\u001b[49m\u001b[43m,\u001b[49m\u001b[43m \u001b[49m\u001b[43mX\u001b[49m\u001b[43m,\u001b[49m\u001b[43my\u001b[49m\u001b[43m,\u001b[49m\u001b[43mX_test\u001b[49m\u001b[43m,\u001b[49m\u001b[43my_test\u001b[49m\u001b[43m)\u001b[49m\n\u001b[0;32m      4\u001b[0m     optuna\u001b[38;5;241m.\u001b[39mlogging\u001b[38;5;241m.\u001b[39mset_verbosity(optuna\u001b[38;5;241m.\u001b[39mlogging\u001b[38;5;241m.\u001b[39mWARNING)\n\u001b[0;32m      5\u001b[0m     study \u001b[38;5;241m=\u001b[39m optuna\u001b[38;5;241m.\u001b[39mcreate_study(direction \u001b[38;5;241m=\u001b[39m \u001b[38;5;124m'\u001b[39m\u001b[38;5;124mmaximize\u001b[39m\u001b[38;5;124m'\u001b[39m)\n",
      "Input \u001b[1;32mIn [118]\u001b[0m, in \u001b[0;36mrf_objective\u001b[1;34m(trial, X, y, X_test, y_test)\u001b[0m\n\u001b[0;32m      6\u001b[0m max_features_rf \u001b[38;5;241m=\u001b[39m trial\u001b[38;5;241m.\u001b[39msuggest_categorical(\u001b[38;5;124m\"\u001b[39m\u001b[38;5;124mmax_features\u001b[39m\u001b[38;5;124m\"\u001b[39m,[\u001b[38;5;124m\"\u001b[39m\u001b[38;5;124msqrt\u001b[39m\u001b[38;5;124m\"\u001b[39m,\u001b[38;5;124m\"\u001b[39m\u001b[38;5;124mlog2\u001b[39m\u001b[38;5;124m\"\u001b[39m,\u001b[38;5;28;01mNone\u001b[39;00m])\n\u001b[0;32m      7\u001b[0m rf \u001b[38;5;241m=\u001b[39m RandomForestClassifier(n_estimators\u001b[38;5;241m=\u001b[39mn_estimators_rf,criterion\u001b[38;5;241m=\u001b[39mcriterion_rf, max_features \u001b[38;5;241m=\u001b[39m max_features_rf )\n\u001b[1;32m----> 8\u001b[0m \u001b[43mrf\u001b[49m\u001b[38;5;241;43m.\u001b[39;49m\u001b[43mfit\u001b[49m\u001b[43m(\u001b[49m\u001b[43mX\u001b[49m\u001b[43m,\u001b[49m\u001b[43my\u001b[49m\u001b[43m)\u001b[49m\n\u001b[0;32m      9\u001b[0m \u001b[38;5;28;01mreturn\u001b[39;00m rf\u001b[38;5;241m.\u001b[39mscore(X_test,y_test)\n",
      "File \u001b[1;32mc:\\Users\\HP\\anaconda3\\lib\\site-packages\\sklearn\\ensemble\\_forest.py:450\u001b[0m, in \u001b[0;36mBaseForest.fit\u001b[1;34m(self, X, y, sample_weight)\u001b[0m\n\u001b[0;32m    439\u001b[0m trees \u001b[38;5;241m=\u001b[39m [\n\u001b[0;32m    440\u001b[0m     \u001b[38;5;28mself\u001b[39m\u001b[38;5;241m.\u001b[39m_make_estimator(append\u001b[38;5;241m=\u001b[39m\u001b[38;5;28;01mFalse\u001b[39;00m, random_state\u001b[38;5;241m=\u001b[39mrandom_state)\n\u001b[0;32m    441\u001b[0m     \u001b[38;5;28;01mfor\u001b[39;00m i \u001b[38;5;129;01min\u001b[39;00m \u001b[38;5;28mrange\u001b[39m(n_more_estimators)\n\u001b[0;32m    442\u001b[0m ]\n\u001b[0;32m    444\u001b[0m \u001b[38;5;66;03m# Parallel loop: we prefer the threading backend as the Cython code\u001b[39;00m\n\u001b[0;32m    445\u001b[0m \u001b[38;5;66;03m# for fitting the trees is internally releasing the Python GIL\u001b[39;00m\n\u001b[0;32m    446\u001b[0m \u001b[38;5;66;03m# making threading more efficient than multiprocessing in\u001b[39;00m\n\u001b[0;32m    447\u001b[0m \u001b[38;5;66;03m# that case. However, for joblib 0.12+ we respect any\u001b[39;00m\n\u001b[0;32m    448\u001b[0m \u001b[38;5;66;03m# parallel_backend contexts set at a higher level,\u001b[39;00m\n\u001b[0;32m    449\u001b[0m \u001b[38;5;66;03m# since correctness does not rely on using threads.\u001b[39;00m\n\u001b[1;32m--> 450\u001b[0m trees \u001b[38;5;241m=\u001b[39m \u001b[43mParallel\u001b[49m\u001b[43m(\u001b[49m\n\u001b[0;32m    451\u001b[0m \u001b[43m    \u001b[49m\u001b[43mn_jobs\u001b[49m\u001b[38;5;241;43m=\u001b[39;49m\u001b[38;5;28;43mself\u001b[39;49m\u001b[38;5;241;43m.\u001b[39;49m\u001b[43mn_jobs\u001b[49m\u001b[43m,\u001b[49m\n\u001b[0;32m    452\u001b[0m \u001b[43m    \u001b[49m\u001b[43mverbose\u001b[49m\u001b[38;5;241;43m=\u001b[39;49m\u001b[38;5;28;43mself\u001b[39;49m\u001b[38;5;241;43m.\u001b[39;49m\u001b[43mverbose\u001b[49m\u001b[43m,\u001b[49m\n\u001b[0;32m    453\u001b[0m \u001b[43m    \u001b[49m\u001b[38;5;241;43m*\u001b[39;49m\u001b[38;5;241;43m*\u001b[39;49m\u001b[43m_joblib_parallel_args\u001b[49m\u001b[43m(\u001b[49m\u001b[43mprefer\u001b[49m\u001b[38;5;241;43m=\u001b[39;49m\u001b[38;5;124;43m\"\u001b[39;49m\u001b[38;5;124;43mthreads\u001b[39;49m\u001b[38;5;124;43m\"\u001b[39;49m\u001b[43m)\u001b[49m\u001b[43m,\u001b[49m\n\u001b[0;32m    454\u001b[0m \u001b[43m\u001b[49m\u001b[43m)\u001b[49m\u001b[43m(\u001b[49m\n\u001b[0;32m    455\u001b[0m \u001b[43m    \u001b[49m\u001b[43mdelayed\u001b[49m\u001b[43m(\u001b[49m\u001b[43m_parallel_build_trees\u001b[49m\u001b[43m)\u001b[49m\u001b[43m(\u001b[49m\n\u001b[0;32m    456\u001b[0m \u001b[43m        \u001b[49m\u001b[43mt\u001b[49m\u001b[43m,\u001b[49m\n\u001b[0;32m    457\u001b[0m \u001b[43m        \u001b[49m\u001b[38;5;28;43mself\u001b[39;49m\u001b[43m,\u001b[49m\n\u001b[0;32m    458\u001b[0m \u001b[43m        \u001b[49m\u001b[43mX\u001b[49m\u001b[43m,\u001b[49m\n\u001b[0;32m    459\u001b[0m \u001b[43m        \u001b[49m\u001b[43my\u001b[49m\u001b[43m,\u001b[49m\n\u001b[0;32m    460\u001b[0m \u001b[43m        \u001b[49m\u001b[43msample_weight\u001b[49m\u001b[43m,\u001b[49m\n\u001b[0;32m    461\u001b[0m \u001b[43m        \u001b[49m\u001b[43mi\u001b[49m\u001b[43m,\u001b[49m\n\u001b[0;32m    462\u001b[0m \u001b[43m        \u001b[49m\u001b[38;5;28;43mlen\u001b[39;49m\u001b[43m(\u001b[49m\u001b[43mtrees\u001b[49m\u001b[43m)\u001b[49m\u001b[43m,\u001b[49m\n\u001b[0;32m    463\u001b[0m \u001b[43m        \u001b[49m\u001b[43mverbose\u001b[49m\u001b[38;5;241;43m=\u001b[39;49m\u001b[38;5;28;43mself\u001b[39;49m\u001b[38;5;241;43m.\u001b[39;49m\u001b[43mverbose\u001b[49m\u001b[43m,\u001b[49m\n\u001b[0;32m    464\u001b[0m \u001b[43m        \u001b[49m\u001b[43mclass_weight\u001b[49m\u001b[38;5;241;43m=\u001b[39;49m\u001b[38;5;28;43mself\u001b[39;49m\u001b[38;5;241;43m.\u001b[39;49m\u001b[43mclass_weight\u001b[49m\u001b[43m,\u001b[49m\n\u001b[0;32m    465\u001b[0m \u001b[43m        \u001b[49m\u001b[43mn_samples_bootstrap\u001b[49m\u001b[38;5;241;43m=\u001b[39;49m\u001b[43mn_samples_bootstrap\u001b[49m\u001b[43m,\u001b[49m\n\u001b[0;32m    466\u001b[0m \u001b[43m    \u001b[49m\u001b[43m)\u001b[49m\n\u001b[0;32m    467\u001b[0m \u001b[43m    \u001b[49m\u001b[38;5;28;43;01mfor\u001b[39;49;00m\u001b[43m \u001b[49m\u001b[43mi\u001b[49m\u001b[43m,\u001b[49m\u001b[43m \u001b[49m\u001b[43mt\u001b[49m\u001b[43m \u001b[49m\u001b[38;5;129;43;01min\u001b[39;49;00m\u001b[43m \u001b[49m\u001b[38;5;28;43menumerate\u001b[39;49m\u001b[43m(\u001b[49m\u001b[43mtrees\u001b[49m\u001b[43m)\u001b[49m\n\u001b[0;32m    468\u001b[0m \u001b[43m\u001b[49m\u001b[43m)\u001b[49m\n\u001b[0;32m    470\u001b[0m \u001b[38;5;66;03m# Collect newly grown trees\u001b[39;00m\n\u001b[0;32m    471\u001b[0m \u001b[38;5;28mself\u001b[39m\u001b[38;5;241m.\u001b[39mestimators_\u001b[38;5;241m.\u001b[39mextend(trees)\n",
      "File \u001b[1;32mc:\\Users\\HP\\anaconda3\\lib\\site-packages\\joblib\\parallel.py:1863\u001b[0m, in \u001b[0;36mParallel.__call__\u001b[1;34m(self, iterable)\u001b[0m\n\u001b[0;32m   1861\u001b[0m     output \u001b[38;5;241m=\u001b[39m \u001b[38;5;28mself\u001b[39m\u001b[38;5;241m.\u001b[39m_get_sequential_output(iterable)\n\u001b[0;32m   1862\u001b[0m     \u001b[38;5;28mnext\u001b[39m(output)\n\u001b[1;32m-> 1863\u001b[0m     \u001b[38;5;28;01mreturn\u001b[39;00m output \u001b[38;5;28;01mif\u001b[39;00m \u001b[38;5;28mself\u001b[39m\u001b[38;5;241m.\u001b[39mreturn_generator \u001b[38;5;28;01melse\u001b[39;00m \u001b[38;5;28;43mlist\u001b[39;49m\u001b[43m(\u001b[49m\u001b[43moutput\u001b[49m\u001b[43m)\u001b[49m\n\u001b[0;32m   1865\u001b[0m \u001b[38;5;66;03m# Let's create an ID that uniquely identifies the current call. If the\u001b[39;00m\n\u001b[0;32m   1866\u001b[0m \u001b[38;5;66;03m# call is interrupted early and that the same instance is immediately\u001b[39;00m\n\u001b[0;32m   1867\u001b[0m \u001b[38;5;66;03m# re-used, this id will be used to prevent workers that were\u001b[39;00m\n\u001b[0;32m   1868\u001b[0m \u001b[38;5;66;03m# concurrently finalizing a task from the previous call to run the\u001b[39;00m\n\u001b[0;32m   1869\u001b[0m \u001b[38;5;66;03m# callback.\u001b[39;00m\n\u001b[0;32m   1870\u001b[0m \u001b[38;5;28;01mwith\u001b[39;00m \u001b[38;5;28mself\u001b[39m\u001b[38;5;241m.\u001b[39m_lock:\n",
      "File \u001b[1;32mc:\\Users\\HP\\anaconda3\\lib\\site-packages\\joblib\\parallel.py:1792\u001b[0m, in \u001b[0;36mParallel._get_sequential_output\u001b[1;34m(self, iterable)\u001b[0m\n\u001b[0;32m   1790\u001b[0m \u001b[38;5;28mself\u001b[39m\u001b[38;5;241m.\u001b[39mn_dispatched_batches \u001b[38;5;241m+\u001b[39m\u001b[38;5;241m=\u001b[39m \u001b[38;5;241m1\u001b[39m\n\u001b[0;32m   1791\u001b[0m \u001b[38;5;28mself\u001b[39m\u001b[38;5;241m.\u001b[39mn_dispatched_tasks \u001b[38;5;241m+\u001b[39m\u001b[38;5;241m=\u001b[39m \u001b[38;5;241m1\u001b[39m\n\u001b[1;32m-> 1792\u001b[0m res \u001b[38;5;241m=\u001b[39m func(\u001b[38;5;241m*\u001b[39margs, \u001b[38;5;241m*\u001b[39m\u001b[38;5;241m*\u001b[39mkwargs)\n\u001b[0;32m   1793\u001b[0m \u001b[38;5;28mself\u001b[39m\u001b[38;5;241m.\u001b[39mn_completed_tasks \u001b[38;5;241m+\u001b[39m\u001b[38;5;241m=\u001b[39m \u001b[38;5;241m1\u001b[39m\n\u001b[0;32m   1794\u001b[0m \u001b[38;5;28mself\u001b[39m\u001b[38;5;241m.\u001b[39mprint_progress()\n",
      "File \u001b[1;32mc:\\Users\\HP\\anaconda3\\lib\\site-packages\\sklearn\\utils\\fixes.py:216\u001b[0m, in \u001b[0;36m_FuncWrapper.__call__\u001b[1;34m(self, *args, **kwargs)\u001b[0m\n\u001b[0;32m    214\u001b[0m \u001b[38;5;28;01mdef\u001b[39;00m \u001b[38;5;21m__call__\u001b[39m(\u001b[38;5;28mself\u001b[39m, \u001b[38;5;241m*\u001b[39margs, \u001b[38;5;241m*\u001b[39m\u001b[38;5;241m*\u001b[39mkwargs):\n\u001b[0;32m    215\u001b[0m     \u001b[38;5;28;01mwith\u001b[39;00m config_context(\u001b[38;5;241m*\u001b[39m\u001b[38;5;241m*\u001b[39m\u001b[38;5;28mself\u001b[39m\u001b[38;5;241m.\u001b[39mconfig):\n\u001b[1;32m--> 216\u001b[0m         \u001b[38;5;28;01mreturn\u001b[39;00m \u001b[38;5;28mself\u001b[39m\u001b[38;5;241m.\u001b[39mfunction(\u001b[38;5;241m*\u001b[39margs, \u001b[38;5;241m*\u001b[39m\u001b[38;5;241m*\u001b[39mkwargs)\n",
      "File \u001b[1;32mc:\\Users\\HP\\anaconda3\\lib\\site-packages\\sklearn\\ensemble\\_forest.py:185\u001b[0m, in \u001b[0;36m_parallel_build_trees\u001b[1;34m(tree, forest, X, y, sample_weight, tree_idx, n_trees, verbose, class_weight, n_samples_bootstrap)\u001b[0m\n\u001b[0;32m    182\u001b[0m     \u001b[38;5;28;01melif\u001b[39;00m class_weight \u001b[38;5;241m==\u001b[39m \u001b[38;5;124m\"\u001b[39m\u001b[38;5;124mbalanced_subsample\u001b[39m\u001b[38;5;124m\"\u001b[39m:\n\u001b[0;32m    183\u001b[0m         curr_sample_weight \u001b[38;5;241m*\u001b[39m\u001b[38;5;241m=\u001b[39m compute_sample_weight(\u001b[38;5;124m\"\u001b[39m\u001b[38;5;124mbalanced\u001b[39m\u001b[38;5;124m\"\u001b[39m, y, indices\u001b[38;5;241m=\u001b[39mindices)\n\u001b[1;32m--> 185\u001b[0m     \u001b[43mtree\u001b[49m\u001b[38;5;241;43m.\u001b[39;49m\u001b[43mfit\u001b[49m\u001b[43m(\u001b[49m\u001b[43mX\u001b[49m\u001b[43m,\u001b[49m\u001b[43m \u001b[49m\u001b[43my\u001b[49m\u001b[43m,\u001b[49m\u001b[43m \u001b[49m\u001b[43msample_weight\u001b[49m\u001b[38;5;241;43m=\u001b[39;49m\u001b[43mcurr_sample_weight\u001b[49m\u001b[43m,\u001b[49m\u001b[43m \u001b[49m\u001b[43mcheck_input\u001b[49m\u001b[38;5;241;43m=\u001b[39;49m\u001b[38;5;28;43;01mFalse\u001b[39;49;00m\u001b[43m)\u001b[49m\n\u001b[0;32m    186\u001b[0m \u001b[38;5;28;01melse\u001b[39;00m:\n\u001b[0;32m    187\u001b[0m     tree\u001b[38;5;241m.\u001b[39mfit(X, y, sample_weight\u001b[38;5;241m=\u001b[39msample_weight, check_input\u001b[38;5;241m=\u001b[39m\u001b[38;5;28;01mFalse\u001b[39;00m)\n",
      "File \u001b[1;32mc:\\Users\\HP\\anaconda3\\lib\\site-packages\\sklearn\\tree\\_classes.py:937\u001b[0m, in \u001b[0;36mDecisionTreeClassifier.fit\u001b[1;34m(self, X, y, sample_weight, check_input, X_idx_sorted)\u001b[0m\n\u001b[0;32m    899\u001b[0m \u001b[38;5;28;01mdef\u001b[39;00m \u001b[38;5;21mfit\u001b[39m(\n\u001b[0;32m    900\u001b[0m     \u001b[38;5;28mself\u001b[39m, X, y, sample_weight\u001b[38;5;241m=\u001b[39m\u001b[38;5;28;01mNone\u001b[39;00m, check_input\u001b[38;5;241m=\u001b[39m\u001b[38;5;28;01mTrue\u001b[39;00m, X_idx_sorted\u001b[38;5;241m=\u001b[39m\u001b[38;5;124m\"\u001b[39m\u001b[38;5;124mdeprecated\u001b[39m\u001b[38;5;124m\"\u001b[39m\n\u001b[0;32m    901\u001b[0m ):\n\u001b[0;32m    902\u001b[0m     \u001b[38;5;124;03m\"\"\"Build a decision tree classifier from the training set (X, y).\u001b[39;00m\n\u001b[0;32m    903\u001b[0m \n\u001b[0;32m    904\u001b[0m \u001b[38;5;124;03m    Parameters\u001b[39;00m\n\u001b[1;32m   (...)\u001b[0m\n\u001b[0;32m    934\u001b[0m \u001b[38;5;124;03m        Fitted estimator.\u001b[39;00m\n\u001b[0;32m    935\u001b[0m \u001b[38;5;124;03m    \"\"\"\u001b[39;00m\n\u001b[1;32m--> 937\u001b[0m     \u001b[38;5;28;43msuper\u001b[39;49m\u001b[43m(\u001b[49m\u001b[43m)\u001b[49m\u001b[38;5;241;43m.\u001b[39;49m\u001b[43mfit\u001b[49m\u001b[43m(\u001b[49m\n\u001b[0;32m    938\u001b[0m \u001b[43m        \u001b[49m\u001b[43mX\u001b[49m\u001b[43m,\u001b[49m\n\u001b[0;32m    939\u001b[0m \u001b[43m        \u001b[49m\u001b[43my\u001b[49m\u001b[43m,\u001b[49m\n\u001b[0;32m    940\u001b[0m \u001b[43m        \u001b[49m\u001b[43msample_weight\u001b[49m\u001b[38;5;241;43m=\u001b[39;49m\u001b[43msample_weight\u001b[49m\u001b[43m,\u001b[49m\n\u001b[0;32m    941\u001b[0m \u001b[43m        \u001b[49m\u001b[43mcheck_input\u001b[49m\u001b[38;5;241;43m=\u001b[39;49m\u001b[43mcheck_input\u001b[49m\u001b[43m,\u001b[49m\n\u001b[0;32m    942\u001b[0m \u001b[43m        \u001b[49m\u001b[43mX_idx_sorted\u001b[49m\u001b[38;5;241;43m=\u001b[39;49m\u001b[43mX_idx_sorted\u001b[49m\u001b[43m,\u001b[49m\n\u001b[0;32m    943\u001b[0m \u001b[43m    \u001b[49m\u001b[43m)\u001b[49m\n\u001b[0;32m    944\u001b[0m     \u001b[38;5;28;01mreturn\u001b[39;00m \u001b[38;5;28mself\u001b[39m\n",
      "File \u001b[1;32mc:\\Users\\HP\\anaconda3\\lib\\site-packages\\sklearn\\tree\\_classes.py:352\u001b[0m, in \u001b[0;36mBaseDecisionTree.fit\u001b[1;34m(self, X, y, sample_weight, check_input, X_idx_sorted)\u001b[0m\n\u001b[0;32m    350\u001b[0m \u001b[38;5;28;01mif\u001b[39;00m \u001b[38;5;129;01mnot\u001b[39;00m \u001b[38;5;28misinstance\u001b[39m(criterion, Criterion):\n\u001b[0;32m    351\u001b[0m     \u001b[38;5;28;01mif\u001b[39;00m is_classification:\n\u001b[1;32m--> 352\u001b[0m         criterion \u001b[38;5;241m=\u001b[39m \u001b[43mCRITERIA_CLF\u001b[49m\u001b[43m[\u001b[49m\u001b[38;5;28;43mself\u001b[39;49m\u001b[38;5;241;43m.\u001b[39;49m\u001b[43mcriterion\u001b[49m\u001b[43m]\u001b[49m(\n\u001b[0;32m    353\u001b[0m             \u001b[38;5;28mself\u001b[39m\u001b[38;5;241m.\u001b[39mn_outputs_, \u001b[38;5;28mself\u001b[39m\u001b[38;5;241m.\u001b[39mn_classes_\n\u001b[0;32m    354\u001b[0m         )\n\u001b[0;32m    355\u001b[0m     \u001b[38;5;28;01melse\u001b[39;00m:\n\u001b[0;32m    356\u001b[0m         criterion \u001b[38;5;241m=\u001b[39m CRITERIA_REG[\u001b[38;5;28mself\u001b[39m\u001b[38;5;241m.\u001b[39mcriterion](\u001b[38;5;28mself\u001b[39m\u001b[38;5;241m.\u001b[39mn_outputs_, n_samples)\n",
      "\u001b[1;31mKeyError\u001b[0m: 'log_loss'"
     ]
    }
   ],
   "source": [
    "# On recupere les metriques pour dataset desequilibre\n",
    "acc_rf,f1_rf,recall_rf,precision_rf = rf_model(X,y,X_test,y_test)"
   ]
  },
  {
   "cell_type": "code",
   "execution_count": 123,
   "id": "a7dd796f",
   "metadata": {},
   "outputs": [
    {
     "name": "stderr",
     "output_type": "stream",
     "text": [
      "  0%|          | 0/100 [00:00<?, ?it/s][W 2023-12-17 21:49:33,652] Trial 0 failed with parameters: {'n_estimator': 904, 'criterion': 'log_loss', 'max_features': None} because of the following error: KeyError('log_loss').\n",
      "Traceback (most recent call last):\n",
      "  File \"c:\\Users\\HP\\anaconda3\\lib\\site-packages\\optuna\\study\\_optimize.py\", line 200, in _run_trial\n",
      "    value_or_values = func(trial)\n",
      "  File \"C:\\Users\\HP\\AppData\\Local\\Temp\\ipykernel_18016\\1374402258.py\", line 3, in <lambda>\n",
      "    func = lambda trial: rf_objective(trial, X,y,X_test,y_test)\n",
      "  File \"C:\\Users\\HP\\AppData\\Local\\Temp\\ipykernel_18016\\2139197543.py\", line 8, in rf_objective\n",
      "    rf.fit(X,y)\n",
      "  File \"c:\\Users\\HP\\anaconda3\\lib\\site-packages\\sklearn\\ensemble\\_forest.py\", line 450, in fit\n",
      "    trees = Parallel(\n",
      "  File \"c:\\Users\\HP\\anaconda3\\lib\\site-packages\\joblib\\parallel.py\", line 1863, in __call__\n",
      "    return output if self.return_generator else list(output)\n",
      "  File \"c:\\Users\\HP\\anaconda3\\lib\\site-packages\\joblib\\parallel.py\", line 1792, in _get_sequential_output\n",
      "    res = func(*args, **kwargs)\n",
      "  File \"c:\\Users\\HP\\anaconda3\\lib\\site-packages\\sklearn\\utils\\fixes.py\", line 216, in __call__\n",
      "    return self.function(*args, **kwargs)\n",
      "  File \"c:\\Users\\HP\\anaconda3\\lib\\site-packages\\sklearn\\ensemble\\_forest.py\", line 185, in _parallel_build_trees\n",
      "    tree.fit(X, y, sample_weight=curr_sample_weight, check_input=False)\n",
      "  File \"c:\\Users\\HP\\anaconda3\\lib\\site-packages\\sklearn\\tree\\_classes.py\", line 937, in fit\n",
      "    super().fit(\n",
      "  File \"c:\\Users\\HP\\anaconda3\\lib\\site-packages\\sklearn\\tree\\_classes.py\", line 352, in fit\n",
      "    criterion = CRITERIA_CLF[self.criterion](\n",
      "KeyError: 'log_loss'\n",
      "[W 2023-12-17 21:49:33,653] Trial 0 failed with value None.\n",
      "  0%|          | 0/100 [00:00<?, ?it/s]\n"
     ]
    },
    {
     "ename": "KeyError",
     "evalue": "'log_loss'",
     "output_type": "error",
     "traceback": [
      "\u001b[1;31m---------------------------------------------------------------------------\u001b[0m",
      "\u001b[1;31mKeyError\u001b[0m                                  Traceback (most recent call last)",
      "Input \u001b[1;32mIn [123]\u001b[0m, in \u001b[0;36m<cell line: 2>\u001b[1;34m()\u001b[0m\n\u001b[0;32m      1\u001b[0m \u001b[38;5;66;03m# On recupere les metriques pour dataset desequilibre\u001b[39;00m\n\u001b[1;32m----> 2\u001b[0m acc_rf,f1_rf,recall_rf,precision_rf \u001b[38;5;241m=\u001b[39m \u001b[43mrf_model\u001b[49m\u001b[43m(\u001b[49m\u001b[43mX\u001b[49m\u001b[43m,\u001b[49m\u001b[43my\u001b[49m\u001b[43m,\u001b[49m\u001b[43mX_test\u001b[49m\u001b[43m,\u001b[49m\u001b[43my_test\u001b[49m\u001b[43m)\u001b[49m\n\u001b[0;32m      5\u001b[0m \u001b[38;5;66;03m# On recupere les metriques pour dataset desequilibre standarise\u001b[39;00m\n\u001b[0;32m      6\u001b[0m acc_rf_std,f1_rf_std,recall_rf_std,precision_rf_std \u001b[38;5;241m=\u001b[39m rf_model(X_std,y_std,X_test_std,y_test_std)\n",
      "Input \u001b[1;32mIn [121]\u001b[0m, in \u001b[0;36mrf_model\u001b[1;34m(X, y, X_test, y_test)\u001b[0m\n\u001b[0;32m      8\u001b[0m     \u001b[38;5;28;01mdef\u001b[39;00m \u001b[38;5;21mcallback\u001b[39m(study, trial):\n\u001b[0;32m      9\u001b[0m         pbar\u001b[38;5;241m.\u001b[39mupdate(\u001b[38;5;241m1\u001b[39m)\n\u001b[1;32m---> 11\u001b[0m     \u001b[43mstudy\u001b[49m\u001b[38;5;241;43m.\u001b[39;49m\u001b[43moptimize\u001b[49m\u001b[43m(\u001b[49m\u001b[43mfunc\u001b[49m\u001b[43m,\u001b[49m\u001b[43m \u001b[49m\u001b[43mn_trials\u001b[49m\u001b[38;5;241;43m=\u001b[39;49m\u001b[38;5;241;43m100\u001b[39;49m\u001b[43m,\u001b[49m\u001b[43m \u001b[49m\u001b[43mcallbacks\u001b[49m\u001b[38;5;241;43m=\u001b[39;49m\u001b[43m[\u001b[49m\u001b[43mcallback\u001b[49m\u001b[43m]\u001b[49m\u001b[43m)\u001b[49m\n\u001b[0;32m     13\u001b[0m study\u001b[38;5;241m.\u001b[39moptimize(func,n_trials\u001b[38;5;241m=\u001b[39m\u001b[38;5;241m100\u001b[39m,show_progress_bar\u001b[38;5;241m=\u001b[39m\u001b[38;5;28;01mTrue\u001b[39;00m)\n\u001b[0;32m     14\u001b[0m func_post \u001b[38;5;241m=\u001b[39m \u001b[38;5;28;01mlambda\u001b[39;00m trial: post_rf_objective(trial, X,y,X_test,y_test)\n",
      "File \u001b[1;32mc:\\Users\\HP\\anaconda3\\lib\\site-packages\\optuna\\study\\study.py:451\u001b[0m, in \u001b[0;36mStudy.optimize\u001b[1;34m(self, func, n_trials, timeout, n_jobs, catch, callbacks, gc_after_trial, show_progress_bar)\u001b[0m\n\u001b[0;32m    348\u001b[0m \u001b[38;5;28;01mdef\u001b[39;00m \u001b[38;5;21moptimize\u001b[39m(\n\u001b[0;32m    349\u001b[0m     \u001b[38;5;28mself\u001b[39m,\n\u001b[0;32m    350\u001b[0m     func: ObjectiveFuncType,\n\u001b[1;32m   (...)\u001b[0m\n\u001b[0;32m    357\u001b[0m     show_progress_bar: \u001b[38;5;28mbool\u001b[39m \u001b[38;5;241m=\u001b[39m \u001b[38;5;28;01mFalse\u001b[39;00m,\n\u001b[0;32m    358\u001b[0m ) \u001b[38;5;241m-\u001b[39m\u001b[38;5;241m>\u001b[39m \u001b[38;5;28;01mNone\u001b[39;00m:\n\u001b[0;32m    359\u001b[0m     \u001b[38;5;124;03m\"\"\"Optimize an objective function.\u001b[39;00m\n\u001b[0;32m    360\u001b[0m \n\u001b[0;32m    361\u001b[0m \u001b[38;5;124;03m    Optimization is done by choosing a suitable set of hyperparameter values from a given\u001b[39;00m\n\u001b[1;32m   (...)\u001b[0m\n\u001b[0;32m    449\u001b[0m \u001b[38;5;124;03m            If nested invocation of this method occurs.\u001b[39;00m\n\u001b[0;32m    450\u001b[0m \u001b[38;5;124;03m    \"\"\"\u001b[39;00m\n\u001b[1;32m--> 451\u001b[0m     \u001b[43m_optimize\u001b[49m\u001b[43m(\u001b[49m\n\u001b[0;32m    452\u001b[0m \u001b[43m        \u001b[49m\u001b[43mstudy\u001b[49m\u001b[38;5;241;43m=\u001b[39;49m\u001b[38;5;28;43mself\u001b[39;49m\u001b[43m,\u001b[49m\n\u001b[0;32m    453\u001b[0m \u001b[43m        \u001b[49m\u001b[43mfunc\u001b[49m\u001b[38;5;241;43m=\u001b[39;49m\u001b[43mfunc\u001b[49m\u001b[43m,\u001b[49m\n\u001b[0;32m    454\u001b[0m \u001b[43m        \u001b[49m\u001b[43mn_trials\u001b[49m\u001b[38;5;241;43m=\u001b[39;49m\u001b[43mn_trials\u001b[49m\u001b[43m,\u001b[49m\n\u001b[0;32m    455\u001b[0m \u001b[43m        \u001b[49m\u001b[43mtimeout\u001b[49m\u001b[38;5;241;43m=\u001b[39;49m\u001b[43mtimeout\u001b[49m\u001b[43m,\u001b[49m\n\u001b[0;32m    456\u001b[0m \u001b[43m        \u001b[49m\u001b[43mn_jobs\u001b[49m\u001b[38;5;241;43m=\u001b[39;49m\u001b[43mn_jobs\u001b[49m\u001b[43m,\u001b[49m\n\u001b[0;32m    457\u001b[0m \u001b[43m        \u001b[49m\u001b[43mcatch\u001b[49m\u001b[38;5;241;43m=\u001b[39;49m\u001b[38;5;28;43mtuple\u001b[39;49m\u001b[43m(\u001b[49m\u001b[43mcatch\u001b[49m\u001b[43m)\u001b[49m\u001b[43m \u001b[49m\u001b[38;5;28;43;01mif\u001b[39;49;00m\u001b[43m \u001b[49m\u001b[38;5;28;43misinstance\u001b[39;49m\u001b[43m(\u001b[49m\u001b[43mcatch\u001b[49m\u001b[43m,\u001b[49m\u001b[43m \u001b[49m\u001b[43mIterable\u001b[49m\u001b[43m)\u001b[49m\u001b[43m \u001b[49m\u001b[38;5;28;43;01melse\u001b[39;49;00m\u001b[43m \u001b[49m\u001b[43m(\u001b[49m\u001b[43mcatch\u001b[49m\u001b[43m,\u001b[49m\u001b[43m)\u001b[49m\u001b[43m,\u001b[49m\n\u001b[0;32m    458\u001b[0m \u001b[43m        \u001b[49m\u001b[43mcallbacks\u001b[49m\u001b[38;5;241;43m=\u001b[39;49m\u001b[43mcallbacks\u001b[49m\u001b[43m,\u001b[49m\n\u001b[0;32m    459\u001b[0m \u001b[43m        \u001b[49m\u001b[43mgc_after_trial\u001b[49m\u001b[38;5;241;43m=\u001b[39;49m\u001b[43mgc_after_trial\u001b[49m\u001b[43m,\u001b[49m\n\u001b[0;32m    460\u001b[0m \u001b[43m        \u001b[49m\u001b[43mshow_progress_bar\u001b[49m\u001b[38;5;241;43m=\u001b[39;49m\u001b[43mshow_progress_bar\u001b[49m\u001b[43m,\u001b[49m\n\u001b[0;32m    461\u001b[0m \u001b[43m    \u001b[49m\u001b[43m)\u001b[49m\n",
      "File \u001b[1;32mc:\\Users\\HP\\anaconda3\\lib\\site-packages\\optuna\\study\\_optimize.py:66\u001b[0m, in \u001b[0;36m_optimize\u001b[1;34m(study, func, n_trials, timeout, n_jobs, catch, callbacks, gc_after_trial, show_progress_bar)\u001b[0m\n\u001b[0;32m     64\u001b[0m \u001b[38;5;28;01mtry\u001b[39;00m:\n\u001b[0;32m     65\u001b[0m     \u001b[38;5;28;01mif\u001b[39;00m n_jobs \u001b[38;5;241m==\u001b[39m \u001b[38;5;241m1\u001b[39m:\n\u001b[1;32m---> 66\u001b[0m         \u001b[43m_optimize_sequential\u001b[49m\u001b[43m(\u001b[49m\n\u001b[0;32m     67\u001b[0m \u001b[43m            \u001b[49m\u001b[43mstudy\u001b[49m\u001b[43m,\u001b[49m\n\u001b[0;32m     68\u001b[0m \u001b[43m            \u001b[49m\u001b[43mfunc\u001b[49m\u001b[43m,\u001b[49m\n\u001b[0;32m     69\u001b[0m \u001b[43m            \u001b[49m\u001b[43mn_trials\u001b[49m\u001b[43m,\u001b[49m\n\u001b[0;32m     70\u001b[0m \u001b[43m            \u001b[49m\u001b[43mtimeout\u001b[49m\u001b[43m,\u001b[49m\n\u001b[0;32m     71\u001b[0m \u001b[43m            \u001b[49m\u001b[43mcatch\u001b[49m\u001b[43m,\u001b[49m\n\u001b[0;32m     72\u001b[0m \u001b[43m            \u001b[49m\u001b[43mcallbacks\u001b[49m\u001b[43m,\u001b[49m\n\u001b[0;32m     73\u001b[0m \u001b[43m            \u001b[49m\u001b[43mgc_after_trial\u001b[49m\u001b[43m,\u001b[49m\n\u001b[0;32m     74\u001b[0m \u001b[43m            \u001b[49m\u001b[43mreseed_sampler_rng\u001b[49m\u001b[38;5;241;43m=\u001b[39;49m\u001b[38;5;28;43;01mFalse\u001b[39;49;00m\u001b[43m,\u001b[49m\n\u001b[0;32m     75\u001b[0m \u001b[43m            \u001b[49m\u001b[43mtime_start\u001b[49m\u001b[38;5;241;43m=\u001b[39;49m\u001b[38;5;28;43;01mNone\u001b[39;49;00m\u001b[43m,\u001b[49m\n\u001b[0;32m     76\u001b[0m \u001b[43m            \u001b[49m\u001b[43mprogress_bar\u001b[49m\u001b[38;5;241;43m=\u001b[39;49m\u001b[43mprogress_bar\u001b[49m\u001b[43m,\u001b[49m\n\u001b[0;32m     77\u001b[0m \u001b[43m        \u001b[49m\u001b[43m)\u001b[49m\n\u001b[0;32m     78\u001b[0m     \u001b[38;5;28;01melse\u001b[39;00m:\n\u001b[0;32m     79\u001b[0m         \u001b[38;5;28;01mif\u001b[39;00m n_jobs \u001b[38;5;241m==\u001b[39m \u001b[38;5;241m-\u001b[39m\u001b[38;5;241m1\u001b[39m:\n",
      "File \u001b[1;32mc:\\Users\\HP\\anaconda3\\lib\\site-packages\\optuna\\study\\_optimize.py:163\u001b[0m, in \u001b[0;36m_optimize_sequential\u001b[1;34m(study, func, n_trials, timeout, catch, callbacks, gc_after_trial, reseed_sampler_rng, time_start, progress_bar)\u001b[0m\n\u001b[0;32m    160\u001b[0m         \u001b[38;5;28;01mbreak\u001b[39;00m\n\u001b[0;32m    162\u001b[0m \u001b[38;5;28;01mtry\u001b[39;00m:\n\u001b[1;32m--> 163\u001b[0m     frozen_trial \u001b[38;5;241m=\u001b[39m \u001b[43m_run_trial\u001b[49m\u001b[43m(\u001b[49m\u001b[43mstudy\u001b[49m\u001b[43m,\u001b[49m\u001b[43m \u001b[49m\u001b[43mfunc\u001b[49m\u001b[43m,\u001b[49m\u001b[43m \u001b[49m\u001b[43mcatch\u001b[49m\u001b[43m)\u001b[49m\n\u001b[0;32m    164\u001b[0m \u001b[38;5;28;01mfinally\u001b[39;00m:\n\u001b[0;32m    165\u001b[0m     \u001b[38;5;66;03m# The following line mitigates memory problems that can be occurred in some\u001b[39;00m\n\u001b[0;32m    166\u001b[0m     \u001b[38;5;66;03m# environments (e.g., services that use computing containers such as GitHub Actions).\u001b[39;00m\n\u001b[0;32m    167\u001b[0m     \u001b[38;5;66;03m# Please refer to the following PR for further details:\u001b[39;00m\n\u001b[0;32m    168\u001b[0m     \u001b[38;5;66;03m# https://github.com/optuna/optuna/pull/325.\u001b[39;00m\n\u001b[0;32m    169\u001b[0m     \u001b[38;5;28;01mif\u001b[39;00m gc_after_trial:\n",
      "File \u001b[1;32mc:\\Users\\HP\\anaconda3\\lib\\site-packages\\optuna\\study\\_optimize.py:251\u001b[0m, in \u001b[0;36m_run_trial\u001b[1;34m(study, func, catch)\u001b[0m\n\u001b[0;32m    244\u001b[0m         \u001b[38;5;28;01massert\u001b[39;00m \u001b[38;5;28;01mFalse\u001b[39;00m, \u001b[38;5;124m\"\u001b[39m\u001b[38;5;124mShould not reach.\u001b[39m\u001b[38;5;124m\"\u001b[39m\n\u001b[0;32m    246\u001b[0m \u001b[38;5;28;01mif\u001b[39;00m (\n\u001b[0;32m    247\u001b[0m     frozen_trial\u001b[38;5;241m.\u001b[39mstate \u001b[38;5;241m==\u001b[39m TrialState\u001b[38;5;241m.\u001b[39mFAIL\n\u001b[0;32m    248\u001b[0m     \u001b[38;5;129;01mand\u001b[39;00m func_err \u001b[38;5;129;01mis\u001b[39;00m \u001b[38;5;129;01mnot\u001b[39;00m \u001b[38;5;28;01mNone\u001b[39;00m\n\u001b[0;32m    249\u001b[0m     \u001b[38;5;129;01mand\u001b[39;00m \u001b[38;5;129;01mnot\u001b[39;00m \u001b[38;5;28misinstance\u001b[39m(func_err, catch)\n\u001b[0;32m    250\u001b[0m ):\n\u001b[1;32m--> 251\u001b[0m     \u001b[38;5;28;01mraise\u001b[39;00m func_err\n\u001b[0;32m    252\u001b[0m \u001b[38;5;28;01mreturn\u001b[39;00m frozen_trial\n",
      "File \u001b[1;32mc:\\Users\\HP\\anaconda3\\lib\\site-packages\\optuna\\study\\_optimize.py:200\u001b[0m, in \u001b[0;36m_run_trial\u001b[1;34m(study, func, catch)\u001b[0m\n\u001b[0;32m    198\u001b[0m \u001b[38;5;28;01mwith\u001b[39;00m get_heartbeat_thread(trial\u001b[38;5;241m.\u001b[39m_trial_id, study\u001b[38;5;241m.\u001b[39m_storage):\n\u001b[0;32m    199\u001b[0m     \u001b[38;5;28;01mtry\u001b[39;00m:\n\u001b[1;32m--> 200\u001b[0m         value_or_values \u001b[38;5;241m=\u001b[39m \u001b[43mfunc\u001b[49m\u001b[43m(\u001b[49m\u001b[43mtrial\u001b[49m\u001b[43m)\u001b[49m\n\u001b[0;32m    201\u001b[0m     \u001b[38;5;28;01mexcept\u001b[39;00m exceptions\u001b[38;5;241m.\u001b[39mTrialPruned \u001b[38;5;28;01mas\u001b[39;00m e:\n\u001b[0;32m    202\u001b[0m         \u001b[38;5;66;03m# TODO(mamu): Handle multi-objective cases.\u001b[39;00m\n\u001b[0;32m    203\u001b[0m         state \u001b[38;5;241m=\u001b[39m TrialState\u001b[38;5;241m.\u001b[39mPRUNED\n",
      "Input \u001b[1;32mIn [121]\u001b[0m, in \u001b[0;36mrf_model.<locals>.<lambda>\u001b[1;34m(trial)\u001b[0m\n\u001b[0;32m      2\u001b[0m \u001b[38;5;28;01mdef\u001b[39;00m \u001b[38;5;21mrf_model\u001b[39m(X,y,X_test,y_test):\n\u001b[1;32m----> 3\u001b[0m     func \u001b[38;5;241m=\u001b[39m \u001b[38;5;28;01mlambda\u001b[39;00m trial: \u001b[43mrf_objective\u001b[49m\u001b[43m(\u001b[49m\u001b[43mtrial\u001b[49m\u001b[43m,\u001b[49m\u001b[43m \u001b[49m\u001b[43mX\u001b[49m\u001b[43m,\u001b[49m\u001b[43my\u001b[49m\u001b[43m,\u001b[49m\u001b[43mX_test\u001b[49m\u001b[43m,\u001b[49m\u001b[43my_test\u001b[49m\u001b[43m)\u001b[49m\n\u001b[0;32m      4\u001b[0m     optuna\u001b[38;5;241m.\u001b[39mlogging\u001b[38;5;241m.\u001b[39mset_verbosity(optuna\u001b[38;5;241m.\u001b[39mlogging\u001b[38;5;241m.\u001b[39mWARNING)\n\u001b[0;32m      5\u001b[0m     study \u001b[38;5;241m=\u001b[39m optuna\u001b[38;5;241m.\u001b[39mcreate_study(direction \u001b[38;5;241m=\u001b[39m \u001b[38;5;124m'\u001b[39m\u001b[38;5;124mmaximize\u001b[39m\u001b[38;5;124m'\u001b[39m)\n",
      "Input \u001b[1;32mIn [118]\u001b[0m, in \u001b[0;36mrf_objective\u001b[1;34m(trial, X, y, X_test, y_test)\u001b[0m\n\u001b[0;32m      6\u001b[0m max_features_rf \u001b[38;5;241m=\u001b[39m trial\u001b[38;5;241m.\u001b[39msuggest_categorical(\u001b[38;5;124m\"\u001b[39m\u001b[38;5;124mmax_features\u001b[39m\u001b[38;5;124m\"\u001b[39m,[\u001b[38;5;124m\"\u001b[39m\u001b[38;5;124msqrt\u001b[39m\u001b[38;5;124m\"\u001b[39m,\u001b[38;5;124m\"\u001b[39m\u001b[38;5;124mlog2\u001b[39m\u001b[38;5;124m\"\u001b[39m,\u001b[38;5;28;01mNone\u001b[39;00m])\n\u001b[0;32m      7\u001b[0m rf \u001b[38;5;241m=\u001b[39m RandomForestClassifier(n_estimators\u001b[38;5;241m=\u001b[39mn_estimators_rf,criterion\u001b[38;5;241m=\u001b[39mcriterion_rf, max_features \u001b[38;5;241m=\u001b[39m max_features_rf )\n\u001b[1;32m----> 8\u001b[0m \u001b[43mrf\u001b[49m\u001b[38;5;241;43m.\u001b[39;49m\u001b[43mfit\u001b[49m\u001b[43m(\u001b[49m\u001b[43mX\u001b[49m\u001b[43m,\u001b[49m\u001b[43my\u001b[49m\u001b[43m)\u001b[49m\n\u001b[0;32m      9\u001b[0m \u001b[38;5;28;01mreturn\u001b[39;00m rf\u001b[38;5;241m.\u001b[39mscore(X_test,y_test)\n",
      "File \u001b[1;32mc:\\Users\\HP\\anaconda3\\lib\\site-packages\\sklearn\\ensemble\\_forest.py:450\u001b[0m, in \u001b[0;36mBaseForest.fit\u001b[1;34m(self, X, y, sample_weight)\u001b[0m\n\u001b[0;32m    439\u001b[0m trees \u001b[38;5;241m=\u001b[39m [\n\u001b[0;32m    440\u001b[0m     \u001b[38;5;28mself\u001b[39m\u001b[38;5;241m.\u001b[39m_make_estimator(append\u001b[38;5;241m=\u001b[39m\u001b[38;5;28;01mFalse\u001b[39;00m, random_state\u001b[38;5;241m=\u001b[39mrandom_state)\n\u001b[0;32m    441\u001b[0m     \u001b[38;5;28;01mfor\u001b[39;00m i \u001b[38;5;129;01min\u001b[39;00m \u001b[38;5;28mrange\u001b[39m(n_more_estimators)\n\u001b[0;32m    442\u001b[0m ]\n\u001b[0;32m    444\u001b[0m \u001b[38;5;66;03m# Parallel loop: we prefer the threading backend as the Cython code\u001b[39;00m\n\u001b[0;32m    445\u001b[0m \u001b[38;5;66;03m# for fitting the trees is internally releasing the Python GIL\u001b[39;00m\n\u001b[0;32m    446\u001b[0m \u001b[38;5;66;03m# making threading more efficient than multiprocessing in\u001b[39;00m\n\u001b[0;32m    447\u001b[0m \u001b[38;5;66;03m# that case. However, for joblib 0.12+ we respect any\u001b[39;00m\n\u001b[0;32m    448\u001b[0m \u001b[38;5;66;03m# parallel_backend contexts set at a higher level,\u001b[39;00m\n\u001b[0;32m    449\u001b[0m \u001b[38;5;66;03m# since correctness does not rely on using threads.\u001b[39;00m\n\u001b[1;32m--> 450\u001b[0m trees \u001b[38;5;241m=\u001b[39m \u001b[43mParallel\u001b[49m\u001b[43m(\u001b[49m\n\u001b[0;32m    451\u001b[0m \u001b[43m    \u001b[49m\u001b[43mn_jobs\u001b[49m\u001b[38;5;241;43m=\u001b[39;49m\u001b[38;5;28;43mself\u001b[39;49m\u001b[38;5;241;43m.\u001b[39;49m\u001b[43mn_jobs\u001b[49m\u001b[43m,\u001b[49m\n\u001b[0;32m    452\u001b[0m \u001b[43m    \u001b[49m\u001b[43mverbose\u001b[49m\u001b[38;5;241;43m=\u001b[39;49m\u001b[38;5;28;43mself\u001b[39;49m\u001b[38;5;241;43m.\u001b[39;49m\u001b[43mverbose\u001b[49m\u001b[43m,\u001b[49m\n\u001b[0;32m    453\u001b[0m \u001b[43m    \u001b[49m\u001b[38;5;241;43m*\u001b[39;49m\u001b[38;5;241;43m*\u001b[39;49m\u001b[43m_joblib_parallel_args\u001b[49m\u001b[43m(\u001b[49m\u001b[43mprefer\u001b[49m\u001b[38;5;241;43m=\u001b[39;49m\u001b[38;5;124;43m\"\u001b[39;49m\u001b[38;5;124;43mthreads\u001b[39;49m\u001b[38;5;124;43m\"\u001b[39;49m\u001b[43m)\u001b[49m\u001b[43m,\u001b[49m\n\u001b[0;32m    454\u001b[0m \u001b[43m\u001b[49m\u001b[43m)\u001b[49m\u001b[43m(\u001b[49m\n\u001b[0;32m    455\u001b[0m \u001b[43m    \u001b[49m\u001b[43mdelayed\u001b[49m\u001b[43m(\u001b[49m\u001b[43m_parallel_build_trees\u001b[49m\u001b[43m)\u001b[49m\u001b[43m(\u001b[49m\n\u001b[0;32m    456\u001b[0m \u001b[43m        \u001b[49m\u001b[43mt\u001b[49m\u001b[43m,\u001b[49m\n\u001b[0;32m    457\u001b[0m \u001b[43m        \u001b[49m\u001b[38;5;28;43mself\u001b[39;49m\u001b[43m,\u001b[49m\n\u001b[0;32m    458\u001b[0m \u001b[43m        \u001b[49m\u001b[43mX\u001b[49m\u001b[43m,\u001b[49m\n\u001b[0;32m    459\u001b[0m \u001b[43m        \u001b[49m\u001b[43my\u001b[49m\u001b[43m,\u001b[49m\n\u001b[0;32m    460\u001b[0m \u001b[43m        \u001b[49m\u001b[43msample_weight\u001b[49m\u001b[43m,\u001b[49m\n\u001b[0;32m    461\u001b[0m \u001b[43m        \u001b[49m\u001b[43mi\u001b[49m\u001b[43m,\u001b[49m\n\u001b[0;32m    462\u001b[0m \u001b[43m        \u001b[49m\u001b[38;5;28;43mlen\u001b[39;49m\u001b[43m(\u001b[49m\u001b[43mtrees\u001b[49m\u001b[43m)\u001b[49m\u001b[43m,\u001b[49m\n\u001b[0;32m    463\u001b[0m \u001b[43m        \u001b[49m\u001b[43mverbose\u001b[49m\u001b[38;5;241;43m=\u001b[39;49m\u001b[38;5;28;43mself\u001b[39;49m\u001b[38;5;241;43m.\u001b[39;49m\u001b[43mverbose\u001b[49m\u001b[43m,\u001b[49m\n\u001b[0;32m    464\u001b[0m \u001b[43m        \u001b[49m\u001b[43mclass_weight\u001b[49m\u001b[38;5;241;43m=\u001b[39;49m\u001b[38;5;28;43mself\u001b[39;49m\u001b[38;5;241;43m.\u001b[39;49m\u001b[43mclass_weight\u001b[49m\u001b[43m,\u001b[49m\n\u001b[0;32m    465\u001b[0m \u001b[43m        \u001b[49m\u001b[43mn_samples_bootstrap\u001b[49m\u001b[38;5;241;43m=\u001b[39;49m\u001b[43mn_samples_bootstrap\u001b[49m\u001b[43m,\u001b[49m\n\u001b[0;32m    466\u001b[0m \u001b[43m    \u001b[49m\u001b[43m)\u001b[49m\n\u001b[0;32m    467\u001b[0m \u001b[43m    \u001b[49m\u001b[38;5;28;43;01mfor\u001b[39;49;00m\u001b[43m \u001b[49m\u001b[43mi\u001b[49m\u001b[43m,\u001b[49m\u001b[43m \u001b[49m\u001b[43mt\u001b[49m\u001b[43m \u001b[49m\u001b[38;5;129;43;01min\u001b[39;49;00m\u001b[43m \u001b[49m\u001b[38;5;28;43menumerate\u001b[39;49m\u001b[43m(\u001b[49m\u001b[43mtrees\u001b[49m\u001b[43m)\u001b[49m\n\u001b[0;32m    468\u001b[0m \u001b[43m\u001b[49m\u001b[43m)\u001b[49m\n\u001b[0;32m    470\u001b[0m \u001b[38;5;66;03m# Collect newly grown trees\u001b[39;00m\n\u001b[0;32m    471\u001b[0m \u001b[38;5;28mself\u001b[39m\u001b[38;5;241m.\u001b[39mestimators_\u001b[38;5;241m.\u001b[39mextend(trees)\n",
      "File \u001b[1;32mc:\\Users\\HP\\anaconda3\\lib\\site-packages\\joblib\\parallel.py:1863\u001b[0m, in \u001b[0;36mParallel.__call__\u001b[1;34m(self, iterable)\u001b[0m\n\u001b[0;32m   1861\u001b[0m     output \u001b[38;5;241m=\u001b[39m \u001b[38;5;28mself\u001b[39m\u001b[38;5;241m.\u001b[39m_get_sequential_output(iterable)\n\u001b[0;32m   1862\u001b[0m     \u001b[38;5;28mnext\u001b[39m(output)\n\u001b[1;32m-> 1863\u001b[0m     \u001b[38;5;28;01mreturn\u001b[39;00m output \u001b[38;5;28;01mif\u001b[39;00m \u001b[38;5;28mself\u001b[39m\u001b[38;5;241m.\u001b[39mreturn_generator \u001b[38;5;28;01melse\u001b[39;00m \u001b[38;5;28;43mlist\u001b[39;49m\u001b[43m(\u001b[49m\u001b[43moutput\u001b[49m\u001b[43m)\u001b[49m\n\u001b[0;32m   1865\u001b[0m \u001b[38;5;66;03m# Let's create an ID that uniquely identifies the current call. If the\u001b[39;00m\n\u001b[0;32m   1866\u001b[0m \u001b[38;5;66;03m# call is interrupted early and that the same instance is immediately\u001b[39;00m\n\u001b[0;32m   1867\u001b[0m \u001b[38;5;66;03m# re-used, this id will be used to prevent workers that were\u001b[39;00m\n\u001b[0;32m   1868\u001b[0m \u001b[38;5;66;03m# concurrently finalizing a task from the previous call to run the\u001b[39;00m\n\u001b[0;32m   1869\u001b[0m \u001b[38;5;66;03m# callback.\u001b[39;00m\n\u001b[0;32m   1870\u001b[0m \u001b[38;5;28;01mwith\u001b[39;00m \u001b[38;5;28mself\u001b[39m\u001b[38;5;241m.\u001b[39m_lock:\n",
      "File \u001b[1;32mc:\\Users\\HP\\anaconda3\\lib\\site-packages\\joblib\\parallel.py:1792\u001b[0m, in \u001b[0;36mParallel._get_sequential_output\u001b[1;34m(self, iterable)\u001b[0m\n\u001b[0;32m   1790\u001b[0m \u001b[38;5;28mself\u001b[39m\u001b[38;5;241m.\u001b[39mn_dispatched_batches \u001b[38;5;241m+\u001b[39m\u001b[38;5;241m=\u001b[39m \u001b[38;5;241m1\u001b[39m\n\u001b[0;32m   1791\u001b[0m \u001b[38;5;28mself\u001b[39m\u001b[38;5;241m.\u001b[39mn_dispatched_tasks \u001b[38;5;241m+\u001b[39m\u001b[38;5;241m=\u001b[39m \u001b[38;5;241m1\u001b[39m\n\u001b[1;32m-> 1792\u001b[0m res \u001b[38;5;241m=\u001b[39m func(\u001b[38;5;241m*\u001b[39margs, \u001b[38;5;241m*\u001b[39m\u001b[38;5;241m*\u001b[39mkwargs)\n\u001b[0;32m   1793\u001b[0m \u001b[38;5;28mself\u001b[39m\u001b[38;5;241m.\u001b[39mn_completed_tasks \u001b[38;5;241m+\u001b[39m\u001b[38;5;241m=\u001b[39m \u001b[38;5;241m1\u001b[39m\n\u001b[0;32m   1794\u001b[0m \u001b[38;5;28mself\u001b[39m\u001b[38;5;241m.\u001b[39mprint_progress()\n",
      "File \u001b[1;32mc:\\Users\\HP\\anaconda3\\lib\\site-packages\\sklearn\\utils\\fixes.py:216\u001b[0m, in \u001b[0;36m_FuncWrapper.__call__\u001b[1;34m(self, *args, **kwargs)\u001b[0m\n\u001b[0;32m    214\u001b[0m \u001b[38;5;28;01mdef\u001b[39;00m \u001b[38;5;21m__call__\u001b[39m(\u001b[38;5;28mself\u001b[39m, \u001b[38;5;241m*\u001b[39margs, \u001b[38;5;241m*\u001b[39m\u001b[38;5;241m*\u001b[39mkwargs):\n\u001b[0;32m    215\u001b[0m     \u001b[38;5;28;01mwith\u001b[39;00m config_context(\u001b[38;5;241m*\u001b[39m\u001b[38;5;241m*\u001b[39m\u001b[38;5;28mself\u001b[39m\u001b[38;5;241m.\u001b[39mconfig):\n\u001b[1;32m--> 216\u001b[0m         \u001b[38;5;28;01mreturn\u001b[39;00m \u001b[38;5;28mself\u001b[39m\u001b[38;5;241m.\u001b[39mfunction(\u001b[38;5;241m*\u001b[39margs, \u001b[38;5;241m*\u001b[39m\u001b[38;5;241m*\u001b[39mkwargs)\n",
      "File \u001b[1;32mc:\\Users\\HP\\anaconda3\\lib\\site-packages\\sklearn\\ensemble\\_forest.py:185\u001b[0m, in \u001b[0;36m_parallel_build_trees\u001b[1;34m(tree, forest, X, y, sample_weight, tree_idx, n_trees, verbose, class_weight, n_samples_bootstrap)\u001b[0m\n\u001b[0;32m    182\u001b[0m     \u001b[38;5;28;01melif\u001b[39;00m class_weight \u001b[38;5;241m==\u001b[39m \u001b[38;5;124m\"\u001b[39m\u001b[38;5;124mbalanced_subsample\u001b[39m\u001b[38;5;124m\"\u001b[39m:\n\u001b[0;32m    183\u001b[0m         curr_sample_weight \u001b[38;5;241m*\u001b[39m\u001b[38;5;241m=\u001b[39m compute_sample_weight(\u001b[38;5;124m\"\u001b[39m\u001b[38;5;124mbalanced\u001b[39m\u001b[38;5;124m\"\u001b[39m, y, indices\u001b[38;5;241m=\u001b[39mindices)\n\u001b[1;32m--> 185\u001b[0m     \u001b[43mtree\u001b[49m\u001b[38;5;241;43m.\u001b[39;49m\u001b[43mfit\u001b[49m\u001b[43m(\u001b[49m\u001b[43mX\u001b[49m\u001b[43m,\u001b[49m\u001b[43m \u001b[49m\u001b[43my\u001b[49m\u001b[43m,\u001b[49m\u001b[43m \u001b[49m\u001b[43msample_weight\u001b[49m\u001b[38;5;241;43m=\u001b[39;49m\u001b[43mcurr_sample_weight\u001b[49m\u001b[43m,\u001b[49m\u001b[43m \u001b[49m\u001b[43mcheck_input\u001b[49m\u001b[38;5;241;43m=\u001b[39;49m\u001b[38;5;28;43;01mFalse\u001b[39;49;00m\u001b[43m)\u001b[49m\n\u001b[0;32m    186\u001b[0m \u001b[38;5;28;01melse\u001b[39;00m:\n\u001b[0;32m    187\u001b[0m     tree\u001b[38;5;241m.\u001b[39mfit(X, y, sample_weight\u001b[38;5;241m=\u001b[39msample_weight, check_input\u001b[38;5;241m=\u001b[39m\u001b[38;5;28;01mFalse\u001b[39;00m)\n",
      "File \u001b[1;32mc:\\Users\\HP\\anaconda3\\lib\\site-packages\\sklearn\\tree\\_classes.py:937\u001b[0m, in \u001b[0;36mDecisionTreeClassifier.fit\u001b[1;34m(self, X, y, sample_weight, check_input, X_idx_sorted)\u001b[0m\n\u001b[0;32m    899\u001b[0m \u001b[38;5;28;01mdef\u001b[39;00m \u001b[38;5;21mfit\u001b[39m(\n\u001b[0;32m    900\u001b[0m     \u001b[38;5;28mself\u001b[39m, X, y, sample_weight\u001b[38;5;241m=\u001b[39m\u001b[38;5;28;01mNone\u001b[39;00m, check_input\u001b[38;5;241m=\u001b[39m\u001b[38;5;28;01mTrue\u001b[39;00m, X_idx_sorted\u001b[38;5;241m=\u001b[39m\u001b[38;5;124m\"\u001b[39m\u001b[38;5;124mdeprecated\u001b[39m\u001b[38;5;124m\"\u001b[39m\n\u001b[0;32m    901\u001b[0m ):\n\u001b[0;32m    902\u001b[0m     \u001b[38;5;124;03m\"\"\"Build a decision tree classifier from the training set (X, y).\u001b[39;00m\n\u001b[0;32m    903\u001b[0m \n\u001b[0;32m    904\u001b[0m \u001b[38;5;124;03m    Parameters\u001b[39;00m\n\u001b[1;32m   (...)\u001b[0m\n\u001b[0;32m    934\u001b[0m \u001b[38;5;124;03m        Fitted estimator.\u001b[39;00m\n\u001b[0;32m    935\u001b[0m \u001b[38;5;124;03m    \"\"\"\u001b[39;00m\n\u001b[1;32m--> 937\u001b[0m     \u001b[38;5;28;43msuper\u001b[39;49m\u001b[43m(\u001b[49m\u001b[43m)\u001b[49m\u001b[38;5;241;43m.\u001b[39;49m\u001b[43mfit\u001b[49m\u001b[43m(\u001b[49m\n\u001b[0;32m    938\u001b[0m \u001b[43m        \u001b[49m\u001b[43mX\u001b[49m\u001b[43m,\u001b[49m\n\u001b[0;32m    939\u001b[0m \u001b[43m        \u001b[49m\u001b[43my\u001b[49m\u001b[43m,\u001b[49m\n\u001b[0;32m    940\u001b[0m \u001b[43m        \u001b[49m\u001b[43msample_weight\u001b[49m\u001b[38;5;241;43m=\u001b[39;49m\u001b[43msample_weight\u001b[49m\u001b[43m,\u001b[49m\n\u001b[0;32m    941\u001b[0m \u001b[43m        \u001b[49m\u001b[43mcheck_input\u001b[49m\u001b[38;5;241;43m=\u001b[39;49m\u001b[43mcheck_input\u001b[49m\u001b[43m,\u001b[49m\n\u001b[0;32m    942\u001b[0m \u001b[43m        \u001b[49m\u001b[43mX_idx_sorted\u001b[49m\u001b[38;5;241;43m=\u001b[39;49m\u001b[43mX_idx_sorted\u001b[49m\u001b[43m,\u001b[49m\n\u001b[0;32m    943\u001b[0m \u001b[43m    \u001b[49m\u001b[43m)\u001b[49m\n\u001b[0;32m    944\u001b[0m     \u001b[38;5;28;01mreturn\u001b[39;00m \u001b[38;5;28mself\u001b[39m\n",
      "File \u001b[1;32mc:\\Users\\HP\\anaconda3\\lib\\site-packages\\sklearn\\tree\\_classes.py:352\u001b[0m, in \u001b[0;36mBaseDecisionTree.fit\u001b[1;34m(self, X, y, sample_weight, check_input, X_idx_sorted)\u001b[0m\n\u001b[0;32m    350\u001b[0m \u001b[38;5;28;01mif\u001b[39;00m \u001b[38;5;129;01mnot\u001b[39;00m \u001b[38;5;28misinstance\u001b[39m(criterion, Criterion):\n\u001b[0;32m    351\u001b[0m     \u001b[38;5;28;01mif\u001b[39;00m is_classification:\n\u001b[1;32m--> 352\u001b[0m         criterion \u001b[38;5;241m=\u001b[39m \u001b[43mCRITERIA_CLF\u001b[49m\u001b[43m[\u001b[49m\u001b[38;5;28;43mself\u001b[39;49m\u001b[38;5;241;43m.\u001b[39;49m\u001b[43mcriterion\u001b[49m\u001b[43m]\u001b[49m(\n\u001b[0;32m    353\u001b[0m             \u001b[38;5;28mself\u001b[39m\u001b[38;5;241m.\u001b[39mn_outputs_, \u001b[38;5;28mself\u001b[39m\u001b[38;5;241m.\u001b[39mn_classes_\n\u001b[0;32m    354\u001b[0m         )\n\u001b[0;32m    355\u001b[0m     \u001b[38;5;28;01melse\u001b[39;00m:\n\u001b[0;32m    356\u001b[0m         criterion \u001b[38;5;241m=\u001b[39m CRITERIA_REG[\u001b[38;5;28mself\u001b[39m\u001b[38;5;241m.\u001b[39mcriterion](\u001b[38;5;28mself\u001b[39m\u001b[38;5;241m.\u001b[39mn_outputs_, n_samples)\n",
      "\u001b[1;31mKeyError\u001b[0m: 'log_loss'"
     ]
    }
   ],
   "source": [
    "\n",
    "\n",
    "# On recupere les metriques pour dataset desequilibre standarise\n",
    "acc_rf_std,f1_rf_std,recall_rf_std,precision_rf_std = rf_model(X_std,y_std,X_test_std,y_test_std)\n",
    "\n",
    "\n",
    "# On recupere les metriques pour dataset equilibre avec smote\n",
    "acc_rf_smote,f1_rf_smote,recall_rf_smote,precision_rf_smote = rf_model(X_smote,y_smote,X_test,y_test)\n",
    "\n",
    "\n",
    "\n",
    "# On recupere les metriques pour dataset equilibre avec smote standarise\n",
    "acc_rf_smote_std,f1_rf_smote_std,recall_rf_smote_std,precision_rf_smote_std = rf_model(X_smote_std,y_smote,X_test_std,y_test_std)\n",
    "\n",
    "\n",
    "# On recupere les metriques pour dataset equilibre avec echantillonge vae\n",
    "acc_rf_vae,f1_rf_vae,recall_rf_vae,precision_rf_vae = rf_model(X_vae,y_vae,X_test_std,y_test_std)\n",
    "\n",
    "\n",
    "\n",
    "# On recupere les metriques pour dataset equilibre avec interpolation vae\n",
    "acc_rf_vae_interpolate,f1_rf_vae_interpolate,recall_rf_vae_interpolate,precision_rf_vae_interpolate = rf_model(X_vae_interpolate,y_vae_interpolate,X_test_std,y_test_std)\n"
   ]
  },
  {
   "cell_type": "code",
   "execution_count": null,
   "id": "50a08609",
   "metadata": {},
   "outputs": [],
   "source": [
    "results['accuracy'].loc['Random Forest'] = [acc_rf,acc_rf_std,acc_rf_smote,acc_rf_smote_std,acc_rf_vae,acc_rf_vae_interpolate]\n",
    "results['f1_score'].loc['Random Forest'] = [f1_rf,f1_rf_std,f1_rf_smote,f1_rf_smote_std,f1_rf_vae,f1_rf_vae_interpolate]\n",
    "results['recall'].loc['Random Forest'] = [recall_rf,recall_rf_std,recall_rf_smote,recall_rf_smote_std,recall_rf_vae,recall_rf_vae_interpolate]\n",
    "results['precision'].loc['Random Forest'] = [precision_rf,precision_rf_std,precision_rf_smote,precision_rf_smote_std,precision_rf_vae,precision_rf_vae_interpolate]\n"
   ]
  },
  {
   "cell_type": "markdown",
   "id": "28015325",
   "metadata": {},
   "source": [
    "### XGBoost"
   ]
  },
  {
   "cell_type": "code",
   "execution_count": 125,
   "id": "5998510e",
   "metadata": {},
   "outputs": [],
   "source": [
    "# cette fonction permet de definir la fonction objective à optimiser par le framework optuna\n",
    "# Elle contient les paramètres à optimiser et le modèle de XGboost\n",
    "def xgboost_objective(trial,X,y,X_test,y_test):\n",
    "    param = {\n",
    "        'max_depth': trial.suggest_int('max_depth', 2, 15),\n",
    "        'subsample': trial.suggest_discrete_uniform('subsample', 0.6, 1.0, 0.05),\n",
    "        'n_estimators': trial.suggest_int('n_estimators', 1000, 10000, 100),\n",
    "        'eta': trial.suggest_discrete_uniform('eta', 0.01, 0.1, 0.01),\n",
    "        'reg_alpha': trial.suggest_int('reg_alpha', 1, 50),\n",
    "        'reg_lambda': trial.suggest_int('reg_lambda', 5, 100),\n",
    "        'min_child_weight': trial.suggest_int('min_child_weight', 2, 20),\n",
    "        \"colsample_bytree\": trial.suggest_float(\"colsample_bytree\", 0.1, 1.0),\n",
    "    }\n",
    "   \n",
    "    model = xgb.XGBClassifier(tree_method='auto',  \n",
    "                             predictor=\"auto\"\n",
    "                             ,**param ) \n",
    "    model.fit(X,y)\n",
    "    pred = model.predict(X_test)\n",
    "    \n",
    "    return accuracy_score(pred, y_test)\n",
    "\n"
   ]
  },
  {
   "cell_type": "code",
   "execution_count": 126,
   "id": "e4d590f9",
   "metadata": {},
   "outputs": [],
   "source": [
    "# Cette fonction permet de définir la fonction objective après de l'avoir optimisé pour nous permettre de calculer les différents métriques après optimisation\n",
    "def post_xgboost_objective(trial,X,y,X_test,y_test):\n",
    "    param = {\n",
    "        'max_depth': trial.suggest_int('max_depth', 2, 15),\n",
    "        'subsample': trial.suggest_discrete_uniform('subsample', 0.6, 1.0, 0.05),\n",
    "        'n_estimators': trial.suggest_int('n_estimators', 1000, 10000, 100),\n",
    "        'eta': trial.suggest_discrete_uniform('eta', 0.01, 0.1, 0.01),\n",
    "        'reg_alpha': trial.suggest_int('reg_alpha', 1, 50),\n",
    "        'reg_lambda': trial.suggest_int('reg_lambda', 5, 100),\n",
    "        'min_child_weight': trial.suggest_int('min_child_weight', 2, 20),\n",
    "        \"colsample_bytree\": trial.suggest_float(\"colsample_bytree\", 0.1, 1.0),\n",
    "    }\n",
    "   \n",
    "    model = xgb.XGBClassifier(tree_method='auto',  \n",
    "                             predictor=\"auto\"\n",
    "                             ,**param ) \n",
    "    model.fit(X,y)\n",
    "    pred = model.predict(X_test)\n",
    "    acc = accuracy_score(pred, y_test)\n",
    "    recall = recall_score(pred, y_test)\n",
    "    precision = precision_score(pred, y_test)\n",
    "    f1 = f1_score(pred, y_test)\n",
    "    \n",
    "    \n",
    "    return acc,f1, recall ,precision\n",
    "\n"
   ]
  },
  {
   "cell_type": "code",
   "execution_count": 127,
   "id": "3e4e48c7",
   "metadata": {},
   "outputs": [],
   "source": [
    "# Cette fonction nous permets d'entrainer le modèle pour des différents inputs\n",
    "def xgboost_model(X,y,X_test,y_test):\n",
    "    func = lambda trial: xgboost_objective(trial, X,y,X_test,y_test)\n",
    "    optuna.logging.set_verbosity(optuna.logging.WARNING)\n",
    "    study = optuna.create_study(direction = 'maximize')\n",
    "    study.optimize(func,n_trials=100,show_progress_bar=True)\n",
    "    func_post = lambda trial: post_xgboost_objective(trial, X,y,X_test,y_test)\n",
    "    acc, f1,recall, precision = func_post(study.best_trial)\n",
    "    return acc,f1,recall,precision\n",
    "    "
   ]
  },
  {
   "cell_type": "code",
   "execution_count": 128,
   "id": "3aa075c5",
   "metadata": {},
   "outputs": [
    {
     "data": {
      "application/vnd.jupyter.widget-view+json": {
       "model_id": "4f96097278934ef2af77944d8cb9f8ba",
       "version_major": 2,
       "version_minor": 0
      },
      "text/plain": [
       "  0%|          | 0/100 [00:00<?, ?it/s]"
      ]
     },
     "metadata": {},
     "output_type": "display_data"
    }
   ],
   "source": [
    "# On recupere les metriques pour dataset desequilibre\n",
    "acc_xgboost,f1_xgboost,recall_xgboost,precision_xgboost = xgboost_model(X,y,X_test,y_test)\n"
   ]
  },
  {
   "cell_type": "code",
   "execution_count": 129,
   "id": "5be6fa40",
   "metadata": {},
   "outputs": [
    {
     "data": {
      "text/plain": [
       "(0.9259259259259259, 0.0, 0.0, 0.0)"
      ]
     },
     "execution_count": 129,
     "metadata": {},
     "output_type": "execute_result"
    }
   ],
   "source": [
    "acc_xgboost,f1_xgboost,recall_xgboost,precision_xgboost"
   ]
  },
  {
   "cell_type": "code",
   "execution_count": null,
   "id": "33b1508d",
   "metadata": {},
   "outputs": [
    {
     "data": {
      "application/vnd.jupyter.widget-view+json": {
       "model_id": "2948212741fc463a9571322ce2286d58",
       "version_major": 2,
       "version_minor": 0
      },
      "text/plain": [
       "  0%|          | 0/100 [00:00<?, ?it/s]"
      ]
     },
     "metadata": {},
     "output_type": "display_data"
    },
    {
     "data": {
      "application/vnd.jupyter.widget-view+json": {
       "model_id": "12d6ebdee52742269259013d2a6b4eda",
       "version_major": 2,
       "version_minor": 0
      },
      "text/plain": [
       "  0%|          | 0/100 [00:00<?, ?it/s]"
      ]
     },
     "metadata": {},
     "output_type": "display_data"
    },
    {
     "data": {
      "application/vnd.jupyter.widget-view+json": {
       "model_id": "e3fbd596632d449caf2e34432df44f94",
       "version_major": 2,
       "version_minor": 0
      },
      "text/plain": [
       "  0%|          | 0/100 [00:00<?, ?it/s]"
      ]
     },
     "metadata": {},
     "output_type": "display_data"
    },
    {
     "data": {
      "application/vnd.jupyter.widget-view+json": {
       "model_id": "a12dfe1d7c1d4c56be4e46d92ec4a58f",
       "version_major": 2,
       "version_minor": 0
      },
      "text/plain": [
       "  0%|          | 0/100 [00:00<?, ?it/s]"
      ]
     },
     "metadata": {},
     "output_type": "display_data"
    },
    {
     "data": {
      "application/vnd.jupyter.widget-view+json": {
       "model_id": "1a61c1eea14d43a0bfb00faf0fd4cdd8",
       "version_major": 2,
       "version_minor": 0
      },
      "text/plain": [
       "  0%|          | 0/100 [00:00<?, ?it/s]"
      ]
     },
     "metadata": {},
     "output_type": "display_data"
    },
    {
     "data": {
      "application/vnd.jupyter.widget-view+json": {
       "model_id": "a77233953da04f4db84bceba51ef6143",
       "version_major": 2,
       "version_minor": 0
      },
      "text/plain": [
       "  0%|          | 0/100 [00:00<?, ?it/s]"
      ]
     },
     "metadata": {},
     "output_type": "display_data"
    }
   ],
   "source": [
    "\n",
    "\n",
    "# On recupere les metriques pour dataset desequilibre standarise\n",
    "acc_xgboost_std,f1_xgboost_std,recall_xgboost_std,precision_xgboost_std = xgboost_model(X_std,y_std,X_test_std,y_test_std)\n",
    "\n",
    "\n",
    "# On recupere les metriques pour dataset equilibre avec smote\n",
    "acc_xgboost_smote,f1_xgboost_smote,recall_xgboost_smote,precision_xgboost_smote = xgboost_model(X_smote,y_smote,X_test,y_test)\n",
    "\n",
    "\n",
    "\n",
    "# On recupere les metriques pour dataset equilibre avec smote standarise\n",
    "acc_xgboost_smote_std,f1_xgboost_smote_std,recall_xgboost_smote_std,precision_xgboost_smote_std = xgboost_model(X_smote_std,y_smote,X_test_std,y_test_std)\n",
    "\n",
    "\n",
    "# On recupere les metriques pour dataset equilibre avec echantillonge vae\n",
    "acc_xgboost_vae,f1_xgboost_vae,recall_xgboost_vae,precision_xgboost_vae = xgboost_model(X_vae,y_vae,X_test_std,y_test_std)\n",
    "\n",
    "\n",
    "\n",
    "# On recupere les metriques pour dataset equilibre avec interpolation vae\n",
    "acc_xgboost_vae_interpolate,f1_xgboost_vae_interpolate,recall_xgboost_vae_interpolate,precision_xgboost_vae_interpolate = xgboost_model(X_vae_interpolate,y_vae_interpolate,X_test_std,y_test_std)\n"
   ]
  },
  {
   "cell_type": "code",
   "execution_count": null,
   "id": "8e692fea",
   "metadata": {},
   "outputs": [],
   "source": [
    "results['accuracy'].loc['XGBoost'] = [acc_xgboost,acc_xgboost_std,acc_xgboost_smote,acc_xgboost_smote_std,acc_xgboost_vae,acc_xgboost_vae_interpolate]\n",
    "results['f1_score'].loc['XGBoost'] = [f1_xgboost,f1_xgboost_std,f1_xgboost_smote,f1_xgboost_smote_std,f1_xgboost_vae,f1_xgboost_vae_interpolate]\n",
    "results['recall'].loc['XGBoost'] = [recall_xgboost,recall_xgboost_std,recall_xgboost_smote,recall_xgboost_smote_std,recall_xgboost_vae,recall_xgboost_vae_interpolate]\n",
    "results['precision'].loc['XGBoost'] = [precision_xgboost,precision_xgboost_std,precision_xgboost_smote,precision_xgboost_smote_std,precision_xgboost_vae,precision_xgboost_vae_interpolate]\n"
   ]
  },
  {
   "cell_type": "markdown",
   "id": "aa39f62f",
   "metadata": {},
   "source": [
    "### Random Oversampler + Logistic Regression"
   ]
  },
  {
   "cell_type": "code",
   "execution_count": null,
   "id": "cdc1413d",
   "metadata": {},
   "outputs": [],
   "source": [
    "# cette fonction permet de definir la fonction objective à optimiser par le framework optuna\n",
    "# Elle contient les paramètres à optimiser et le pipeline constitué du RandomOverSampler et Logistic Regression\n",
    "def ro_lr_objective(trial,X,y,X_test,y_test):\n",
    "    penalty_lr = trial.suggest_categorical(\"penalty_lr\",[\"l2\",\"none\"])\n",
    "    C_lr = trial.suggest_float(\"C_lr\",0.1,10)\n",
    "    lr = LogisticRegression(penalty=penalty_lr,C=C_lr)\n",
    "    pp = make_pipeline(RandomOverSampler(), lr)\n",
    "    pp.fit(X,y)\n",
    "    return lr.score(X_test,y_test)\n",
    "\n"
   ]
  },
  {
   "cell_type": "code",
   "execution_count": null,
   "id": "4600f925",
   "metadata": {},
   "outputs": [],
   "source": [
    "# Cette fonction permet de définir la fonction objective après de l'avoir optimisé pour nous permettre de calculer les différents métriques après optimisation\n",
    "def post_ro_lr_objective(trial,X,y,X_test,y_test):\n",
    "    penalty_lr = trial.suggest_categorical(\"penalty_lr\",[\"l2\",\"none\"])\n",
    "    C_lr = trial.suggest_float(\"C_lr\",0.1,10)\n",
    "    lr = LogisticRegression(penalty=penalty_lr,C=C_lr)\n",
    "    pp = make_pipeline(RandomOverSampler(), lr)\n",
    "    pp.fit(X,y)\n",
    "    pred = pp.predict(X_test)\n",
    "    acc = accuracy_score(pred, y_test)\n",
    "    recall = recall_score(pred, y_test)\n",
    "    precision = precision_score(pred, y_test)\n",
    "    f1 = f1_score(pred, y_test)\n",
    "    \n",
    "    \n",
    "    return acc,f1, recall ,precision\n",
    "\n"
   ]
  },
  {
   "cell_type": "code",
   "execution_count": null,
   "id": "34ec3062",
   "metadata": {},
   "outputs": [],
   "source": [
    "# Cette fonction nous permets d'entrainer le modèle pour des différents inputs\n",
    "def ro_lr_model(X,y,X_test,y_test):\n",
    "    func = lambda trial: ro_lr_objective(trial, X,y,X_test,y_test)\n",
    "    optuna.logging.set_verbosity(optuna.logging.WARNING)\n",
    "    study = optuna.create_study(direction = 'maximize')\n",
    "    study.optimize(func,n_trials=100,show_progress_bar=True)\n",
    "    func_post = lambda trial: post_ro_lr_objective(trial, X,y,X_test,y_test)\n",
    "    acc, f1,recall, precision = func_post(study.best_trial)\n",
    "    return acc,f1,recall,precision\n",
    "    "
   ]
  },
  {
   "cell_type": "code",
   "execution_count": null,
   "id": "4dcf3383",
   "metadata": {},
   "outputs": [
    {
     "data": {
      "application/vnd.jupyter.widget-view+json": {
       "model_id": "4dc1ee61cd1c4c90b49824cd2191322d",
       "version_major": 2,
       "version_minor": 0
      },
      "text/plain": [
       "  0%|          | 0/100 [00:00<?, ?it/s]"
      ]
     },
     "metadata": {},
     "output_type": "display_data"
    },
    {
     "data": {
      "application/vnd.jupyter.widget-view+json": {
       "model_id": "b97a1757c03c4ab9ad9bd48040772de6",
       "version_major": 2,
       "version_minor": 0
      },
      "text/plain": [
       "  0%|          | 0/100 [00:00<?, ?it/s]"
      ]
     },
     "metadata": {},
     "output_type": "display_data"
    },
    {
     "data": {
      "application/vnd.jupyter.widget-view+json": {
       "model_id": "e9c5de4c37c246d8bae876328561655a",
       "version_major": 2,
       "version_minor": 0
      },
      "text/plain": [
       "  0%|          | 0/100 [00:00<?, ?it/s]"
      ]
     },
     "metadata": {},
     "output_type": "display_data"
    },
    {
     "data": {
      "application/vnd.jupyter.widget-view+json": {
       "model_id": "344c6a609b4d433a886c085fe6370b58",
       "version_major": 2,
       "version_minor": 0
      },
      "text/plain": [
       "  0%|          | 0/100 [00:00<?, ?it/s]"
      ]
     },
     "metadata": {},
     "output_type": "display_data"
    },
    {
     "data": {
      "application/vnd.jupyter.widget-view+json": {
       "model_id": "f53965686d9e4fb68038cac0b1ec3759",
       "version_major": 2,
       "version_minor": 0
      },
      "text/plain": [
       "  0%|          | 0/100 [00:00<?, ?it/s]"
      ]
     },
     "metadata": {},
     "output_type": "display_data"
    },
    {
     "data": {
      "application/vnd.jupyter.widget-view+json": {
       "model_id": "c2de0addfaed4edbbdc32afd749ae2a7",
       "version_major": 2,
       "version_minor": 0
      },
      "text/plain": [
       "  0%|          | 0/100 [00:00<?, ?it/s]"
      ]
     },
     "metadata": {},
     "output_type": "display_data"
    }
   ],
   "source": [
    "# On recupere les metriques pour dataset desequilibre\n",
    "acc_ro_lr,f1_ro_lr,recall_ro_lr,precision_ro_lr = ro_lr_model(X,y,X_test,y_test)\n",
    "\n",
    "\n",
    "# On recupere les metriques pour dataset desequilibre standarise\n",
    "acc_ro_lr_std,f1_ro_lr_std,recall_ro_lr_std,precision_ro_lr_std = ro_lr_model(X_std,y_std,X_test_std,y_test_std)\n",
    "\n",
    "\n",
    "# On recupere les metriques pour dataset equilibre avec smote\n",
    "acc_ro_lr_smote,f1_ro_lr_smote,recall_ro_lr_smote,precision_ro_lr_smote = ro_lr_model(X_smote,y_smote,X_test,y_test)\n",
    "\n",
    "\n",
    "\n",
    "# On recupere les metriques pour dataset equilibre avec smote standarise\n",
    "acc_ro_lr_smote_std,f1_ro_lr_smote_std,recall_ro_lr_smote_std,precision_ro_lr_smote_std = ro_lr_model(X_smote_std,y_smote,X_test_std,y_test_std)\n",
    "\n",
    "\n",
    "# On recupere les metriques pour dataset equilibre avec echantillonge vae\n",
    "acc_ro_lr_vae,f1_ro_lr_vae,recall_ro_lr_vae,precision_ro_lr_vae = ro_lr_model(X_vae,y_vae,X_test_std,y_test_std)\n",
    "\n",
    "\n",
    "\n",
    "# On recupere les metriques pour dataset equilibre avec interpolation vae\n",
    "acc_ro_lr_vae_interpolate,f1_ro_lr_vae_interpolate,recall_ro_lr_vae_interpolate,precision_ro_lr_vae_interpolate = ro_lr_model(X_vae_interpolate,y_vae_interpolate,X_test_std,y_test_std)\n"
   ]
  },
  {
   "cell_type": "code",
   "execution_count": null,
   "id": "d3dc61f5",
   "metadata": {},
   "outputs": [],
   "source": [
    "results['accuracy'].loc['RandomOverSampler + Logistic Regression'] = [acc_ro_lr,acc_ro_lr_std,acc_ro_lr_smote,acc_ro_lr_smote_std,acc_ro_lr_vae,acc_ro_lr_vae_interpolate]\n",
    "results['f1_score'].loc['RandomOverSampler + Logistic Regression'] = [f1_ro_lr,f1_ro_lr_std,f1_ro_lr_smote,f1_ro_lr_smote_std,f1_ro_lr_vae,f1_ro_lr_vae_interpolate]\n",
    "results['recall'].loc['RandomOverSampler + Logistic Regression'] = [recall_ro_lr,recall_ro_lr_std,recall_ro_lr_smote,recall_ro_lr_smote_std,recall_ro_lr_vae,recall_ro_lr_vae_interpolate]\n",
    "results['precision'].loc['RandomOverSampler + Logistic Regression'] = [precision_ro_lr,precision_ro_lr_std,precision_ro_lr_smote,precision_ro_lr_smote_std,precision_ro_lr_vae,precision_ro_lr_vae_interpolate]\n"
   ]
  },
  {
   "cell_type": "markdown",
   "id": "cb9eedbd",
   "metadata": {},
   "source": [
    "### RandomOverSampler + SVM"
   ]
  },
  {
   "cell_type": "code",
   "execution_count": null,
   "id": "586cdae1",
   "metadata": {},
   "outputs": [],
   "source": [
    "# cette fonction permet de definir la fonction objective à optimiser par le framework optuna\n",
    "# Elle contient les paramètres à optimiser et le pipeline constitué du RandomOverSampler et SVM\n",
    "def ro_svm_objective(trial,X,y,X_test,y_test):\n",
    "    kernel_svm = trial.suggest_categorical(\"kernel_svm\",[\"linear\",\"poly\",\"rbf\",\"sigmoid\"])\n",
    "    C_svm = trial.suggest_float(\"C_svm\",0.1,10)\n",
    "    svm = SVC(kernel=kernel_svm,C=C_svm)\n",
    "    pp = make_pipeline(RandomOverSampler(), svm)\n",
    "    pp.fit(X,y)\n",
    "    return lr.score(X_test,y_test)\n",
    "\n"
   ]
  },
  {
   "cell_type": "code",
   "execution_count": null,
   "id": "7a23cca8",
   "metadata": {},
   "outputs": [],
   "source": [
    "# Cette fonction permet de définir la fonction objective après de l'avoir optimisé pour nous permettre de calculer les différents métriques après optimisation\n",
    "def post_ro_svm_objective(trial,X,y,X_test,y_test):\n",
    "    kernel_svm = trial.suggest_categorical(\"kernel_svm\",[\"linear\",\"poly\",\"rbf\",\"sigmoid\"])\n",
    "    C_svm = trial.suggest_float(\"C_svm\",0.1,10)\n",
    "    svm = SVC(kernel=kernel_svm,C=C_svm)\n",
    "    pp = make_pipeline(RandomOverSampler(), svm)\n",
    "    pp.fit(X,y)\n",
    "    pred = pp.predict(X_test)\n",
    "    acc = accuracy_score(pred, y_test)\n",
    "    recall = recall_score(pred, y_test)\n",
    "    precision = precision_score(pred, y_test)\n",
    "    f1 = f1_score(pred, y_test)\n",
    "    \n",
    "    \n",
    "    return acc,f1, recall ,precision\n",
    "\n"
   ]
  },
  {
   "cell_type": "code",
   "execution_count": null,
   "id": "0be9f1ba",
   "metadata": {},
   "outputs": [],
   "source": [
    "# Cette fonction nous permets d'entrainer le modèle pour des différents inputs\n",
    "def ro_svm_model(X,y,X_test,y_test):\n",
    "    func = lambda trial: ro_svm_objective(trial, X,y,X_test,y_test)\n",
    "    optuna.logging.set_verbosity(optuna.logging.WARNING)\n",
    "    study = optuna.create_study(direction = 'maximize')\n",
    "    study.optimize(func,n_trials=100,show_progress_bar=True)\n",
    "    func_post = lambda trial: post_ro_svm_objective(trial, X,y,X_test,y_test)\n",
    "    acc, f1,recall, precision = func_post(study.best_trial)\n",
    "    return acc,f1,recall,precision\n",
    "    "
   ]
  },
  {
   "cell_type": "code",
   "execution_count": null,
   "id": "c662199b",
   "metadata": {},
   "outputs": [
    {
     "data": {
      "application/vnd.jupyter.widget-view+json": {
       "model_id": "4467c4b1b6ec4c55ba56a09b0e4c1bca",
       "version_major": 2,
       "version_minor": 0
      },
      "text/plain": [
       "  0%|          | 0/100 [00:00<?, ?it/s]"
      ]
     },
     "metadata": {},
     "output_type": "display_data"
    },
    {
     "data": {
      "application/vnd.jupyter.widget-view+json": {
       "model_id": "07beec7b3ec24acdb6c98c0d79e72599",
       "version_major": 2,
       "version_minor": 0
      },
      "text/plain": [
       "  0%|          | 0/100 [00:00<?, ?it/s]"
      ]
     },
     "metadata": {},
     "output_type": "display_data"
    },
    {
     "data": {
      "application/vnd.jupyter.widget-view+json": {
       "model_id": "5b6ffc4e5cbd45288d1507b98ea2dab1",
       "version_major": 2,
       "version_minor": 0
      },
      "text/plain": [
       "  0%|          | 0/100 [00:00<?, ?it/s]"
      ]
     },
     "metadata": {},
     "output_type": "display_data"
    },
    {
     "data": {
      "application/vnd.jupyter.widget-view+json": {
       "model_id": "8c2daa973c3947a8aa5fa1cb1013706d",
       "version_major": 2,
       "version_minor": 0
      },
      "text/plain": [
       "  0%|          | 0/100 [00:00<?, ?it/s]"
      ]
     },
     "metadata": {},
     "output_type": "display_data"
    },
    {
     "data": {
      "application/vnd.jupyter.widget-view+json": {
       "model_id": "5d324337e0d14c35992b4efd4a3939c6",
       "version_major": 2,
       "version_minor": 0
      },
      "text/plain": [
       "  0%|          | 0/100 [00:00<?, ?it/s]"
      ]
     },
     "metadata": {},
     "output_type": "display_data"
    },
    {
     "data": {
      "application/vnd.jupyter.widget-view+json": {
       "model_id": "5e35c604265648c6b702b96092798819",
       "version_major": 2,
       "version_minor": 0
      },
      "text/plain": [
       "  0%|          | 0/100 [00:00<?, ?it/s]"
      ]
     },
     "metadata": {},
     "output_type": "display_data"
    }
   ],
   "source": [
    "# On recupere les metriques pour dataset desequilibre\n",
    "acc_ro_svm,f1_ro_svm,recall_ro_svm,precision_ro_svm = ro_svm_model(X,y,X_test,y_test)\n",
    "\n",
    "\n",
    "# On recupere les metriques pour dataset desequilibre standarise\n",
    "acc_ro_svm_std,f1_ro_svm_std,recall_ro_svm_std,precision_ro_svm_std = ro_svm_model(X_std,y_std,X_test_std,y_test_std)\n",
    "\n",
    "\n",
    "# On recupere les metriques pour dataset equilibre avec smote\n",
    "acc_ro_svm_smote,f1_ro_svm_smote,recall_ro_svm_smote,precision_ro_svm_smote = ro_svm_model(X_smote,y_smote,X_test,y_test)\n",
    "\n",
    "\n",
    "\n",
    "# On recupere les metriques pour dataset equilibre avec smote standarise\n",
    "acc_ro_svm_smote_std,f1_ro_svm_smote_std,recall_ro_svm_smote_std,precision_ro_svm_smote_std = ro_svm_model(X_smote_std,y_smote,X_test_std,y_test_std)\n",
    "\n",
    "\n",
    "# On recupere les metriques pour dataset equilibre avec echantillonge vae\n",
    "acc_ro_svm_vae,f1_ro_svm_vae,recall_ro_svm_vae,precision_ro_svm_vae = ro_svm_model(X_vae,y_vae,X_test_std,y_test_std)\n",
    "\n",
    "\n",
    "\n",
    "# On recupere les metriques pour dataset equilibre avec interpolation vae\n",
    "acc_ro_svm_vae_interpolate,f1_ro_svm_vae_interpolate,recall_ro_svm_vae_interpolate,precision_ro_svm_vae_interpolate = ro_svm_model(X_vae_interpolate,y_vae_interpolate,X_test_std,y_test_std)\n"
   ]
  },
  {
   "cell_type": "code",
   "execution_count": null,
   "id": "264cc59e",
   "metadata": {},
   "outputs": [],
   "source": [
    "results['accuracy'].loc['RandomOverSampler + SVM'] = [acc_ro_svm,acc_ro_svm_std,acc_ro_svm_smote,acc_ro_svm_smote_std,acc_ro_svm_vae,acc_ro_svm_vae_interpolate]\n",
    "results['f1_score'].loc['RandomOverSampler + SVM'] = [f1_ro_svm,f1_ro_svm_std,f1_ro_svm_smote,f1_ro_svm_smote_std,f1_ro_svm_vae,f1_ro_svm_vae_interpolate]\n",
    "results['recall'].loc['RandomOverSampler + SVM'] = [recall_ro_svm,recall_ro_svm_std,recall_ro_svm_smote,recall_ro_svm_smote_std,recall_ro_svm_vae,recall_ro_svm_vae_interpolate]\n",
    "results['precision'].loc['RandomOverSampler + SVM'] = [precision_ro_svm,precision_ro_svm_std,precision_ro_svm_smote,precision_ro_svm_smote_std,precision_ro_svm_vae,precision_ro_svm_vae_interpolate]\n"
   ]
  },
  {
   "cell_type": "markdown",
   "id": "e8cc36e3",
   "metadata": {},
   "source": [
    "### RandomOverSampler + RandomForest"
   ]
  },
  {
   "cell_type": "code",
   "execution_count": null,
   "id": "f234a391",
   "metadata": {},
   "outputs": [],
   "source": [
    "# cette fonction permet de definir la fonction objective à optimiser par le framework optuna\n",
    "# Elle contient les paramètres à optimiser et le pipeline constitué du RandomOverSampler et SVM\n",
    "def ro_rf_objective(trial,X,y,X_test,y_test):\n",
    "    n_estimators_rf = trial.suggest_int(\"n_estimator\",20,1000)\n",
    "    criterion_rf = trial.suggest_categorical(\"criterion\",[\"gini\",\"entropy\",\"log_loss\"])\n",
    "    max_features_rf = trial.suggest_categorical(\"max_features\",[\"sqrt\",\"log2\",None])\n",
    "    rf = RandomForestClassifier(n_estimators=n_estimators_rf,criterion=criterion_rf, max_features = max_features_rf )\n",
    "    pp = make_pipeline(RandomOverSampler(), rf)\n",
    "    pp.fit(X,y)\n",
    "    return lr.score(X_test,y_test)\n",
    "\n"
   ]
  },
  {
   "cell_type": "code",
   "execution_count": null,
   "id": "40cedcb7",
   "metadata": {},
   "outputs": [],
   "source": [
    "# Cette fonction permet de définir la fonction objective après de l'avoir optimisé pour nous permettre de calculer les différents métriques après optimisation\n",
    "def post_ro_rf_objective(trial,X,y,X_test,y_test):\n",
    "    n_estimators_rf = trial.suggest_int(\"n_estimator\",20,1000)\n",
    "    criterion_rf = trial.suggest_categorical(\"criterion\",[\"gini\",\"entropy\",\"log_loss\"])\n",
    "    max_features_rf = trial.suggest_categorical(\"max_features\",[\"sqrt\",\"log2\",None])\n",
    "    rf = RandomForestClassifier(n_estimators=n_estimators_rf,criterion=criterion_rf, max_features = max_features_rf )\n",
    "    pp = make_pipeline(RandomOverSampler(), rf)\n",
    "    pp.fit(X,y)\n",
    "    pred = pp.predict(X_test)\n",
    "    acc = accuracy_score(pred, y_test)\n",
    "    recall = recall_score(pred, y_test)\n",
    "    precision = precision_score(pred, y_test)\n",
    "    f1 = f1_score(pred, y_test)\n",
    "    \n",
    "    \n",
    "    return acc,f1, recall ,precision\n",
    "\n"
   ]
  },
  {
   "cell_type": "code",
   "execution_count": null,
   "id": "af4c825a",
   "metadata": {},
   "outputs": [],
   "source": [
    "# Cette fonction nous permets d'entrainer le modèle pour des différents inputs\n",
    "def ro_rf_model(X,y,X_test,y_test):\n",
    "    func = lambda trial: ro_rf_objective(trial, X,y,X_test,y_test)\n",
    "    optuna.logging.set_verbosity(optuna.logging.WARNING)\n",
    "    study = optuna.create_study(direction = 'maximize')\n",
    "    study.optimize(func,n_trials=100,show_progress_bar=True)\n",
    "    func_post = lambda trial: post_ro_rf_objective(trial, X,y,X_test,y_test)\n",
    "    acc, f1,recall, precision = func_post(study.best_trial)\n",
    "    return acc,f1,recall,precision\n",
    "    "
   ]
  },
  {
   "cell_type": "code",
   "execution_count": null,
   "id": "d8921289",
   "metadata": {},
   "outputs": [
    {
     "data": {
      "application/vnd.jupyter.widget-view+json": {
       "model_id": "07332d323ad743228a37a50aef8b138f",
       "version_major": 2,
       "version_minor": 0
      },
      "text/plain": [
       "  0%|          | 0/100 [00:00<?, ?it/s]"
      ]
     },
     "metadata": {},
     "output_type": "display_data"
    },
    {
     "data": {
      "application/vnd.jupyter.widget-view+json": {
       "model_id": "ef8b414f351344fda5dce5836a26aa58",
       "version_major": 2,
       "version_minor": 0
      },
      "text/plain": [
       "  0%|          | 0/100 [00:00<?, ?it/s]"
      ]
     },
     "metadata": {},
     "output_type": "display_data"
    },
    {
     "data": {
      "application/vnd.jupyter.widget-view+json": {
       "model_id": "808347dac60d4d238b2faf12c0383722",
       "version_major": 2,
       "version_minor": 0
      },
      "text/plain": [
       "  0%|          | 0/100 [00:00<?, ?it/s]"
      ]
     },
     "metadata": {},
     "output_type": "display_data"
    },
    {
     "data": {
      "application/vnd.jupyter.widget-view+json": {
       "model_id": "7f3eb296678f4106a1fb3b52471511dc",
       "version_major": 2,
       "version_minor": 0
      },
      "text/plain": [
       "  0%|          | 0/100 [00:00<?, ?it/s]"
      ]
     },
     "metadata": {},
     "output_type": "display_data"
    },
    {
     "data": {
      "application/vnd.jupyter.widget-view+json": {
       "model_id": "ef214f821d5a45e9871f1a38a0cb655c",
       "version_major": 2,
       "version_minor": 0
      },
      "text/plain": [
       "  0%|          | 0/100 [00:00<?, ?it/s]"
      ]
     },
     "metadata": {},
     "output_type": "display_data"
    },
    {
     "data": {
      "application/vnd.jupyter.widget-view+json": {
       "model_id": "5279d5a9889648f39dce63d97899402a",
       "version_major": 2,
       "version_minor": 0
      },
      "text/plain": [
       "  0%|          | 0/100 [00:00<?, ?it/s]"
      ]
     },
     "metadata": {},
     "output_type": "display_data"
    }
   ],
   "source": [
    "# On recupere les metriques pour dataset desequilibre\n",
    "acc_ro_rf,f1_ro_rf,recall_ro_rf,precision_ro_rf = ro_rf_model(X,y,X_test,y_test)\n",
    "\n",
    "\n",
    "# On recupere les metriques pour dataset desequilibre standarise\n",
    "acc_ro_rf_std,f1_ro_rf_std,recall_ro_rf_std,precision_ro_rf_std = ro_rf_model(X_std,y_std,X_test_std,y_test_std)\n",
    "\n",
    "\n",
    "# On recupere les metriques pour dataset equilibre avec smote\n",
    "acc_ro_rf_smote,f1_ro_rf_smote,recall_ro_rf_smote,precision_ro_rf_smote = ro_rf_model(X_smote,y_smote,X_test,y_test)\n",
    "\n",
    "\n",
    "\n",
    "# On recupere les metriques pour dataset equilibre avec smote standarise\n",
    "acc_ro_rf_smote_std,f1_ro_rf_smote_std,recall_ro_rf_smote_std,precision_ro_rf_smote_std = ro_rf_model(X_smote_std,y_smote,X_test_std,y_test_std)\n",
    "\n",
    "\n",
    "# On recupere les metriques pour dataset equilibre avec echantillonge vae\n",
    "acc_ro_rf_vae,f1_ro_rf_vae,recall_ro_rf_vae,precision_ro_rf_vae = ro_rf_model(X_vae,y_vae,X_test_std,y_test_std)\n",
    "\n",
    "\n",
    "\n",
    "# On recupere les metriques pour dataset equilibre avec interpolation vae\n",
    "acc_ro_rf_vae_interpolate,f1_ro_rf_vae_interpolate,recall_ro_rf_vae_interpolate,precision_ro_rf_vae_interpolate = ro_rf_model(X_vae_interpolate,y_vae_interpolate,X_test_std,y_test_std)\n"
   ]
  },
  {
   "cell_type": "code",
   "execution_count": null,
   "id": "28fc4edc",
   "metadata": {},
   "outputs": [],
   "source": [
    "results['accuracy'].loc['RandomOverSampler + Random Forest'] = [acc_ro_rf,acc_ro_rf_std,acc_ro_rf_smote,acc_ro_rf_smote_std,acc_ro_rf_vae,acc_ro_rf_vae_interpolate]\n",
    "results['f1_score'].loc['RandomOverSampler + Random Forest'] = [f1_ro_rf,f1_ro_rf_std,f1_ro_rf_smote,f1_ro_rf_smote_std,f1_ro_rf_vae,f1_ro_rf_vae_interpolate]\n",
    "results['recall'].loc['RandomOverSampler + Random Forest'] = [recall_ro_rf,recall_ro_rf_std,recall_ro_rf_smote,recall_ro_rf_smote_std,recall_ro_rf_vae,recall_ro_rf_vae_interpolate]\n",
    "results['precision'].loc['RandomOverSampler + Random Forest'] = [precision_ro_rf,precision_ro_rf_std,precision_ro_rf_smote,precision_ro_rf_smote_std,precision_ro_rf_vae,precision_ro_rf_vae_interpolate]\n"
   ]
  },
  {
   "cell_type": "markdown",
   "id": "9cc83ee4",
   "metadata": {},
   "source": [
    "Dans cette partie, on s'interessera à apprendre un ensemble de plusieurs modèles de base avec bagging pour réduire la variance de nos prédictions."
   ]
  },
  {
   "cell_type": "markdown",
   "id": "1c757335",
   "metadata": {},
   "source": [
    "### Ensemble averaging of multiple Logistic Regression"
   ]
  },
  {
   "cell_type": "markdown",
   "id": "2b44118d",
   "metadata": {},
   "source": [
    "Lorsque nous utilisons un ensemble de classifieurs identiques, le \"BaggingClassifier\" de Sklearn est utilisé pour obtenir le score OOB (Out of bag) qui est un score très important dans la technique de bagging pour examiner les performances des classifieurs car il nous donne une idée de la précision à atteindre sur l'ensemble de test. Comme nous le savons tous, au cours de l'entrainement, des sous-échantillons sont fournis à chaque classifieur indépendant, mais dans la technique du \"bagging\", il peut arriver que le même échantillon soit transmis deux ou trois fois à l'un des autres classifieurs individuels. Ainsi, dans ce scénario, les échantillons qui sont nouveaux pour un classifieurs particulier, c'est-à-dire les échantillons qui n'ont pas déjà été vus, sont appelés échantillons \"out of bag\". Il sert le même objectif qu'un ensemble de test, car les instances OOB sont quelque chose qui n'a pas été vu auparavant. Nous pouvons obtenir le score OOB à l'aide de la fonction 'classifier.oob_score_' après avoir construit l'ensemble à l'aide du classificateur de mise en sac.\n",
    "\n"
   ]
  },
  {
   "cell_type": "code",
   "execution_count": null,
   "id": "8b17791c",
   "metadata": {},
   "outputs": [],
   "source": [
    "# cette fonction permet de definir la fonction objective à optimiser par le framework optuna\n",
    "# Elle contient les paramètres à optimiser et l'ensemble des regressions logistiques\n",
    "def bag_lr_objective(trial,X,y,X_test,y_test):\n",
    "    penalty_lr = trial.suggest_categorical(\"penalty_lr\",[\"l2\",\"none\"])\n",
    "    C_lr = trial.suggest_float(\"C_lr\",0.1,10)\n",
    "    lr = LogisticRegression(penalty=penalty_lr,C=C_lr)\n",
    "    logbagClf = BaggingClassifier(LogisticRegression(penalty=penalty_lr,C=C_lr), n_estimators = 400, oob_score = True)\n",
    "    logbagClf.fit(X, y)\n",
    "    pred = logbagClf.predict(X_test)\n",
    "    return accuracy_score(pred,y_test)\n",
    "\n"
   ]
  },
  {
   "cell_type": "code",
   "execution_count": null,
   "id": "5f98a48c",
   "metadata": {},
   "outputs": [],
   "source": [
    "# Cette fonction permet de définir la fonction objective après de l'avoir optimisé pour nous permettre de calculer les différents métriques après optimisation\n",
    "def post_bag_lr_objective(trial,X,y,X_test,y_test):\n",
    "    penalty_lr = trial.suggest_categorical(\"penalty_lr\",[\"l2\",\"none\"])\n",
    "    C_lr = trial.suggest_float(\"C_lr\",0.1,10)\n",
    "    lr = LogisticRegression(penalty=penalty_lr,C=C_lr)\n",
    "    logbagClf = BaggingClassifier(LogisticRegression(penalty=penalty_lr,C=C_lr), n_estimators = 400, oob_score = True)\n",
    "    logbagClf.fit(X, y)\n",
    "    pred = logbagClf.predict(X_test)\n",
    "    acc = accuracy_score(pred, y_test)\n",
    "    recall = recall_score(pred, y_test)\n",
    "    precision = precision_score(pred, y_test)\n",
    "    f1 = f1_score(pred, y_test)\n",
    "    \n",
    "    \n",
    "    return acc,f1, recall ,precision\n",
    "\n"
   ]
  },
  {
   "cell_type": "code",
   "execution_count": null,
   "id": "0e9bc235",
   "metadata": {},
   "outputs": [],
   "source": [
    "# Cette fonction nous permets d'entrainer le modèle pour des différents inputs\n",
    "def bag_lr_model(X,y,X_test,y_test):\n",
    "    func = lambda trial: bag_lr_objective(trial, X,y,X_test,y_test)\n",
    "    optuna.logging.set_verbosity(optuna.logging.WARNING)\n",
    "    study = optuna.create_study(direction = 'maximize')\n",
    "    study.optimize(func,n_trials=100,show_progress_bar=True)\n",
    "    func_post = lambda trial: post_bag_lr_objective(trial, X,y,X_test,y_test)\n",
    "    acc, f1,recall, precision = func_post(study.best_trial)\n",
    "    return acc,f1,recall,precision\n",
    "    "
   ]
  },
  {
   "cell_type": "code",
   "execution_count": null,
   "id": "61ffe153",
   "metadata": {},
   "outputs": [
    {
     "data": {
      "application/vnd.jupyter.widget-view+json": {
       "model_id": "455fd9b026644f168b0c59b8af2e5bc7",
       "version_major": 2,
       "version_minor": 0
      },
      "text/plain": [
       "  0%|          | 0/100 [00:00<?, ?it/s]"
      ]
     },
     "metadata": {},
     "output_type": "display_data"
    },
    {
     "data": {
      "application/vnd.jupyter.widget-view+json": {
       "model_id": "1c6651e450934e42932461bd7d7a4693",
       "version_major": 2,
       "version_minor": 0
      },
      "text/plain": [
       "  0%|          | 0/100 [00:00<?, ?it/s]"
      ]
     },
     "metadata": {},
     "output_type": "display_data"
    },
    {
     "data": {
      "application/vnd.jupyter.widget-view+json": {
       "model_id": "8c09e3ea912241329c8bd88f6229e84e",
       "version_major": 2,
       "version_minor": 0
      },
      "text/plain": [
       "  0%|          | 0/100 [00:00<?, ?it/s]"
      ]
     },
     "metadata": {},
     "output_type": "display_data"
    },
    {
     "data": {
      "application/vnd.jupyter.widget-view+json": {
       "model_id": "261a36839e524c639d689831da5a2caa",
       "version_major": 2,
       "version_minor": 0
      },
      "text/plain": [
       "  0%|          | 0/100 [00:00<?, ?it/s]"
      ]
     },
     "metadata": {},
     "output_type": "display_data"
    },
    {
     "data": {
      "application/vnd.jupyter.widget-view+json": {
       "model_id": "caab640115224d0da678b4e3fa808870",
       "version_major": 2,
       "version_minor": 0
      },
      "text/plain": [
       "  0%|          | 0/100 [00:00<?, ?it/s]"
      ]
     },
     "metadata": {},
     "output_type": "display_data"
    },
    {
     "data": {
      "application/vnd.jupyter.widget-view+json": {
       "model_id": "fb3a5bf55a394df4b92c5b1f984065cb",
       "version_major": 2,
       "version_minor": 0
      },
      "text/plain": [
       "  0%|          | 0/100 [00:00<?, ?it/s]"
      ]
     },
     "metadata": {},
     "output_type": "display_data"
    }
   ],
   "source": [
    "# On recupere les metriques pour dataset desequilibre\n",
    "acc_bag_lr,f1_bag_lr,recall_bag_lr,precision_bag_lr = bag_lr_model(X,y,X_test,y_test)\n",
    "\n",
    "\n",
    "# On recupere les metriques pour dataset desequilibre standarise\n",
    "acc_bag_lr_std,f1_bag_lr_std,recall_bag_lr_std,precision_bag_lr_std = bag_lr_model(X_std,y_std,X_test_std,y_test_std)\n",
    "\n",
    "\n",
    "# On recupere les metriques pour dataset equilibre avec smote\n",
    "acc_bag_lr_smote,f1_bag_lr_smote,recall_bag_lr_smote,precision_bag_lr_smote = bag_lr_model(X_smote,y_smote,X_test,y_test)\n",
    "\n",
    "\n",
    "\n",
    "# On recupere les metriques pour dataset equilibre avec smote standarise\n",
    "acc_bag_lr_smote_std,f1_bag_lr_smote_std,recall_bag_lr_smote_std,precision_bag_lr_smote_std = bag_lr_model(X_smote_std,y_smote,X_test_std,y_test_std)\n",
    "\n",
    "\n",
    "# On recupere les metriques pour dataset equilibre avec echantillonge vae\n",
    "acc_bag_lr_vae,f1_bag_lr_vae,recall_bag_lr_vae,precision_bag_lr_vae = bag_lr_model(X_vae,y_vae,X_test_std,y_test_std)\n",
    "\n",
    "\n",
    "\n",
    "# On recupere les metriques pour dataset equilibre avec interpolation vae\n",
    "acc_bag_lr_vae_interpolate,f1_bag_lr_vae_interpolate,recall_bag_lr_vae_interpolate,precision_bag_lr_vae_interpolate = bag_lr_model(X_vae_interpolate,y_vae_interpolate,X_test_std,y_test_std)\n"
   ]
  },
  {
   "cell_type": "code",
   "execution_count": null,
   "id": "85ad1e89",
   "metadata": {},
   "outputs": [],
   "source": [
    "results['accuracy'].loc['Bagging Ensemble of Logistic Regression'] = [acc_bag_lr,acc_bag_lr_std,acc_bag_lr_smote,acc_bag_lr_smote_std,acc_bag_lr_vae,acc_bag_lr_vae_interpolate]\n",
    "results['f1_score'].loc['Bagging Ensemble of Logistic Regression'] = [f1_bag_lr,f1_bag_lr_std,f1_bag_lr_smote,f1_bag_lr_smote_std,f1_bag_lr_vae,f1_bag_lr_vae_interpolate]\n",
    "results['recall'].loc['Bagging Ensemble of Logistic Regression'] = [recall_bag_lr,recall_bag_lr_std,recall_bag_lr_smote,recall_bag_lr_smote_std,recall_bag_lr_vae,recall_bag_lr_vae_interpolate]\n",
    "results['precision'].loc['Bagging Ensemble of Logistic Regression'] = [precision_bag_lr,precision_bag_lr_std,precision_bag_lr_smote,precision_bag_lr_smote_std,precision_bag_lr_vae,precision_bag_lr_vae_interpolate]"
   ]
  },
  {
   "cell_type": "markdown",
   "id": "07e796ef",
   "metadata": {},
   "source": [
    "### Ensemble averaging of multiple RandomForest "
   ]
  },
  {
   "cell_type": "code",
   "execution_count": null,
   "id": "47270011",
   "metadata": {},
   "outputs": [],
   "source": [
    "# cette fonction permet de definir la fonction objective à optimiser par le framework optuna\n",
    "# Elle contient les paramètres à optimiser et l'ensemble des regressions logistiques\n",
    "def bag_rf_objective(trial,X,y,X_test,y_test):\n",
    "    n_estimators_rf = trial.suggest_int(\"n_estimator\",20,1000)\n",
    "    criterion_rf = trial.suggest_categorical(\"criterion\",[\"gini\",\"entropy\",\"log_loss\"])\n",
    "    max_features_rf = trial.suggest_categorical(\"max_features\",[\"sqrt\",\"log2\",None])\n",
    "    logbagClf = BaggingClassifier(RandomForestClassifier(n_estimators=n_estimators_rf,criterion=criterion_rf, max_features = max_features_rf ), n_estimators = 400, oob_score = True,random_state=314)\n",
    "    logbagClf.fit(X, y)\n",
    "    pred = logbagClf.predict(X_test)\n",
    "    return accuracy_score(pred,y_test)\n",
    "\n"
   ]
  },
  {
   "cell_type": "code",
   "execution_count": null,
   "id": "b01637a3",
   "metadata": {},
   "outputs": [],
   "source": [
    "# Cette fonction permet de définir la fonction objective après de l'avoir optimisé pour nous permettre de calculer les différents métriques après optimisation\n",
    "def post_bag_rf_objective(trial,X,y,X_test,y_test):\n",
    "    n_estimators_rf = trial.suggest_int(\"n_estimator\",20,1000)\n",
    "    criterion_rf = trial.suggest_categorical(\"criterion\",[\"gini\",\"entropy\",\"log_loss\"])\n",
    "    max_features_rf = trial.suggest_categorical(\"max_features\",[\"sqrt\",\"log2\",None])\n",
    "    logbagClf = BaggingClassifier(RandomForestClassifier(n_estimators=n_estimators_rf,criterion=criterion_rf, max_features = max_features_rf ), n_estimators = 400, oob_score = True,random_state=314)\n",
    "    logbagClf.fit(X, y)\n",
    "    pred = logbagClf.predict(X_test)\n",
    "    \n",
    "    acc = accuracy_score(pred, y_test)\n",
    "    recall = recall_score(pred, y_test)\n",
    "    precision = precision_score(pred, y_test)\n",
    "    f1 = f1_score(pred, y_test)\n",
    "    \n",
    "    \n",
    "    return acc,f1, recall ,precision\n",
    "\n"
   ]
  },
  {
   "cell_type": "code",
   "execution_count": null,
   "id": "37cf7b9a",
   "metadata": {},
   "outputs": [],
   "source": [
    "# Cette fonction nous permets d'entrainer le modèle pour des différents inputs\n",
    "def bag_svm_model(X,y,X_test,y_test):\n",
    "    func = lambda trial: bag_rf_objective(trial, X,y,X_test,y_test)\n",
    "    optuna.logging.set_verbosity(optuna.logging.WARNING)\n",
    "    study = optuna.create_study(direction = 'maximize')\n",
    "    study.optimize(func,n_trials=10,show_progress_bar=True)\n",
    "    func_post = lambda trial: post_bag_rf_objective(trial, X,y,X_test,y_test)\n",
    "    acc, f1,recall, precision = func_post(study.best_trial)\n",
    "    return acc,f1,recall,precision\n",
    "    "
   ]
  },
  {
   "cell_type": "code",
   "execution_count": null,
   "id": "00dbd7dd",
   "metadata": {},
   "outputs": [
    {
     "data": {
      "application/vnd.jupyter.widget-view+json": {
       "model_id": "3b6302c00bcc409cb55bfef24f580ebd",
       "version_major": 2,
       "version_minor": 0
      },
      "text/plain": [
       "  0%|          | 0/10 [00:00<?, ?it/s]"
      ]
     },
     "metadata": {},
     "output_type": "display_data"
    },
    {
     "data": {
      "application/vnd.jupyter.widget-view+json": {
       "model_id": "445f24c5b8ef4318bfa368bb0dc36134",
       "version_major": 2,
       "version_minor": 0
      },
      "text/plain": [
       "  0%|          | 0/10 [00:00<?, ?it/s]"
      ]
     },
     "metadata": {},
     "output_type": "display_data"
    },
    {
     "data": {
      "application/vnd.jupyter.widget-view+json": {
       "model_id": "3a0c38aab2a24d4a860706278dda9bf8",
       "version_major": 2,
       "version_minor": 0
      },
      "text/plain": [
       "  0%|          | 0/10 [00:00<?, ?it/s]"
      ]
     },
     "metadata": {},
     "output_type": "display_data"
    },
    {
     "data": {
      "application/vnd.jupyter.widget-view+json": {
       "model_id": "c83e3b5a0f1a478f80b4c92b2c788401",
       "version_major": 2,
       "version_minor": 0
      },
      "text/plain": [
       "  0%|          | 0/10 [00:00<?, ?it/s]"
      ]
     },
     "metadata": {},
     "output_type": "display_data"
    },
    {
     "data": {
      "application/vnd.jupyter.widget-view+json": {
       "model_id": "fd47feaf61474ceeb7de40a7e71dea8f",
       "version_major": 2,
       "version_minor": 0
      },
      "text/plain": [
       "  0%|          | 0/10 [00:00<?, ?it/s]"
      ]
     },
     "metadata": {},
     "output_type": "display_data"
    },
    {
     "data": {
      "application/vnd.jupyter.widget-view+json": {
       "model_id": "4fb97a398f494a60ae11a1446476b58a",
       "version_major": 2,
       "version_minor": 0
      },
      "text/plain": [
       "  0%|          | 0/10 [00:00<?, ?it/s]"
      ]
     },
     "metadata": {},
     "output_type": "display_data"
    }
   ],
   "source": [
    "# On recupere les metriques pour dataset desequilibre\n",
    "acc_bag_svm,f1_bag_svm,recall_bag_svm,precision_bag_svm = bag_svm_model(X,y,X_test,y_test)\n",
    "\n",
    "\n",
    "# On recupere les metriques pour dataset desequilibre standarise\n",
    "acc_bag_svm_std,f1_bag_svm_std,recall_bag_svm_std,precision_bag_svm_std = bag_svm_model(X_std,y_std,X_test_std,y_test_std)\n",
    "\n",
    "\n",
    "# On recupere les metriques pour dataset equilibre avec smote\n",
    "acc_bag_svm_smote,f1_bag_svm_smote,recall_bag_svm_smote,precision_bag_svm_smote = bag_svm_model(X_smote,y_smote,X_test,y_test)\n",
    "\n",
    "\n",
    "\n",
    "# On recupere les metriques pour dataset equilibre avec smote standarise\n",
    "acc_bag_svm_smote_std,f1_bag_svm_smote_std,recall_bag_svm_smote_std,precision_bag_svm_smote_std = bag_svm_model(X_smote_std,y_smote,X_test_std,y_test_std)\n",
    "\n",
    "\n",
    "# On recupere les metriques pour dataset equilibre avec echantillonge vae\n",
    "acc_bag_svm_vae,f1_bag_svm_vae,recall_bag_svm_vae,precision_bag_svm_vae = bag_svm_model(X_vae,y_vae,X_test_std,y_test_std)\n",
    "\n",
    "\n",
    "\n",
    "# On recupere les metriques pour dataset equilibre avec interpolation vae\n",
    "acc_bag_svm_vae_interpolate,f1_bag_svm_vae_interpolate,recall_bag_svm_vae_interpolate,precision_bag_svm_vae_interpolate = bag_svm_model(X_vae_interpolate,y_vae_interpolate,X_test_std,y_test_std)\n"
   ]
  },
  {
   "cell_type": "code",
   "execution_count": null,
   "id": "25e930a3",
   "metadata": {},
   "outputs": [],
   "source": [
    "results['accuracy'].loc['Bagging Ensemble of Random Forest'] = [acc_bag_svm,acc_bag_svm_std,acc_bag_svm_smote,acc_bag_svm_smote_std,acc_bag_svm_vae,acc_bag_svm_vae_interpolate]\n",
    "results['f1_score'].loc['Bagging Ensemble of Random Forest'] = [f1_bag_svm,f1_bag_svm_std,f1_bag_svm_smote,f1_bag_svm_smote_std,f1_bag_svm_vae,f1_bag_svm_vae_interpolate]\n",
    "results['recall'].loc['Bagging Ensemble of Random Forest'] = [recall_bag_svm,recall_bag_svm_std,recall_bag_svm_smote,recall_bag_svm_smote_std,recall_bag_svm_vae,recall_bag_svm_vae_interpolate]\n",
    "results['precision'].loc['Bagging Ensemble of Random Forest'] = [precision_bag_svm,precision_bag_svm_std,precision_bag_svm_smote,precision_bag_svm_smote_std,precision_bag_svm_vae,precision_bag_svm_vae_interpolate]"
   ]
  }
 ],
 "metadata": {
  "kernelspec": {
   "display_name": "Python 3 (ipykernel)",
   "language": "python",
   "name": "python3"
  },
  "language_info": {
   "codemirror_mode": {
    "name": "ipython",
    "version": 3
   },
   "file_extension": ".py",
   "mimetype": "text/x-python",
   "name": "python",
   "nbconvert_exporter": "python",
   "pygments_lexer": "ipython3",
   "version": "3.9.12"
  }
 },
 "nbformat": 4,
 "nbformat_minor": 5
}
